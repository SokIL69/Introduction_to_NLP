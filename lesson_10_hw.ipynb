{
 "cells": [
  {
   "cell_type": "markdown",
   "metadata": {
    "id": "R7WdpNLAlrV-"
   },
   "source": [
    "# Введение в обработку естественного языка\n",
    "# Урок 10. Машинный перевод. Модель seq2seq и механизм внимания"
   ]
  },
  {
   "cell_type": "markdown",
   "metadata": {
    "id": "k7RQIkpAlrWU"
   },
   "source": [
    "# <font color='red'>Практическое задание</font>"
   ]
  },
  {
   "cell_type": "markdown",
   "metadata": {
    "id": "E5UnfsmulrWZ"
   },
   "source": [
    "### Домашнее задание к уроку 10\n",
    "\n",
    "__Задание__<br>\n",
    "Разобраться с моделькой перевода как она устроена<br>\n",
    "запустить для перевода с русского на английский (при желании можно взять другие пары языков) два варианта с вниманием и без внимания\n",
    "оценить качество насколько корректно переводит (для теста отобрать примеры с увеличением длины текста) (так как оценка визуальная достаточно 20-ти примеров в тестовой выборке)"
   ]
  },
  {
   "cell_type": "markdown",
   "metadata": {
    "id": "G5XqaGaSlrWc"
   },
   "source": [
    "Выполнил ___Соковнин ИЛ___"
   ]
  },
  {
   "cell_type": "markdown",
   "metadata": {
    "id": "h1aubmxwsEgi"
   },
   "source": [
    "# Neural machine translation"
   ]
  },
  {
   "cell_type": "code",
   "execution_count": 8,
   "metadata": {
    "id": "eIT78HUClrWg"
   },
   "outputs": [],
   "source": [
    "import tensorflow as tf\n",
    "\n",
    "import matplotlib.pyplot as plt\n",
    "import matplotlib.ticker as ticker\n",
    "from sklearn.model_selection import train_test_split\n",
    "\n",
    "import unicodedata\n",
    "import re\n",
    "import numpy as np\n",
    "import os\n",
    "import io\n",
    "import time"
   ]
  },
  {
   "cell_type": "markdown",
   "metadata": {
    "id": "pTp71gb1sMpl"
   },
   "source": [
    "## Download and prepare the dataset\n",
    "## Загрузка и установка датасета\n",
    "\n",
    "We'll use a language dataset provided by http://www.manythings.org/anki/"
   ]
  },
  {
   "cell_type": "code",
   "execution_count": 2,
   "metadata": {
    "colab": {
     "base_uri": "https://localhost:8080/"
    },
    "id": "LVKUyzBNlrWj",
    "outputId": "d8262a4c-2d70-4cf5-d168-6ff13982031a"
   },
   "outputs": [
    {
     "name": "stdout",
     "output_type": "stream",
     "text": [
      "--2022-06-25 15:32:24--  http://www.manythings.org/anki/rus-eng.zip\n",
      "Resolving www.manythings.org (www.manythings.org)... 104.21.92.44, 172.67.186.54, 2606:4700:3030::6815:5c2c, ...\n",
      "Connecting to www.manythings.org (www.manythings.org)|104.21.92.44|:80... connected.\n",
      "HTTP request sent, awaiting response... 200 OK\n",
      "Length: 14819554 (14M) [application/zip]\n",
      "Saving to: ‘rus-eng.zip’\n",
      "\n",
      "rus-eng.zip         100%[===================>]  14.13M  67.5MB/s    in 0.2s    \n",
      "\n",
      "2022-06-25 15:32:24 (67.5 MB/s) - ‘rus-eng.zip’ saved [14819554/14819554]\n",
      "\n"
     ]
    }
   ],
   "source": [
    "!wget http://www.manythings.org/anki/rus-eng.zip"
   ]
  },
  {
   "cell_type": "code",
   "execution_count": 3,
   "metadata": {
    "colab": {
     "base_uri": "https://localhost:8080/"
    },
    "id": "NG9T2d7SlrWr",
    "outputId": "debaf3a8-b091-41eb-a2c1-01813f39f7b0"
   },
   "outputs": [
    {
     "name": "stdout",
     "output_type": "stream",
     "text": [
      "Archive:  rus-eng.zip\n",
      "  inflating: rus-eng/rus.txt         \n",
      "  inflating: rus-eng/_about.txt      \n"
     ]
    }
   ],
   "source": [
    "!mkdir rus-eng\n",
    "!unzip rus-eng.zip -d rus-eng/"
   ]
  },
  {
   "cell_type": "code",
   "execution_count": 4,
   "metadata": {
    "colab": {
     "base_uri": "https://localhost:8080/"
    },
    "id": "BObNxYcqlrWs",
    "outputId": "9b03584a-9dff-4d54-8211-75f9ff558954"
   },
   "outputs": [
    {
     "name": "stdout",
     "output_type": "stream",
     "text": [
      "total 71M\n",
      "drwxr-xr-x 2 root root 4.0K Jun 25 15:32 .\n",
      "drwxr-xr-x 1 root root 4.0K Jun 25 15:32 ..\n",
      "-rw-r--r-- 1 root root 1.5K May  2 01:29 _about.txt\n",
      "-rw-r--r-- 1 root root  71M May  2 01:29 rus.txt\n"
     ]
    }
   ],
   "source": [
    "!ls /content/rus-eng/ -lah"
   ]
  },
  {
   "cell_type": "code",
   "execution_count": 5,
   "metadata": {
    "id": "kWlMUu0ntb95"
   },
   "outputs": [],
   "source": [
    "# Download the file\n",
    "path_to_file = \"/content/rus-eng/rus.txt\""
   ]
  },
  {
   "cell_type": "code",
   "execution_count": 6,
   "metadata": {
    "id": "Sl0mkoW1thze"
   },
   "outputs": [],
   "source": [
    "def preprocess_sentence(w):\n",
    "  \n",
    "  # strip() - возвращает копию строки с удаленными начальными и конечными символами (https://pythonstart.ru/string/strip-python). \n",
    "  w = w.lower().strip()\n",
    "\n",
    "  # creating a space between a word and the punctuation following it\n",
    "  # eg: \"he is a boy.\" => \"he is a boy .\"\n",
    "  # Reference:- https://stackoverflow.com/questions/3645931/python-padding-punctuation-with-white-spaces-keeping-punctuation\n",
    "  w = re.sub(r\"([?.!,])\", r\" \\1 \", w)\n",
    "  w = re.sub(r'[\" \"]+', \" \", w)\n",
    "\n",
    "  # replacing everything with space except (a-z, A-Z, \".\", \"?\", \"!\", \",\")\n",
    "  w = re.sub(r\"[^a-zA-Zа-яА-Я?.!,']+\", \" \", w)\n",
    "\n",
    "  w = w.strip()\n",
    "\n",
    "  # adding a start and an end token to the sentence\n",
    "  # so that the model know when to start and stop predicting.\n",
    "  w = '<start> ' + w + ' <end>'\n",
    "\n",
    "  return w"
   ]
  },
  {
   "cell_type": "code",
   "execution_count": 9,
   "metadata": {
    "colab": {
     "base_uri": "https://localhost:8080/",
     "height": 36
    },
    "id": "NyH7Rk2Ftq8I",
    "outputId": "8fc9d722-2838-45da-eb42-f69b779113e8"
   },
   "outputs": [
    {
     "data": {
      "application/vnd.google.colaboratory.intrinsic+json": {
       "type": "string"
      },
      "text/plain": [
       "\"<start> i can't go . <end>\""
      ]
     },
     "execution_count": 9,
     "metadata": {},
     "output_type": "execute_result"
    }
   ],
   "source": [
    "preprocess_sentence(\"I can't go.\")"
   ]
  },
  {
   "cell_type": "code",
   "execution_count": 10,
   "metadata": {
    "id": "-krpMEHdts85"
   },
   "outputs": [],
   "source": [
    "# 1. Remove the accents (Убираем акценты)\n",
    "# 2. Clean the sentences (Очистите предложения)\n",
    "# 3. Return word pairs in the format: [ENG, RUS] (Вернуть пары слов в формате: [ENG, RUS])\n",
    "def create_dataset(path, num_examples):\n",
    "  lines = io.open(path, encoding='UTF-8').read().strip().split('\\n')\n",
    "\n",
    "  word_pairs = [[preprocess_sentence(w) for w in l.split('\\t')[:2]]  for l in lines[:num_examples]]\n",
    "\n",
    "  return zip(*word_pairs)"
   ]
  },
  {
   "cell_type": "code",
   "execution_count": 11,
   "metadata": {
    "colab": {
     "base_uri": "https://localhost:8080/"
    },
    "id": "Hh1gsXF4xMOS",
    "outputId": "82441bc3-29e2-4577-89a1-03a8d860727e"
   },
   "outputs": [
    {
     "name": "stdout",
     "output_type": "stream",
     "text": [
      "<start> go . <end>\n",
      "<start> марш ! <end>\n"
     ]
    }
   ],
   "source": [
    "lines = io.open(path_to_file, encoding='UTF-8').read().strip().split('\\n')\n",
    "num_examples = 1\n",
    "\n",
    "for l in lines[:num_examples]:\n",
    "  for w in l.split('\\t')[:2]:\n",
    "    print(preprocess_sentence(w))"
   ]
  },
  {
   "cell_type": "code",
   "execution_count": 12,
   "metadata": {
    "colab": {
     "base_uri": "https://localhost:8080/"
    },
    "id": "vudOHRZWxMbf",
    "outputId": "80fd41b4-e06c-46e0-e920-98f3640d7d1e"
   },
   "outputs": [
    {
     "name": "stdout",
     "output_type": "stream",
     "text": [
      "<start> go . <end>\n",
      "<start> марш ! <end>\n"
     ]
    }
   ],
   "source": [
    "en, ru = create_dataset(path_to_file, None)\n",
    "print(en[0])\n",
    "print(ru[0])"
   ]
  },
  {
   "cell_type": "code",
   "execution_count": 13,
   "metadata": {
    "colab": {
     "base_uri": "https://localhost:8080/"
    },
    "id": "tKMFqy0ugSGv",
    "outputId": "ac05749a-bd5a-47f8-8280-51d9e64ada4a"
   },
   "outputs": [
    {
     "name": "stdout",
     "output_type": "stream",
     "text": [
      "<start> doubtless there exists in this world precisely the right woman for any given man to marry and vice versa but when you consider that a human being has the opportunity of being acquainted with only a few hundred people , and out of the few hundred that there are but a dozen or less whom he knows intimately , and out of the dozen , one or two friends at most , it will easily be seen , when we remember the number of millions who inhabit this world , that probably , since the earth was created , the right man has never yet met the right woman . <end>\n",
      "<start> несомненно , для каждого мужчины в этом мире где то есть подходящая женщина , которая может стать ему женой , обратное верно и для женщин . но если учесть , что у человека может быть максимум несколько сотен знакомых , из которых лишь дюжина , а то и меньше , тех , кого он знает близко , а из этой дюжины у него один или от силы два друга , то можно легко увидеть , что с уч том миллионов живущих на земле людей , ни один подходящий мужчина , возможно , ещ не встретил подходящую женщину . <end>\n"
     ]
    }
   ],
   "source": [
    "print(en[-1])\n",
    "print(ru[-1])"
   ]
  },
  {
   "cell_type": "code",
   "execution_count": 14,
   "metadata": {
    "id": "QJq_h_j5xMfM"
   },
   "outputs": [],
   "source": [
    "def tokenize(lang):\n",
    "  \"\"\" \n",
    "    Токенизация текста\n",
    "\n",
    "    https://www.tensorflow.org/api_docs/python/tf/keras/preprocessing/text/Tokenizer\n",
    "    https://www.tensorflow.org/api_docs/python/tf/keras/utils/pad_sequences\n",
    "  \n",
    "  \"\"\"\n",
    "\n",
    "  # Служебный класс для токенизации текста.\n",
    "  # Этот класс позволяет векторизовать текстовый корпус.\n",
    "  lang_tokenizer = tf.keras.preprocessing.text.Tokenizer(filters='')\n",
    "  \n",
    "  lang_tokenizer.fit_on_texts(lang)  # Обновляет внутренний словарь на основе списка текстов.\n",
    "\n",
    "  tensor = lang_tokenizer.texts_to_sequences(lang)  # Transforms each text in texts to a sequence of integers\n",
    "\n",
    "  tensor = tf.keras.preprocessing.sequence.pad_sequences(tensor,\n",
    "                                                         padding='post')  # Pads sequences to the same length (post - after).\n",
    "\n",
    "  return tensor, lang_tokenizer"
   ]
  },
  {
   "cell_type": "code",
   "execution_count": 15,
   "metadata": {
    "id": "yUL7Uvaz22pb"
   },
   "outputs": [],
   "source": [
    "def load_dataset(path, num_examples=None):\n",
    "  # creating cleaned input, output pairs\n",
    "  \n",
    "  targ_lang, inp_lang = create_dataset(path, num_examples)\n",
    "\n",
    "  input_tensor, inp_lang_tokenizer = tokenize(inp_lang)\n",
    "  target_tensor, targ_lang_tokenizer = tokenize(targ_lang)\n",
    "\n",
    "  return input_tensor, target_tensor, inp_lang_tokenizer, targ_lang_tokenizer"
   ]
  },
  {
   "cell_type": "markdown",
   "metadata": {
    "id": "wrTE-S0o4-T1"
   },
   "source": [
    "### Limit the size of the dataset to experiment faster (optional)\n",
    "### Ограничим размер датасета для ускорения эксперимента (опционально)"
   ]
  },
  {
   "cell_type": "code",
   "execution_count": 16,
   "metadata": {
    "colab": {
     "base_uri": "https://localhost:8080/"
    },
    "id": "9N71VVTQ4nM8",
    "outputId": "6f56d53e-d1ff-4c12-b20c-c5c571f7f44b"
   },
   "outputs": [
    {
     "data": {
      "text/plain": [
       "(444587, 444587)"
      ]
     },
     "execution_count": 16,
     "metadata": {},
     "output_type": "execute_result"
    }
   ],
   "source": [
    "len(en), len(ru)"
   ]
  },
  {
   "cell_type": "code",
   "execution_count": 17,
   "metadata": {
    "id": "Q05tsnFu4nSj"
   },
   "outputs": [],
   "source": [
    "# Try experimenting with the size of that dataset\n",
    "num_examples = 100000\n",
    "input_tensor, target_tensor, inp_lang, targ_lang = load_dataset(path_to_file, num_examples)\n",
    "\n",
    "# Calculate max_length of the target tensors\n",
    "max_length_targ, max_length_inp = target_tensor.shape[1], input_tensor.shape[1]"
   ]
  },
  {
   "cell_type": "code",
   "execution_count": 18,
   "metadata": {
    "colab": {
     "base_uri": "https://localhost:8080/"
    },
    "id": "WNDj_mxt4nVt",
    "outputId": "839ddf4f-ba3a-4e09-ff41-53e0a1afbe3d"
   },
   "outputs": [
    {
     "data": {
      "text/plain": [
       "(11, 15)"
      ]
     },
     "execution_count": 18,
     "metadata": {},
     "output_type": "execute_result"
    }
   ],
   "source": [
    "max_length_targ, max_length_inp"
   ]
  },
  {
   "cell_type": "code",
   "execution_count": 19,
   "metadata": {
    "colab": {
     "base_uri": "https://localhost:8080/"
    },
    "id": "MvT5narI5fcB",
    "outputId": "e8e4a7ff-6f43-456c-c1e2-a35ec31cc5be"
   },
   "outputs": [
    {
     "name": "stdout",
     "output_type": "stream",
     "text": [
      "80000 80000 20000 20000\n"
     ]
    }
   ],
   "source": [
    "# Creating training and validation sets using an 80-20 split\n",
    "input_tensor_train, input_tensor_val, target_tensor_train, target_tensor_val = train_test_split(input_tensor, target_tensor, test_size=0.2)\n",
    "\n",
    "# Show length\n",
    "print(len(input_tensor_train), len(target_tensor_train), len(input_tensor_val), len(target_tensor_val))"
   ]
  },
  {
   "cell_type": "code",
   "execution_count": 20,
   "metadata": {
    "id": "AIJVOAaH5nc5"
   },
   "outputs": [],
   "source": [
    "def convert(lang, tensor):\n",
    "  for t in tensor:\n",
    "    if t!=0:\n",
    "      print (\"%d ----> %s\" % (t, lang.index_word[t]))"
   ]
  },
  {
   "cell_type": "code",
   "execution_count": 21,
   "metadata": {
    "colab": {
     "base_uri": "https://localhost:8080/"
    },
    "id": "m2dPVQ_75t80",
    "outputId": "94acff7a-4560-4d0e-b201-ba7783d2fa15"
   },
   "outputs": [
    {
     "name": "stdout",
     "output_type": "stream",
     "text": [
      "Input Language; index to word mapping\n",
      "1 ----> <start>\n",
      "30 ----> как\n",
      "210 ----> этим\n",
      "10386 ----> пользуются\n",
      "5 ----> ?\n",
      "2 ----> <end>\n",
      "\n",
      "Target Language; index to word mapping\n",
      "1 ----> <start>\n",
      "49 ----> how\n",
      "15 ----> do\n",
      "4 ----> i\n",
      "271 ----> use\n",
      "19 ----> this\n",
      "6 ----> ?\n",
      "2 ----> <end>\n"
     ]
    }
   ],
   "source": [
    "print (\"Input Language; index to word mapping\")\n",
    "convert(inp_lang, input_tensor_train[0])\n",
    "print ()\n",
    "print (\"Target Language; index to word mapping\")\n",
    "convert(targ_lang, target_tensor_train[0])"
   ]
  },
  {
   "cell_type": "markdown",
   "metadata": {
    "id": "JqVmu5hJ69el"
   },
   "source": [
    "### Create a tf.data dataset"
   ]
  },
  {
   "cell_type": "code",
   "execution_count": 22,
   "metadata": {
    "id": "tfCfbhvI59Q0"
   },
   "outputs": [],
   "source": [
    "BUFFER_SIZE = len(input_tensor_train)\n",
    "BATCH_SIZE = 64\n",
    "steps_per_epoch = len(input_tensor_train)//BATCH_SIZE\n",
    "embedding_dim = 256\n",
    "units = 1024\n",
    "vocab_inp_size = len(inp_lang.word_index)+1\n",
    "vocab_tar_size = len(targ_lang.word_index)+1\n",
    "\n",
    "dataset = tf.data.Dataset.from_tensor_slices((input_tensor_train, target_tensor_train)).shuffle(BUFFER_SIZE)\n",
    "dataset = dataset.batch(BATCH_SIZE, drop_remainder=True)"
   ]
  },
  {
   "cell_type": "code",
   "execution_count": 23,
   "metadata": {
    "colab": {
     "base_uri": "https://localhost:8080/"
    },
    "id": "H3aTYG627CbK",
    "outputId": "6bee9157-7979-4ef6-892b-bdfe6d9d4711"
   },
   "outputs": [
    {
     "data": {
      "text/plain": [
       "(TensorShape([64, 15]), TensorShape([64, 11]))"
      ]
     },
     "execution_count": 23,
     "metadata": {},
     "output_type": "execute_result"
    }
   ],
   "source": [
    "example_input_batch, example_target_batch = next(iter(dataset))\n",
    "example_input_batch.shape, example_target_batch.shape"
   ]
  },
  {
   "cell_type": "code",
   "execution_count": 26,
   "metadata": {
    "id": "THMmL5q_7FB9"
   },
   "outputs": [],
   "source": [
    "class Encoder(tf.keras.Model):\n",
    "  def __init__(self, vocab_size, embedding_dim, enc_units, batch_sz):\n",
    "    super(Encoder, self).__init__()\n",
    "    self.batch_sz = batch_sz\n",
    "    self.enc_units = enc_units\n",
    "    self.embedding = tf.keras.layers.Embedding(vocab_size, embedding_dim)\n",
    "    self.gru = tf.keras.layers.GRU(self.enc_units,\n",
    "                                   return_sequences=False,\n",
    "                                   return_state=True,\n",
    "                                   recurrent_initializer='glorot_uniform')\n",
    "    \n",
    "\n",
    "  def call(self, x, hidden):\n",
    "    x = self.embedding(x)\n",
    "    output, state = self.gru(x, initial_state = hidden)\n",
    "    return state\n",
    "\n",
    "  def initialize_hidden_state(self):\n",
    "    return tf.zeros((self.batch_sz, self.enc_units))"
   ]
  },
  {
   "cell_type": "markdown",
   "metadata": {
    "id": "02tzBiJKigRD"
   },
   "source": [
    "# <font color='red'>Neural machine translation</font>"
   ]
  },
  {
   "cell_type": "code",
   "execution_count": 27,
   "metadata": {
    "colab": {
     "base_uri": "https://localhost:8080/"
    },
    "id": "J2sgae3j7Gh6",
    "outputId": "ee399e9b-f1ef-45ae-f120-9405c0611866"
   },
   "outputs": [
    {
     "name": "stdout",
     "output_type": "stream",
     "text": [
      "Encoder Hidden state shape: (batch size, units) (64, 1024)\n"
     ]
    }
   ],
   "source": [
    "encoder = Encoder(vocab_inp_size, embedding_dim, units, BATCH_SIZE)\n",
    "\n",
    "# sample input\n",
    "sample_hidden = encoder.initialize_hidden_state()\n",
    "sample_hidden = encoder(example_input_batch, sample_hidden)\n",
    "# print ('Encoder output shape: (batch size, sequence length, units) {}'.format(sample_output.shape))\n",
    "print ('Encoder Hidden state shape: (batch size, units) {}'.format(sample_hidden.shape))"
   ]
  },
  {
   "cell_type": "code",
   "execution_count": 28,
   "metadata": {
    "id": "zAC7A5my7Grf"
   },
   "outputs": [],
   "source": [
    "class Decoder(tf.keras.Model):\n",
    "  def __init__(self, vocab_size, embedding_dim, dec_units, batch_sz):\n",
    "    super(Decoder, self).__init__()\n",
    "    self.batch_sz = batch_sz\n",
    "    self.dec_units = dec_units\n",
    "    self.embedding = tf.keras.layers.Embedding(vocab_size, embedding_dim)\n",
    "    self.gru = tf.keras.layers.GRU(self.dec_units,\n",
    "                                   return_sequences=True,\n",
    "                                   return_state=True,\n",
    "                                   recurrent_initializer='glorot_uniform')\n",
    "    self.fc = tf.keras.layers.Dense(vocab_size)\n",
    "\n",
    "  def call(self, x, hidden):\n",
    "    # enc_output shape == (batch_size, max_length, hidden_size)\n",
    "\n",
    "    # x shape after passing through embedding == (batch_size, 1, embedding_dim)\n",
    "    x = self.embedding(x)\n",
    "\n",
    "    # x shape after concatenation == (batch_size, 1, embedding_dim + hidden_size)\n",
    "\n",
    "    # passing the concatenated vector to the GRU\n",
    "    output, state = self.gru(x, initial_state=hidden)\n",
    "\n",
    "    # output shape == (batch_size * 1, hidden_size)\n",
    "    output = tf.reshape(output, (-1, output.shape[2]))\n",
    "\n",
    "    # output shape == (batch_size, vocab)\n",
    "    x = self.fc(output)\n",
    "\n",
    "    return x, state"
   ]
  },
  {
   "cell_type": "code",
   "execution_count": 29,
   "metadata": {
    "id": "fmBJQuL47G1v"
   },
   "outputs": [],
   "source": [
    "decoder = Decoder(vocab_tar_size, embedding_dim, units, BATCH_SIZE)\n",
    "\n",
    "decoder_sample_x, decoder_sample_h = decoder(tf.random.uniform((BATCH_SIZE, 1)),\n",
    "                                      sample_hidden)"
   ]
  },
  {
   "cell_type": "code",
   "execution_count": 30,
   "metadata": {
    "colab": {
     "base_uri": "https://localhost:8080/"
    },
    "id": "3Kd-ru2u7G-3",
    "outputId": "5007fb9a-dfd7-476f-c9b3-f009bfc88f2a"
   },
   "outputs": [
    {
     "data": {
      "text/plain": [
       "TensorShape([64, 7334])"
      ]
     },
     "execution_count": 30,
     "metadata": {},
     "output_type": "execute_result"
    }
   ],
   "source": [
    "decoder_sample_x.shape"
   ]
  },
  {
   "cell_type": "code",
   "execution_count": 31,
   "metadata": {
    "colab": {
     "base_uri": "https://localhost:8080/"
    },
    "id": "x-ROjjmq8JL7",
    "outputId": "a14f4973-a47a-48ff-f2e3-1c7438f5a0bc"
   },
   "outputs": [
    {
     "data": {
      "text/plain": [
       "TensorShape([64, 1024])"
      ]
     },
     "execution_count": 31,
     "metadata": {},
     "output_type": "execute_result"
    }
   ],
   "source": [
    "decoder_sample_h.shape"
   ]
  },
  {
   "cell_type": "markdown",
   "metadata": {
    "id": "BqLn8-GN8PeB"
   },
   "source": [
    "## Define the optimizer and the loss function"
   ]
  },
  {
   "cell_type": "code",
   "execution_count": 32,
   "metadata": {
    "id": "EsvRgzrD8Knx"
   },
   "outputs": [],
   "source": [
    "optimizer = tf.keras.optimizers.Adam()\n",
    "\n",
    "loss_object = tf.keras.losses.SparseCategoricalCrossentropy(\n",
    "    from_logits=True, reduction='none')\n",
    "\n",
    "def loss_function(real, pred):\n",
    "  mask = tf.math.logical_not(tf.math.equal(real, 0))\n",
    "  loss_ = loss_object(real, pred)\n",
    "\n",
    "  mask = tf.cast(mask, dtype=loss_.dtype)\n",
    "  loss_ *= mask\n",
    "\n",
    "  return tf.reduce_mean(loss_)"
   ]
  },
  {
   "cell_type": "markdown",
   "metadata": {
    "id": "obGYLu-Z8ghU"
   },
   "source": [
    "## Checkpoints (Object-based saving)\n",
    "## Контрольные точки (Object-based saving)"
   ]
  },
  {
   "cell_type": "code",
   "execution_count": 33,
   "metadata": {
    "id": "-BxcahkF8SYZ"
   },
   "outputs": [],
   "source": [
    "checkpoint_dir = './training_checkpoints'\n",
    "\n",
    "checkpoint_prefix = os.path.join(checkpoint_dir, \"ckpt\")\n",
    "\n",
    "checkpoint = tf.train.Checkpoint(optimizer=optimizer,\n",
    "                                 encoder=encoder,\n",
    "                                 decoder=decoder)"
   ]
  },
  {
   "cell_type": "markdown",
   "metadata": {
    "id": "lASjW5bD85q2"
   },
   "source": [
    "## Обучение модели"
   ]
  },
  {
   "cell_type": "code",
   "execution_count": 34,
   "metadata": {
    "id": "ODXtHZEo8ZzT"
   },
   "outputs": [],
   "source": [
    "@tf.function\n",
    "def train_step(inp, targ, enc_hidden):\n",
    "    loss = 0\n",
    "\n",
    "    with tf.GradientTape() as tape:\n",
    "        enc_hidden = encoder(inp, enc_hidden)\n",
    "\n",
    "        dec_hidden = enc_hidden\n",
    "\n",
    "        dec_input = tf.expand_dims([targ_lang.word_index['<start>']] * BATCH_SIZE, 1)\n",
    "\n",
    "        # Teacher forcing - feeding the target as the next input\n",
    "        for t in range(1, targ.shape[1]):\n",
    "            # passing enc_output to the decoder\n",
    "            predictions, dec_hidden = decoder(dec_input, dec_hidden)\n",
    "\n",
    "            loss += loss_function(targ[:, t], predictions)\n",
    "\n",
    "            # using teacher forcing\n",
    "            dec_input = tf.expand_dims(targ[:, t], 1)\n",
    "\n",
    "        batch_loss = (loss / int(targ.shape[1]))\n",
    "\n",
    "        variables = encoder.trainable_variables + decoder.trainable_variables\n",
    "\n",
    "        gradients = tape.gradient(loss, variables)\n",
    "\n",
    "        optimizer.apply_gradients(zip(gradients, variables))\n",
    "\n",
    "    return batch_loss"
   ]
  },
  {
   "cell_type": "code",
   "execution_count": 36,
   "metadata": {
    "colab": {
     "base_uri": "https://localhost:8080/"
    },
    "id": "q9s_WLWm8pFx",
    "outputId": "c84d4eba-5e8f-4a2d-96b9-7f141566a018"
   },
   "outputs": [
    {
     "name": "stdout",
     "output_type": "stream",
     "text": [
      "Epoch 1 Batch 0 Loss 4.5258\n",
      "Epoch 1 Batch 100 Loss 2.0305\n",
      "Epoch 1 Batch 200 Loss 1.7621\n",
      "Epoch 1 Batch 300 Loss 1.5777\n",
      "Epoch 1 Batch 400 Loss 1.5404\n",
      "Epoch 1 Batch 500 Loss 1.4149\n",
      "Epoch 1 Batch 600 Loss 1.3890\n",
      "Epoch 1 Batch 700 Loss 1.2275\n",
      "Epoch 1 Batch 800 Loss 1.2151\n",
      "Epoch 1 Batch 900 Loss 1.0821\n",
      "Epoch 1 Batch 1000 Loss 1.1432\n",
      "Epoch 1 Batch 1100 Loss 1.1177\n",
      "Epoch 1 Batch 1200 Loss 1.0775\n",
      "Epoch 1 Loss 1.4569\n",
      "Time taken for 1 epoch 61.77876329421997 sec\n",
      "\n",
      "Epoch 2 Batch 0 Loss 0.8406\n",
      "Epoch 2 Batch 100 Loss 0.9508\n",
      "Epoch 2 Batch 200 Loss 0.8073\n",
      "Epoch 2 Batch 300 Loss 0.8821\n",
      "Epoch 2 Batch 400 Loss 0.8762\n",
      "Epoch 2 Batch 500 Loss 0.7596\n",
      "Epoch 2 Batch 600 Loss 0.7469\n",
      "Epoch 2 Batch 700 Loss 0.6980\n",
      "Epoch 2 Batch 800 Loss 0.6986\n",
      "Epoch 2 Batch 900 Loss 0.6855\n",
      "Epoch 2 Batch 1000 Loss 0.7281\n",
      "Epoch 2 Batch 1100 Loss 0.6244\n",
      "Epoch 2 Batch 1200 Loss 0.5478\n",
      "Epoch 2 Loss 0.7318\n",
      "Time taken for 1 epoch 55.153178215026855 sec\n",
      "\n",
      "Epoch 3 Batch 0 Loss 0.3850\n",
      "Epoch 3 Batch 100 Loss 0.3833\n",
      "Epoch 3 Batch 200 Loss 0.3775\n",
      "Epoch 3 Batch 300 Loss 0.3565\n",
      "Epoch 3 Batch 400 Loss 0.4578\n",
      "Epoch 3 Batch 500 Loss 0.4196\n",
      "Epoch 3 Batch 600 Loss 0.3954\n",
      "Epoch 3 Batch 700 Loss 0.4588\n",
      "Epoch 3 Batch 800 Loss 0.4192\n",
      "Epoch 3 Batch 900 Loss 0.4670\n",
      "Epoch 3 Batch 1000 Loss 0.3700\n",
      "Epoch 3 Batch 1100 Loss 0.3572\n",
      "Epoch 3 Batch 1200 Loss 0.3644\n",
      "Epoch 3 Loss 0.3956\n",
      "Time taken for 1 epoch 54.957154750823975 sec\n",
      "\n",
      "Epoch 4 Batch 0 Loss 0.3042\n",
      "Epoch 4 Batch 100 Loss 0.2141\n",
      "Epoch 4 Batch 200 Loss 0.2367\n",
      "Epoch 4 Batch 300 Loss 0.2001\n",
      "Epoch 4 Batch 400 Loss 0.1433\n",
      "Epoch 4 Batch 500 Loss 0.2305\n",
      "Epoch 4 Batch 600 Loss 0.2329\n",
      "Epoch 4 Batch 700 Loss 0.2546\n",
      "Epoch 4 Batch 800 Loss 0.1950\n",
      "Epoch 4 Batch 900 Loss 0.2464\n",
      "Epoch 4 Batch 1000 Loss 0.2530\n",
      "Epoch 4 Batch 1100 Loss 0.2955\n",
      "Epoch 4 Batch 1200 Loss 0.2812\n",
      "Epoch 4 Loss 0.2348\n",
      "Time taken for 1 epoch 55.41167426109314 sec\n",
      "\n",
      "Epoch 5 Batch 0 Loss 0.1123\n",
      "Epoch 5 Batch 100 Loss 0.1415\n",
      "Epoch 5 Batch 200 Loss 0.1416\n",
      "Epoch 5 Batch 300 Loss 0.1797\n",
      "Epoch 5 Batch 400 Loss 0.1486\n",
      "Epoch 5 Batch 500 Loss 0.1487\n",
      "Epoch 5 Batch 600 Loss 0.1449\n",
      "Epoch 5 Batch 700 Loss 0.1311\n",
      "Epoch 5 Batch 800 Loss 0.1789\n",
      "Epoch 5 Batch 900 Loss 0.1560\n",
      "Epoch 5 Batch 1000 Loss 0.1668\n",
      "Epoch 5 Batch 1100 Loss 0.1787\n",
      "Epoch 5 Batch 1200 Loss 0.1571\n",
      "Epoch 5 Loss 0.1590\n",
      "Time taken for 1 epoch 54.874016761779785 sec\n",
      "\n",
      "Epoch 6 Batch 0 Loss 0.1052\n",
      "Epoch 6 Batch 100 Loss 0.0802\n",
      "Epoch 6 Batch 200 Loss 0.1219\n",
      "Epoch 6 Batch 300 Loss 0.0802\n",
      "Epoch 6 Batch 400 Loss 0.1125\n",
      "Epoch 6 Batch 500 Loss 0.1253\n",
      "Epoch 6 Batch 600 Loss 0.1617\n",
      "Epoch 6 Batch 700 Loss 0.1423\n",
      "Epoch 6 Batch 800 Loss 0.1213\n",
      "Epoch 6 Batch 900 Loss 0.1203\n",
      "Epoch 6 Batch 1000 Loss 0.1350\n",
      "Epoch 6 Batch 1100 Loss 0.1723\n",
      "Epoch 6 Batch 1200 Loss 0.1878\n",
      "Epoch 6 Loss 0.1223\n",
      "Time taken for 1 epoch 55.71533465385437 sec\n",
      "\n",
      "Epoch 7 Batch 0 Loss 0.0659\n",
      "Epoch 7 Batch 100 Loss 0.0986\n",
      "Epoch 7 Batch 200 Loss 0.0492\n",
      "Epoch 7 Batch 300 Loss 0.1122\n",
      "Epoch 7 Batch 400 Loss 0.1045\n",
      "Epoch 7 Batch 500 Loss 0.0776\n",
      "Epoch 7 Batch 600 Loss 0.0858\n",
      "Epoch 7 Batch 700 Loss 0.1335\n",
      "Epoch 7 Batch 800 Loss 0.0763\n",
      "Epoch 7 Batch 900 Loss 0.0901\n",
      "Epoch 7 Batch 1000 Loss 0.0630\n",
      "Epoch 7 Batch 1100 Loss 0.1300\n",
      "Epoch 7 Batch 1200 Loss 0.1174\n",
      "Epoch 7 Loss 0.1024\n",
      "Time taken for 1 epoch 54.855908155441284 sec\n",
      "\n",
      "Epoch 8 Batch 0 Loss 0.0683\n",
      "Epoch 8 Batch 100 Loss 0.0983\n",
      "Epoch 8 Batch 200 Loss 0.0884\n",
      "Epoch 8 Batch 300 Loss 0.0912\n",
      "Epoch 8 Batch 400 Loss 0.0918\n",
      "Epoch 8 Batch 500 Loss 0.0538\n",
      "Epoch 8 Batch 600 Loss 0.0670\n",
      "Epoch 8 Batch 700 Loss 0.0950\n",
      "Epoch 8 Batch 800 Loss 0.0709\n",
      "Epoch 8 Batch 900 Loss 0.0921\n",
      "Epoch 8 Batch 1000 Loss 0.1180\n",
      "Epoch 8 Batch 1100 Loss 0.0765\n",
      "Epoch 8 Batch 1200 Loss 0.1287\n",
      "Epoch 8 Loss 0.0914\n",
      "Time taken for 1 epoch 55.61152005195618 sec\n",
      "\n",
      "Epoch 9 Batch 0 Loss 0.0551\n",
      "Epoch 9 Batch 100 Loss 0.0829\n",
      "Epoch 9 Batch 200 Loss 0.0733\n",
      "Epoch 9 Batch 300 Loss 0.1066\n",
      "Epoch 9 Batch 400 Loss 0.0895\n",
      "Epoch 9 Batch 500 Loss 0.0773\n",
      "Epoch 9 Batch 600 Loss 0.0855\n",
      "Epoch 9 Batch 700 Loss 0.0770\n",
      "Epoch 9 Batch 800 Loss 0.0767\n",
      "Epoch 9 Batch 900 Loss 0.1047\n",
      "Epoch 9 Batch 1000 Loss 0.1017\n",
      "Epoch 9 Batch 1100 Loss 0.0995\n",
      "Epoch 9 Batch 1200 Loss 0.1046\n",
      "Epoch 9 Loss 0.0856\n",
      "Time taken for 1 epoch 56.056779861450195 sec\n",
      "\n",
      "Epoch 10 Batch 0 Loss 0.0843\n",
      "Epoch 10 Batch 100 Loss 0.0613\n",
      "Epoch 10 Batch 200 Loss 0.0542\n",
      "Epoch 10 Batch 300 Loss 0.0871\n",
      "Epoch 10 Batch 400 Loss 0.0982\n",
      "Epoch 10 Batch 500 Loss 0.0642\n",
      "Epoch 10 Batch 600 Loss 0.1001\n",
      "Epoch 10 Batch 700 Loss 0.0589\n",
      "Epoch 10 Batch 800 Loss 0.0705\n",
      "Epoch 10 Batch 900 Loss 0.0720\n",
      "Epoch 10 Batch 1000 Loss 0.1237\n",
      "Epoch 10 Batch 1100 Loss 0.1125\n",
      "Epoch 10 Batch 1200 Loss 0.0756\n",
      "Epoch 10 Loss 0.0813\n",
      "Time taken for 1 epoch 56.12881278991699 sec\n",
      "\n",
      "Epoch 11 Batch 0 Loss 0.0715\n",
      "Epoch 11 Batch 100 Loss 0.0749\n",
      "Epoch 11 Batch 200 Loss 0.0494\n",
      "Epoch 11 Batch 300 Loss 0.0709\n",
      "Epoch 11 Batch 400 Loss 0.1001\n",
      "Epoch 11 Batch 500 Loss 0.0677\n",
      "Epoch 11 Batch 600 Loss 0.0989\n",
      "Epoch 11 Batch 700 Loss 0.0531\n",
      "Epoch 11 Batch 800 Loss 0.0477\n",
      "Epoch 11 Batch 900 Loss 0.0899\n",
      "Epoch 11 Batch 1000 Loss 0.0680\n",
      "Epoch 11 Batch 1100 Loss 0.1377\n",
      "Epoch 11 Batch 1200 Loss 0.0689\n",
      "Epoch 11 Loss 0.0779\n",
      "Time taken for 1 epoch 55.94855976104736 sec\n",
      "\n",
      "Epoch 12 Batch 0 Loss 0.0915\n",
      "Epoch 12 Batch 100 Loss 0.0798\n",
      "Epoch 12 Batch 200 Loss 0.0618\n",
      "Epoch 12 Batch 300 Loss 0.0628\n",
      "Epoch 12 Batch 400 Loss 0.1105\n",
      "Epoch 12 Batch 500 Loss 0.0657\n",
      "Epoch 12 Batch 600 Loss 0.0482\n",
      "Epoch 12 Batch 700 Loss 0.1079\n",
      "Epoch 12 Batch 800 Loss 0.1050\n",
      "Epoch 12 Batch 900 Loss 0.0854\n",
      "Epoch 12 Batch 1000 Loss 0.0869\n",
      "Epoch 12 Batch 1100 Loss 0.1347\n",
      "Epoch 12 Batch 1200 Loss 0.1011\n",
      "Epoch 12 Loss 0.0755\n",
      "Time taken for 1 epoch 56.44525718688965 sec\n",
      "\n",
      "Epoch 13 Batch 0 Loss 0.0644\n",
      "Epoch 13 Batch 100 Loss 0.0702\n",
      "Epoch 13 Batch 200 Loss 0.0521\n",
      "Epoch 13 Batch 300 Loss 0.0646\n",
      "Epoch 13 Batch 400 Loss 0.0558\n",
      "Epoch 13 Batch 500 Loss 0.0963\n",
      "Epoch 13 Batch 600 Loss 0.0432\n",
      "Epoch 13 Batch 700 Loss 0.0494\n",
      "Epoch 13 Batch 800 Loss 0.0684\n",
      "Epoch 13 Batch 900 Loss 0.0815\n",
      "Epoch 13 Batch 1000 Loss 0.0762\n",
      "Epoch 13 Batch 1100 Loss 0.0559\n",
      "Epoch 13 Batch 1200 Loss 0.1205\n",
      "Epoch 13 Loss 0.0731\n",
      "Time taken for 1 epoch 55.130433797836304 sec\n",
      "\n",
      "Epoch 14 Batch 0 Loss 0.0387\n",
      "Epoch 14 Batch 100 Loss 0.1053\n",
      "Epoch 14 Batch 200 Loss 0.0660\n",
      "Epoch 14 Batch 300 Loss 0.0523\n",
      "Epoch 14 Batch 400 Loss 0.0702\n",
      "Epoch 14 Batch 500 Loss 0.0570\n",
      "Epoch 14 Batch 600 Loss 0.0452\n",
      "Epoch 14 Batch 700 Loss 0.0821\n",
      "Epoch 14 Batch 800 Loss 0.0465\n",
      "Epoch 14 Batch 900 Loss 0.0888\n",
      "Epoch 14 Batch 1000 Loss 0.0637\n",
      "Epoch 14 Batch 1100 Loss 0.1128\n",
      "Epoch 14 Batch 1200 Loss 0.0608\n",
      "Epoch 14 Loss 0.0702\n",
      "Time taken for 1 epoch 55.37109136581421 sec\n",
      "\n",
      "Epoch 15 Batch 0 Loss 0.0621\n",
      "Epoch 15 Batch 100 Loss 0.0804\n",
      "Epoch 15 Batch 200 Loss 0.0756\n",
      "Epoch 15 Batch 300 Loss 0.0834\n",
      "Epoch 15 Batch 400 Loss 0.0795\n",
      "Epoch 15 Batch 500 Loss 0.0819\n",
      "Epoch 15 Batch 600 Loss 0.0566\n",
      "Epoch 15 Batch 700 Loss 0.0983\n",
      "Epoch 15 Batch 800 Loss 0.0755\n",
      "Epoch 15 Batch 900 Loss 0.0328\n",
      "Epoch 15 Batch 1000 Loss 0.0749\n",
      "Epoch 15 Batch 1100 Loss 0.0876\n",
      "Epoch 15 Batch 1200 Loss 0.0623\n",
      "Epoch 15 Loss 0.0699\n",
      "Time taken for 1 epoch 54.894213914871216 sec\n",
      "\n",
      "Epoch 16 Batch 0 Loss 0.0443\n",
      "Epoch 16 Batch 100 Loss 0.0751\n",
      "Epoch 16 Batch 200 Loss 0.0770\n",
      "Epoch 16 Batch 300 Loss 0.0738\n",
      "Epoch 16 Batch 400 Loss 0.0656\n",
      "Epoch 16 Batch 500 Loss 0.0356\n",
      "Epoch 16 Batch 600 Loss 0.0793\n",
      "Epoch 16 Batch 700 Loss 0.0719\n",
      "Epoch 16 Batch 800 Loss 0.0446\n",
      "Epoch 16 Batch 900 Loss 0.1098\n",
      "Epoch 16 Batch 1000 Loss 0.0850\n",
      "Epoch 16 Batch 1100 Loss 0.0645\n",
      "Epoch 16 Batch 1200 Loss 0.1012\n",
      "Epoch 16 Loss 0.0677\n",
      "Time taken for 1 epoch 55.43309783935547 sec\n",
      "\n",
      "Epoch 17 Batch 0 Loss 0.0559\n",
      "Epoch 17 Batch 100 Loss 0.0592\n",
      "Epoch 17 Batch 200 Loss 0.0745\n",
      "Epoch 17 Batch 300 Loss 0.1090\n",
      "Epoch 17 Batch 400 Loss 0.0488\n",
      "Epoch 17 Batch 500 Loss 0.0361\n",
      "Epoch 17 Batch 600 Loss 0.0533\n",
      "Epoch 17 Batch 700 Loss 0.0370\n",
      "Epoch 17 Batch 800 Loss 0.0599\n",
      "Epoch 17 Batch 900 Loss 0.0985\n",
      "Epoch 17 Batch 1000 Loss 0.0610\n",
      "Epoch 17 Batch 1100 Loss 0.0525\n",
      "Epoch 17 Batch 1200 Loss 0.1090\n",
      "Epoch 17 Loss 0.0665\n",
      "Time taken for 1 epoch 54.93792009353638 sec\n",
      "\n",
      "Epoch 18 Batch 0 Loss 0.0677\n",
      "Epoch 18 Batch 100 Loss 0.0741\n",
      "Epoch 18 Batch 200 Loss 0.0469\n",
      "Epoch 18 Batch 300 Loss 0.0666\n",
      "Epoch 18 Batch 400 Loss 0.0522\n",
      "Epoch 18 Batch 500 Loss 0.0469\n",
      "Epoch 18 Batch 600 Loss 0.0852\n",
      "Epoch 18 Batch 700 Loss 0.0829\n",
      "Epoch 18 Batch 800 Loss 0.0777\n",
      "Epoch 18 Batch 900 Loss 0.0740\n",
      "Epoch 18 Batch 1000 Loss 0.0973\n",
      "Epoch 18 Batch 1100 Loss 0.0810\n",
      "Epoch 18 Batch 1200 Loss 0.0948\n",
      "Epoch 18 Loss 0.0651\n",
      "Time taken for 1 epoch 55.51886296272278 sec\n",
      "\n",
      "Epoch 19 Batch 0 Loss 0.0718\n",
      "Epoch 19 Batch 100 Loss 0.0652\n",
      "Epoch 19 Batch 200 Loss 0.0814\n",
      "Epoch 19 Batch 300 Loss 0.0807\n",
      "Epoch 19 Batch 400 Loss 0.0871\n",
      "Epoch 19 Batch 500 Loss 0.0510\n",
      "Epoch 19 Batch 600 Loss 0.0540\n",
      "Epoch 19 Batch 700 Loss 0.0981\n",
      "Epoch 19 Batch 800 Loss 0.0989\n",
      "Epoch 19 Batch 900 Loss 0.0446\n",
      "Epoch 19 Batch 1000 Loss 0.0445\n",
      "Epoch 19 Batch 1100 Loss 0.1041\n",
      "Epoch 19 Batch 1200 Loss 0.0699\n",
      "Epoch 19 Loss 0.0644\n",
      "Time taken for 1 epoch 54.95958685874939 sec\n",
      "\n",
      "Epoch 20 Batch 0 Loss 0.0294\n",
      "Epoch 20 Batch 100 Loss 0.0502\n",
      "Epoch 20 Batch 200 Loss 0.0453\n",
      "Epoch 20 Batch 300 Loss 0.0766\n",
      "Epoch 20 Batch 400 Loss 0.0429\n",
      "Epoch 20 Batch 500 Loss 0.0660\n",
      "Epoch 20 Batch 600 Loss 0.0753\n",
      "Epoch 20 Batch 700 Loss 0.0497\n",
      "Epoch 20 Batch 800 Loss 0.0673\n",
      "Epoch 20 Batch 900 Loss 0.1050\n",
      "Epoch 20 Batch 1000 Loss 0.0485\n",
      "Epoch 20 Batch 1100 Loss 0.1004\n",
      "Epoch 20 Batch 1200 Loss 0.1039\n",
      "Epoch 20 Loss 0.0640\n",
      "Time taken for 1 epoch 55.40553140640259 sec\n",
      "\n"
     ]
    }
   ],
   "source": [
    "EPOCHS = 20\n",
    "\n",
    "for epoch in range(EPOCHS):\n",
    "  start = time.time()\n",
    "\n",
    "  enc_hidden = encoder.initialize_hidden_state()\n",
    "  total_loss = 0\n",
    "\n",
    "  for (batch, (inp, targ)) in enumerate(dataset.take(steps_per_epoch)):\n",
    "    batch_loss = train_step(inp, targ, enc_hidden)\n",
    "    total_loss += batch_loss\n",
    "\n",
    "    if batch % 100 == 0:\n",
    "      print('Epoch {} Batch {} Loss {:.4f}'.format(epoch + 1,\n",
    "                                                   batch,\n",
    "                                                   batch_loss.numpy()))\n",
    "  # saving (checkpoint) the model every 2 epochs\n",
    "  if (epoch + 1) % 2 == 0:\n",
    "    checkpoint.save(file_prefix = checkpoint_prefix)\n",
    "\n",
    "  print('Epoch {} Loss {:.4f}'.format(epoch + 1,\n",
    "                                      total_loss / steps_per_epoch))\n",
    "  print('Time taken for 1 epoch {} sec\\n'.format(time.time() - start))"
   ]
  },
  {
   "cell_type": "markdown",
   "metadata": {
    "id": "YgALUH-69XX8"
   },
   "source": [
    "## Translate\n",
    "\n",
    "* The evaluate function is similar to the training loop, except we don't use *teacher forcing* here. The input to the decoder at each time step is its previous predictions along with the hidden state and the encoder output.\n",
    "* Stop predicting when the model predicts the *end token*.\n",
    "* And store the *attention weights for every time step*.\n",
    "\n",
    "Note: The encoder output is calculated only once for one input."
   ]
  },
  {
   "cell_type": "code",
   "execution_count": 37,
   "metadata": {
    "id": "l2Gj0z-E8pRG"
   },
   "outputs": [],
   "source": [
    "def evaluate(sentence):\n",
    "  attention_plot = np.zeros((max_length_targ, max_length_inp))\n",
    "\n",
    "  sentence = preprocess_sentence(sentence)\n",
    "\n",
    "  inputs = [inp_lang.word_index[i] for i in sentence.split(' ')]\n",
    "  inputs = tf.keras.preprocessing.sequence.pad_sequences([inputs],\n",
    "                                                         maxlen=max_length_inp,\n",
    "                                                         padding='post')\n",
    "  inputs = tf.convert_to_tensor(inputs)\n",
    "\n",
    "  result = ''\n",
    "\n",
    "  hidden = [tf.zeros((1, units))]\n",
    "  enc_hidden = encoder(inputs, hidden)\n",
    "\n",
    "  dec_hidden = enc_hidden\n",
    "  dec_input = tf.expand_dims([targ_lang.word_index['<start>']], 0)\n",
    "\n",
    "  for t in range(max_length_targ):\n",
    "    predictions, dec_hidden = decoder(dec_input, dec_hidden)\n",
    "\n",
    "    # storing the attention weights to plot later on\n",
    "    predicted_id = tf.argmax(predictions[0]).numpy()\n",
    "    result += targ_lang.index_word[predicted_id] + ' '\n",
    "\n",
    "    if targ_lang.index_word[predicted_id] == '<end>':\n",
    "      return result, sentence\n",
    "\n",
    "    # the predicted ID is fed back into the model\n",
    "    dec_input = tf.expand_dims([predicted_id], 0)\n",
    "\n",
    "  return result, sentence"
   ]
  },
  {
   "cell_type": "code",
   "execution_count": 38,
   "metadata": {
    "id": "vyiOHkX78pVn"
   },
   "outputs": [],
   "source": [
    "def translate(sentence):\n",
    "  result, sentence = evaluate(sentence)\n",
    "\n",
    "  print('Input: %s' % (sentence))\n",
    "  print('Predicted translation: {}'.format(result))"
   ]
  },
  {
   "cell_type": "markdown",
   "metadata": {
    "id": "nTdT0Mo-Chz5"
   },
   "source": [
    "## Restore the latest checkpoint and test"
   ]
  },
  {
   "cell_type": "code",
   "execution_count": 39,
   "metadata": {
    "colab": {
     "base_uri": "https://localhost:8080/"
    },
    "id": "HpV9C2JX8pYx",
    "outputId": "d796a34d-97ca-41e0-86a9-8575320cbd5c"
   },
   "outputs": [
    {
     "data": {
      "text/plain": [
       "<tensorflow.python.training.tracking.util.CheckpointLoadStatus at 0x7f06e8555110>"
      ]
     },
     "execution_count": 39,
     "metadata": {},
     "output_type": "execute_result"
    }
   ],
   "source": [
    "# restoring the latest checkpoint in checkpoint_dir\n",
    "checkpoint.restore(tf.train.latest_checkpoint(checkpoint_dir))"
   ]
  },
  {
   "cell_type": "code",
   "execution_count": 40,
   "metadata": {
    "colab": {
     "base_uri": "https://localhost:8080/"
    },
    "id": "FGue-zcn8pbs",
    "outputId": "2612fc7f-bc60-4aee-d720-304992f013ed"
   },
   "outputs": [
    {
     "name": "stdout",
     "output_type": "stream",
     "text": [
      "Input: <start> здесь хорошо . <end>\n",
      "Predicted translation: it's fine here . <end> \n"
     ]
    }
   ],
   "source": [
    "translate('Здесь хорошо.')"
   ]
  },
  {
   "cell_type": "code",
   "execution_count": 41,
   "metadata": {
    "colab": {
     "base_uri": "https://localhost:8080/"
    },
    "id": "vCwzG9YB8peX",
    "outputId": "4bfd93d4-e361-4912-eaed-3e0e19a475bb"
   },
   "outputs": [
    {
     "name": "stdout",
     "output_type": "stream",
     "text": [
      "Input: <start> отлично , поехали . <end>\n",
      "Predicted translation: ok , let's go . <end> \n"
     ]
    }
   ],
   "source": [
    "translate('Отлично, поехали.')"
   ]
  },
  {
   "cell_type": "code",
   "execution_count": 42,
   "metadata": {
    "colab": {
     "base_uri": "https://localhost:8080/"
    },
    "id": "kZ2MyuQ_Crmm",
    "outputId": "198ace60-1327-4114-a920-1b65038fd884"
   },
   "outputs": [
    {
     "name": "stdout",
     "output_type": "stream",
     "text": [
      "Input: <start> вы еще дома ? <end>\n",
      "Predicted translation: are you still at home ? <end> \n"
     ]
    }
   ],
   "source": [
    "translate(u'Вы еще дома?')"
   ]
  },
  {
   "cell_type": "code",
   "execution_count": 43,
   "metadata": {
    "colab": {
     "base_uri": "https://localhost:8080/"
    },
    "id": "U1llts2VCrp3",
    "outputId": "b4d1eb17-e1a6-4833-956a-4a2cc7e699d2"
   },
   "outputs": [
    {
     "name": "stdout",
     "output_type": "stream",
     "text": [
      "Input: <start> это слишком дорого для меня . ? <end>\n",
      "Predicted translation: that's too much for me . <end> \n"
     ]
    }
   ],
   "source": [
    "translate(u'Это слишком дорого для меня.?')"
   ]
  },
  {
   "cell_type": "code",
   "execution_count": 44,
   "metadata": {
    "colab": {
     "base_uri": "https://localhost:8080/"
    },
    "id": "kVS9t-7ACrtn",
    "outputId": "fcb30ba8-0ab4-43f4-e98a-a0a06e71f321"
   },
   "outputs": [
    {
     "name": "stdout",
     "output_type": "stream",
     "text": [
      "Input: <start> попробуй сделать это . <end>\n",
      "Predicted translation: try to do that . <end> \n"
     ]
    }
   ],
   "source": [
    "translate(u'Попробуй сделать это.')"
   ]
  },
  {
   "cell_type": "code",
   "execution_count": 45,
   "metadata": {
    "colab": {
     "base_uri": "https://localhost:8080/"
    },
    "id": "L2AUEOhQCrxF",
    "outputId": "7dc9c472-fd72-44d6-9a77-d385bbf25223"
   },
   "outputs": [
    {
     "name": "stdout",
     "output_type": "stream",
     "text": [
      "Input: <start> я люблю , когда идет снег . <end>\n",
      "Predicted translation: i like it dark . <end> \n"
     ]
    }
   ],
   "source": [
    "translate(u'Я люблю, когда идет снег.')"
   ]
  },
  {
   "cell_type": "code",
   "execution_count": 46,
   "metadata": {
    "colab": {
     "base_uri": "https://localhost:8080/"
    },
    "id": "nKAZpVm5Crz9",
    "outputId": "8023765f-b65f-4823-d65b-d7093e34d07a"
   },
   "outputs": [
    {
     "name": "stdout",
     "output_type": "stream",
     "text": [
      "Input: <start> я никогда такого не делаю . <end>\n",
      "Predicted translation: i never do that . <end> \n"
     ]
    }
   ],
   "source": [
    "translate(u'Я никогда такого не делаю.')"
   ]
  },
  {
   "cell_type": "code",
   "execution_count": 47,
   "metadata": {
    "colab": {
     "base_uri": "https://localhost:8080/"
    },
    "id": "9vWk-OkLCr4V",
    "outputId": "bec17d33-4057-4a78-9746-346556b2cccf"
   },
   "outputs": [
    {
     "name": "stdout",
     "output_type": "stream",
     "text": [
      "Input: <start> а счастье было так возможно , так близко ! . <end>\n",
      "Predicted translation: it was cheap . <end> \n"
     ]
    }
   ],
   "source": [
    "translate('А счастье было так возможно, так близко!.')"
   ]
  },
  {
   "cell_type": "code",
   "execution_count": 48,
   "metadata": {
    "colab": {
     "base_uri": "https://localhost:8080/"
    },
    "id": "pqFRI-7aDXT_",
    "outputId": "d6efd4fc-ec5d-4673-a660-24f05c2e48e6"
   },
   "outputs": [
    {
     "name": "stdout",
     "output_type": "stream",
     "text": [
      "Input: <start> интересно , а если написать длинное предложение и попробовать его перевести , какой результат мы увидим ? <end>\n",
      "Predicted translation: do you also like jazz ? <end> \n"
     ]
    }
   ],
   "source": [
    "translate('Интересно, а если написать длинное предложение и попробовать его перевести, какой результат мы увидим?')"
   ]
  },
  {
   "cell_type": "markdown",
   "metadata": {
    "id": "j6YDlO7-wJo4"
   },
   "source": [
    "__Вывод:__<br>\n",
    "\n",
    "При увеличении длины текста, качество перевода резко падает. Перевод последнего предложения соответствует последнему предложению."
   ]
  },
  {
   "cell_type": "markdown",
   "metadata": {
    "id": "N6m9V4UsiAW4"
   },
   "source": [
    "# <font color='red'>Neural machine translation with attention</font>"
   ]
  },
  {
   "cell_type": "code",
   "execution_count": 49,
   "metadata": {
    "id": "k5-1YXIwh0jm"
   },
   "outputs": [],
   "source": [
    "class Encoder(tf.keras.Model):\n",
    "  def __init__(self, vocab_size, embedding_dim, enc_units, batch_sz):\n",
    "    super(Encoder, self).__init__()\n",
    "    self.batch_sz = batch_sz\n",
    "    self.enc_units = enc_units\n",
    "    self.embedding = tf.keras.layers.Embedding(vocab_size, embedding_dim)\n",
    "    self.gru = tf.keras.layers.GRU(self.enc_units,\n",
    "                                   return_sequences=True,\n",
    "                                   return_state=True,\n",
    "                                   recurrent_initializer='glorot_uniform')\n",
    "\n",
    "  def call(self, x, hidden):\n",
    "    x = self.embedding(x)\n",
    "    output, state = self.gru(x, initial_state = hidden)\n",
    "    return output, state\n",
    "\n",
    "  def initialize_hidden_state(self):\n",
    "    return tf.zeros((self.batch_sz, self.enc_units))"
   ]
  },
  {
   "cell_type": "code",
   "execution_count": 50,
   "metadata": {
    "colab": {
     "base_uri": "https://localhost:8080/"
    },
    "id": "1WlXufPOh0mu",
    "outputId": "f992d03b-63ea-4dc0-8d21-0fa352306162"
   },
   "outputs": [
    {
     "name": "stdout",
     "output_type": "stream",
     "text": [
      "Encoder output shape: (batch size, sequence length, units) (64, 15, 1024)\n",
      "Encoder Hidden state shape: (batch size, units) (64, 1024)\n"
     ]
    }
   ],
   "source": [
    "encoder = Encoder(vocab_inp_size, embedding_dim, units, BATCH_SIZE)\n",
    "\n",
    "# sample input\n",
    "sample_hidden = encoder.initialize_hidden_state()\n",
    "sample_output, sample_hidden = encoder(example_input_batch, sample_hidden)\n",
    "print ('Encoder output shape: (batch size, sequence length, units) {}'.format(sample_output.shape))\n",
    "print ('Encoder Hidden state shape: (batch size, units) {}'.format(sample_hidden.shape))"
   ]
  },
  {
   "cell_type": "code",
   "execution_count": 51,
   "metadata": {
    "id": "cNZrFmnIh0pZ"
   },
   "outputs": [],
   "source": [
    "class BahdanauAttention(tf.keras.layers.Layer):\n",
    "  def __init__(self, units):\n",
    "    super(BahdanauAttention, self).__init__()\n",
    "    self.W1 = tf.keras.layers.Dense(units)\n",
    "    self.W2 = tf.keras.layers.Dense(units)\n",
    "    self.V = tf.keras.layers.Dense(1)\n",
    "\n",
    "  def call(self, query, values):\n",
    "    # query hidden state shape == (batch_size, hidden size)\n",
    "    # query_with_time_axis shape == (batch_size, 1, hidden size)\n",
    "    # values shape == (batch_size, max_len, hidden size)\n",
    "    # we are doing this to broadcast addition along the time axis to calculate the score\n",
    "    query_with_time_axis = tf.expand_dims(query, 1)\n",
    "\n",
    "    # score shape == (batch_size, max_length, 1)\n",
    "    # we get 1 at the last axis because we are applying score to self.V\n",
    "    # the shape of the tensor before applying self.V is (batch_size, max_length, units)\n",
    "    score = self.V(tf.nn.tanh(\n",
    "        self.W1(query_with_time_axis) + self.W2(values)))\n",
    "\n",
    "    # attention_weights shape == (batch_size, max_length, 1)\n",
    "    attention_weights = tf.nn.softmax(score, axis=1)\n",
    "\n",
    "    # context_vector shape after sum == (batch_size, hidden_size)\n",
    "    context_vector = attention_weights * values\n",
    "    context_vector = tf.reduce_sum(context_vector, axis=1)\n",
    "\n",
    "    return context_vector, attention_weights"
   ]
  },
  {
   "cell_type": "code",
   "execution_count": 52,
   "metadata": {
    "colab": {
     "base_uri": "https://localhost:8080/"
    },
    "id": "fy1oRtOdh0rv",
    "outputId": "bf156110-2e7f-43c8-93d7-55f61261db50"
   },
   "outputs": [
    {
     "name": "stdout",
     "output_type": "stream",
     "text": [
      "Attention result shape: (batch size, units) (64, 1024)\n",
      "Attention weights shape: (batch_size, sequence_length, 1) (64, 15, 1)\n"
     ]
    }
   ],
   "source": [
    "attention_layer = BahdanauAttention(10)\n",
    "attention_result, attention_weights = attention_layer(sample_hidden, sample_output)\n",
    "\n",
    "print(\"Attention result shape: (batch size, units) {}\".format(attention_result.shape))\n",
    "print(\"Attention weights shape: (batch_size, sequence_length, 1) {}\".format(attention_weights.shape))"
   ]
  },
  {
   "cell_type": "code",
   "execution_count": 53,
   "metadata": {
    "id": "imCtt1VAh0uX"
   },
   "outputs": [],
   "source": [
    "class Decoder(tf.keras.Model):\n",
    "  def __init__(self, vocab_size, embedding_dim, dec_units, batch_sz):\n",
    "    super(Decoder, self).__init__()\n",
    "    self.batch_sz = batch_sz\n",
    "    self.dec_units = dec_units\n",
    "    self.embedding = tf.keras.layers.Embedding(vocab_size, embedding_dim)\n",
    "    self.gru = tf.keras.layers.GRU(self.dec_units,\n",
    "                                   return_sequences=True,\n",
    "                                   return_state=True,\n",
    "                                   recurrent_initializer='glorot_uniform')\n",
    "    self.fc = tf.keras.layers.Dense(vocab_size)\n",
    "\n",
    "    # used for attention\n",
    "    self.attention = BahdanauAttention(self.dec_units)\n",
    "\n",
    "  def call(self, x, hidden, enc_output):\n",
    "    # enc_output shape == (batch_size, max_length, hidden_size)\n",
    "    context_vector, attention_weights = self.attention(hidden, enc_output)\n",
    "\n",
    "    # x shape after passing through embedding == (batch_size, 1, embedding_dim)\n",
    "    x = self.embedding(x)\n",
    "\n",
    "    # x shape after concatenation == (batch_size, 1, embedding_dim + hidden_size)\n",
    "    x = tf.concat([tf.expand_dims(context_vector, 1), x], axis=-1)\n",
    "\n",
    "    # passing the concatenated vector to the GRU\n",
    "    output, state = self.gru(x)\n",
    "\n",
    "    # output shape == (batch_size * 1, hidden_size)\n",
    "    output = tf.reshape(output, (-1, output.shape[2]))\n",
    "\n",
    "    # output shape == (batch_size, vocab)\n",
    "    x = self.fc(output)\n",
    "\n",
    "    return x, state, attention_weights"
   ]
  },
  {
   "cell_type": "code",
   "execution_count": 54,
   "metadata": {
    "colab": {
     "base_uri": "https://localhost:8080/"
    },
    "id": "nkkpUa6cjIxr",
    "outputId": "cb55d0d8-2321-4af7-908b-5e138887768f"
   },
   "outputs": [
    {
     "name": "stdout",
     "output_type": "stream",
     "text": [
      "Decoder output shape: (batch_size, vocab size) (64, 7334)\n"
     ]
    }
   ],
   "source": [
    "decoder = Decoder(vocab_tar_size, embedding_dim, units, BATCH_SIZE)\n",
    "\n",
    "sample_decoder_output, _, _ = decoder(tf.random.uniform((BATCH_SIZE, 1)),\n",
    "                                      sample_hidden, sample_output)\n",
    "\n",
    "print ('Decoder output shape: (batch_size, vocab size) {}'.format(sample_decoder_output.shape))"
   ]
  },
  {
   "cell_type": "markdown",
   "metadata": {
    "id": "GngmNbGOjOHM"
   },
   "source": [
    "## Define the optimizer and the loss function"
   ]
  },
  {
   "cell_type": "code",
   "execution_count": 55,
   "metadata": {
    "id": "nd2-RM4njJAl"
   },
   "outputs": [],
   "source": [
    "optimizer = tf.keras.optimizers.Adam()\n",
    "loss_object = tf.keras.losses.SparseCategoricalCrossentropy(\n",
    "    from_logits=True, reduction='none')\n",
    "\n",
    "def loss_function(real, pred):\n",
    "  mask = tf.math.logical_not(tf.math.equal(real, 0))\n",
    "  loss_ = loss_object(real, pred)\n",
    "\n",
    "  mask = tf.cast(mask, dtype=loss_.dtype)\n",
    "  loss_ *= mask\n",
    "\n",
    "  return tf.reduce_mean(loss_)"
   ]
  },
  {
   "cell_type": "markdown",
   "metadata": {
    "id": "GkqbncObjSso"
   },
   "source": [
    "## Checkpoints (Object-based saving)"
   ]
  },
  {
   "cell_type": "code",
   "execution_count": 56,
   "metadata": {
    "id": "4411biWHjJER"
   },
   "outputs": [],
   "source": [
    "checkpoint_dir = './training_attention_checkpoints'\n",
    "checkpoint_prefix = os.path.join(checkpoint_dir, \"ckpt\")\n",
    "checkpoint = tf.train.Checkpoint(optimizer=optimizer,\n",
    "                                 encoder=encoder,\n",
    "                                 decoder=decoder)"
   ]
  },
  {
   "cell_type": "code",
   "execution_count": 58,
   "metadata": {
    "id": "xif5E1lvjJHw"
   },
   "outputs": [],
   "source": [
    "@tf.function\n",
    "def train_step(inp, targ, enc_hidden):\n",
    "  loss = 0\n",
    "\n",
    "  with tf.GradientTape() as tape:\n",
    "    enc_output, enc_hidden = encoder(inp, enc_hidden)\n",
    "\n",
    "    dec_hidden = enc_hidden\n",
    "\n",
    "    dec_input = tf.expand_dims([targ_lang.word_index['<start>']] * BATCH_SIZE, 1)\n",
    "\n",
    "    # Teacher forcing - feeding the target as the next input\n",
    "    for t in range(1, targ.shape[1]):\n",
    "      # passing enc_output to the decoder\n",
    "      predictions, dec_hidden, _ = decoder(dec_input, dec_hidden, enc_output)\n",
    "\n",
    "      loss += loss_function(targ[:, t], predictions)\n",
    "\n",
    "      # using teacher forcing\n",
    "      dec_input = tf.expand_dims(targ[:, t], 1)\n",
    "\n",
    "  batch_loss = (loss / int(targ.shape[1]))\n",
    "\n",
    "  variables = encoder.trainable_variables + decoder.trainable_variables\n",
    "\n",
    "  gradients = tape.gradient(loss, variables)\n",
    "\n",
    "  optimizer.apply_gradients(zip(gradients, variables))\n",
    "\n",
    "  return batch_loss"
   ]
  },
  {
   "cell_type": "code",
   "execution_count": 59,
   "metadata": {
    "colab": {
     "base_uri": "https://localhost:8080/"
    },
    "id": "pvLLfACujJLV",
    "outputId": "0b3b9645-7f36-476f-9998-922d1570e578"
   },
   "outputs": [
    {
     "name": "stdout",
     "output_type": "stream",
     "text": [
      "Epoch 1 Batch 0 Loss 4.8045\n",
      "Epoch 1 Batch 100 Loss 2.0884\n",
      "Epoch 1 Batch 200 Loss 1.8418\n",
      "Epoch 1 Batch 300 Loss 1.7152\n",
      "Epoch 1 Batch 400 Loss 1.5148\n",
      "Epoch 1 Batch 500 Loss 1.5344\n",
      "Epoch 1 Batch 600 Loss 1.5292\n",
      "Epoch 1 Batch 700 Loss 1.2826\n",
      "Epoch 1 Batch 800 Loss 1.2203\n",
      "Epoch 1 Batch 900 Loss 1.1733\n",
      "Epoch 1 Batch 1000 Loss 1.1406\n",
      "Epoch 1 Batch 1100 Loss 1.1039\n",
      "Epoch 1 Batch 1200 Loss 1.0212\n",
      "Epoch 1 Loss 1.4665\n",
      "Time taken for 1 epoch 112.27705335617065 sec\n",
      "\n",
      "Epoch 2 Batch 0 Loss 0.7619\n",
      "Epoch 2 Batch 100 Loss 0.9176\n",
      "Epoch 2 Batch 200 Loss 0.8496\n",
      "Epoch 2 Batch 300 Loss 0.7899\n",
      "Epoch 2 Batch 400 Loss 0.7839\n",
      "Epoch 2 Batch 500 Loss 0.5027\n",
      "Epoch 2 Batch 600 Loss 0.5773\n",
      "Epoch 2 Batch 700 Loss 0.5510\n",
      "Epoch 2 Batch 800 Loss 0.4571\n",
      "Epoch 2 Batch 900 Loss 0.5641\n",
      "Epoch 2 Batch 1000 Loss 0.4982\n",
      "Epoch 2 Batch 1100 Loss 0.4282\n",
      "Epoch 2 Batch 1200 Loss 0.5782\n",
      "Epoch 2 Loss 0.6369\n",
      "Time taken for 1 epoch 98.50651812553406 sec\n",
      "\n",
      "Epoch 3 Batch 0 Loss 0.2793\n",
      "Epoch 3 Batch 100 Loss 0.2951\n",
      "Epoch 3 Batch 200 Loss 0.3429\n",
      "Epoch 3 Batch 300 Loss 0.3124\n",
      "Epoch 3 Batch 400 Loss 0.3394\n",
      "Epoch 3 Batch 500 Loss 0.3847\n",
      "Epoch 3 Batch 600 Loss 0.4324\n",
      "Epoch 3 Batch 700 Loss 0.3938\n",
      "Epoch 3 Batch 800 Loss 0.3966\n",
      "Epoch 3 Batch 900 Loss 0.3830\n",
      "Epoch 3 Batch 1000 Loss 0.3234\n",
      "Epoch 3 Batch 1100 Loss 0.2671\n",
      "Epoch 3 Batch 1200 Loss 0.3255\n",
      "Epoch 3 Loss 0.3359\n",
      "Time taken for 1 epoch 97.60274004936218 sec\n",
      "\n",
      "Epoch 4 Batch 0 Loss 0.1465\n",
      "Epoch 4 Batch 100 Loss 0.2212\n",
      "Epoch 4 Batch 200 Loss 0.2213\n",
      "Epoch 4 Batch 300 Loss 0.2122\n",
      "Epoch 4 Batch 400 Loss 0.1616\n",
      "Epoch 4 Batch 500 Loss 0.2197\n",
      "Epoch 4 Batch 600 Loss 0.2255\n",
      "Epoch 4 Batch 700 Loss 0.2006\n",
      "Epoch 4 Batch 800 Loss 0.2059\n",
      "Epoch 4 Batch 900 Loss 0.2404\n",
      "Epoch 4 Batch 1000 Loss 0.2054\n",
      "Epoch 4 Batch 1100 Loss 0.2964\n",
      "Epoch 4 Batch 1200 Loss 0.2122\n",
      "Epoch 4 Loss 0.2084\n",
      "Time taken for 1 epoch 98.12381219863892 sec\n",
      "\n",
      "Epoch 5 Batch 0 Loss 0.1021\n",
      "Epoch 5 Batch 100 Loss 0.1661\n",
      "Epoch 5 Batch 200 Loss 0.1066\n",
      "Epoch 5 Batch 300 Loss 0.1611\n",
      "Epoch 5 Batch 400 Loss 0.1112\n",
      "Epoch 5 Batch 500 Loss 0.1450\n",
      "Epoch 5 Batch 600 Loss 0.1424\n",
      "Epoch 5 Batch 700 Loss 0.1263\n",
      "Epoch 5 Batch 800 Loss 0.1965\n",
      "Epoch 5 Batch 900 Loss 0.1875\n",
      "Epoch 5 Batch 1000 Loss 0.2112\n",
      "Epoch 5 Batch 1100 Loss 0.1567\n",
      "Epoch 5 Batch 1200 Loss 0.1220\n",
      "Epoch 5 Loss 0.1473\n",
      "Time taken for 1 epoch 97.6781485080719 sec\n",
      "\n",
      "Epoch 6 Batch 0 Loss 0.1300\n",
      "Epoch 6 Batch 100 Loss 0.0653\n",
      "Epoch 6 Batch 200 Loss 0.1263\n",
      "Epoch 6 Batch 300 Loss 0.0859\n",
      "Epoch 6 Batch 400 Loss 0.0900\n",
      "Epoch 6 Batch 500 Loss 0.1616\n",
      "Epoch 6 Batch 600 Loss 0.1190\n",
      "Epoch 6 Batch 700 Loss 0.0853\n",
      "Epoch 6 Batch 800 Loss 0.0922\n",
      "Epoch 6 Batch 900 Loss 0.1423\n",
      "Epoch 6 Batch 1000 Loss 0.1173\n",
      "Epoch 6 Batch 1100 Loss 0.0985\n",
      "Epoch 6 Batch 1200 Loss 0.1265\n",
      "Epoch 6 Loss 0.1164\n",
      "Time taken for 1 epoch 98.36534190177917 sec\n",
      "\n",
      "Epoch 7 Batch 0 Loss 0.0933\n",
      "Epoch 7 Batch 100 Loss 0.0674\n",
      "Epoch 7 Batch 200 Loss 0.0841\n",
      "Epoch 7 Batch 300 Loss 0.0768\n",
      "Epoch 7 Batch 400 Loss 0.0834\n",
      "Epoch 7 Batch 500 Loss 0.1036\n",
      "Epoch 7 Batch 600 Loss 0.1072\n",
      "Epoch 7 Batch 700 Loss 0.1201\n",
      "Epoch 7 Batch 800 Loss 0.1147\n",
      "Epoch 7 Batch 900 Loss 0.1745\n",
      "Epoch 7 Batch 1000 Loss 0.1177\n",
      "Epoch 7 Batch 1100 Loss 0.0895\n",
      "Epoch 7 Batch 1200 Loss 0.0980\n",
      "Epoch 7 Loss 0.0987\n",
      "Time taken for 1 epoch 97.45996856689453 sec\n",
      "\n",
      "Epoch 8 Batch 0 Loss 0.0849\n",
      "Epoch 8 Batch 100 Loss 0.0550\n",
      "Epoch 8 Batch 200 Loss 0.0515\n",
      "Epoch 8 Batch 300 Loss 0.0589\n",
      "Epoch 8 Batch 400 Loss 0.0926\n",
      "Epoch 8 Batch 500 Loss 0.1022\n",
      "Epoch 8 Batch 600 Loss 0.0989\n",
      "Epoch 8 Batch 700 Loss 0.1291\n",
      "Epoch 8 Batch 800 Loss 0.0868\n",
      "Epoch 8 Batch 900 Loss 0.0795\n",
      "Epoch 8 Batch 1000 Loss 0.0951\n",
      "Epoch 8 Batch 1100 Loss 0.1019\n",
      "Epoch 8 Batch 1200 Loss 0.1150\n",
      "Epoch 8 Loss 0.0889\n",
      "Time taken for 1 epoch 98.20187520980835 sec\n",
      "\n",
      "Epoch 9 Batch 0 Loss 0.0559\n",
      "Epoch 9 Batch 100 Loss 0.1046\n",
      "Epoch 9 Batch 200 Loss 0.0427\n",
      "Epoch 9 Batch 300 Loss 0.0570\n",
      "Epoch 9 Batch 400 Loss 0.0658\n",
      "Epoch 9 Batch 500 Loss 0.0945\n",
      "Epoch 9 Batch 600 Loss 0.0816\n",
      "Epoch 9 Batch 700 Loss 0.0812\n",
      "Epoch 9 Batch 800 Loss 0.0816\n",
      "Epoch 9 Batch 900 Loss 0.0871\n",
      "Epoch 9 Batch 1000 Loss 0.0947\n",
      "Epoch 9 Batch 1100 Loss 0.0590\n",
      "Epoch 9 Batch 1200 Loss 0.0953\n",
      "Epoch 9 Loss 0.0813\n",
      "Time taken for 1 epoch 97.64966988563538 sec\n",
      "\n",
      "Epoch 10 Batch 0 Loss 0.0576\n",
      "Epoch 10 Batch 100 Loss 0.0886\n",
      "Epoch 10 Batch 200 Loss 0.0398\n",
      "Epoch 10 Batch 300 Loss 0.1086\n",
      "Epoch 10 Batch 400 Loss 0.0849\n",
      "Epoch 10 Batch 500 Loss 0.0464\n",
      "Epoch 10 Batch 600 Loss 0.0799\n",
      "Epoch 10 Batch 700 Loss 0.1117\n",
      "Epoch 10 Batch 800 Loss 0.0776\n",
      "Epoch 10 Batch 900 Loss 0.1025\n",
      "Epoch 10 Batch 1000 Loss 0.0960\n",
      "Epoch 10 Batch 1100 Loss 0.0910\n",
      "Epoch 10 Batch 1200 Loss 0.1003\n",
      "Epoch 10 Loss 0.0770\n",
      "Time taken for 1 epoch 98.27502012252808 sec\n",
      "\n",
      "Epoch 11 Batch 0 Loss 0.0347\n",
      "Epoch 11 Batch 100 Loss 0.0712\n",
      "Epoch 11 Batch 200 Loss 0.0473\n",
      "Epoch 11 Batch 300 Loss 0.0789\n",
      "Epoch 11 Batch 400 Loss 0.0500\n",
      "Epoch 11 Batch 500 Loss 0.0602\n",
      "Epoch 11 Batch 600 Loss 0.0849\n",
      "Epoch 11 Batch 700 Loss 0.0764\n",
      "Epoch 11 Batch 800 Loss 0.1130\n",
      "Epoch 11 Batch 900 Loss 0.0730\n",
      "Epoch 11 Batch 1000 Loss 0.0762\n",
      "Epoch 11 Batch 1100 Loss 0.0633\n",
      "Epoch 11 Batch 1200 Loss 0.0725\n",
      "Epoch 11 Loss 0.0718\n",
      "Time taken for 1 epoch 97.49412846565247 sec\n",
      "\n",
      "Epoch 12 Batch 0 Loss 0.0508\n",
      "Epoch 12 Batch 100 Loss 0.0794\n",
      "Epoch 12 Batch 200 Loss 0.0751\n",
      "Epoch 12 Batch 300 Loss 0.0337\n",
      "Epoch 12 Batch 400 Loss 0.0728\n",
      "Epoch 12 Batch 500 Loss 0.0774\n",
      "Epoch 12 Batch 600 Loss 0.0962\n",
      "Epoch 12 Batch 700 Loss 0.0597\n",
      "Epoch 12 Batch 800 Loss 0.1018\n",
      "Epoch 12 Batch 900 Loss 0.0679\n",
      "Epoch 12 Batch 1000 Loss 0.0679\n",
      "Epoch 12 Batch 1100 Loss 0.0795\n",
      "Epoch 12 Batch 1200 Loss 0.0992\n",
      "Epoch 12 Loss 0.0711\n",
      "Time taken for 1 epoch 98.25357913970947 sec\n",
      "\n",
      "Epoch 13 Batch 0 Loss 0.0357\n",
      "Epoch 13 Batch 100 Loss 0.0443\n",
      "Epoch 13 Batch 200 Loss 0.0596\n",
      "Epoch 13 Batch 300 Loss 0.0464\n",
      "Epoch 13 Batch 400 Loss 0.0526\n",
      "Epoch 13 Batch 500 Loss 0.0485\n",
      "Epoch 13 Batch 600 Loss 0.0845\n",
      "Epoch 13 Batch 700 Loss 0.0643\n",
      "Epoch 13 Batch 800 Loss 0.0918\n",
      "Epoch 13 Batch 900 Loss 0.0745\n",
      "Epoch 13 Batch 1000 Loss 0.0599\n",
      "Epoch 13 Batch 1100 Loss 0.0639\n",
      "Epoch 13 Batch 1200 Loss 0.0805\n",
      "Epoch 13 Loss 0.0649\n",
      "Time taken for 1 epoch 97.51901531219482 sec\n",
      "\n",
      "Epoch 14 Batch 0 Loss 0.0272\n",
      "Epoch 14 Batch 100 Loss 0.0362\n",
      "Epoch 14 Batch 200 Loss 0.0634\n",
      "Epoch 14 Batch 300 Loss 0.0834\n",
      "Epoch 14 Batch 400 Loss 0.0905\n",
      "Epoch 14 Batch 500 Loss 0.0798\n",
      "Epoch 14 Batch 600 Loss 0.0743\n",
      "Epoch 14 Batch 700 Loss 0.0978\n",
      "Epoch 14 Batch 800 Loss 0.0690\n",
      "Epoch 14 Batch 900 Loss 0.0417\n",
      "Epoch 14 Batch 1000 Loss 0.0983\n",
      "Epoch 14 Batch 1100 Loss 0.0699\n",
      "Epoch 14 Batch 1200 Loss 0.0464\n",
      "Epoch 14 Loss 0.0632\n",
      "Time taken for 1 epoch 98.49829721450806 sec\n",
      "\n",
      "Epoch 15 Batch 0 Loss 0.0523\n",
      "Epoch 15 Batch 100 Loss 0.0592\n",
      "Epoch 15 Batch 200 Loss 0.0335\n",
      "Epoch 15 Batch 300 Loss 0.0705\n",
      "Epoch 15 Batch 400 Loss 0.0514\n",
      "Epoch 15 Batch 500 Loss 0.0455\n",
      "Epoch 15 Batch 600 Loss 0.0529\n",
      "Epoch 15 Batch 700 Loss 0.0628\n",
      "Epoch 15 Batch 800 Loss 0.0258\n",
      "Epoch 15 Batch 900 Loss 0.0567\n",
      "Epoch 15 Batch 1000 Loss 0.0900\n",
      "Epoch 15 Batch 1100 Loss 0.0709\n",
      "Epoch 15 Batch 1200 Loss 0.0928\n",
      "Epoch 15 Loss 0.0623\n",
      "Time taken for 1 epoch 97.56144070625305 sec\n",
      "\n",
      "Epoch 16 Batch 0 Loss 0.0802\n",
      "Epoch 16 Batch 100 Loss 0.0486\n",
      "Epoch 16 Batch 200 Loss 0.0727\n",
      "Epoch 16 Batch 300 Loss 0.0441\n",
      "Epoch 16 Batch 400 Loss 0.0530\n",
      "Epoch 16 Batch 500 Loss 0.0543\n",
      "Epoch 16 Batch 600 Loss 0.0447\n",
      "Epoch 16 Batch 700 Loss 0.0651\n",
      "Epoch 16 Batch 800 Loss 0.0649\n",
      "Epoch 16 Batch 900 Loss 0.0656\n",
      "Epoch 16 Batch 1000 Loss 0.0706\n",
      "Epoch 16 Batch 1100 Loss 0.0731\n",
      "Epoch 16 Batch 1200 Loss 0.0550\n",
      "Epoch 16 Loss 0.0599\n",
      "Time taken for 1 epoch 98.47296524047852 sec\n",
      "\n",
      "Epoch 17 Batch 0 Loss 0.0388\n",
      "Epoch 17 Batch 100 Loss 0.0535\n",
      "Epoch 17 Batch 200 Loss 0.0522\n",
      "Epoch 17 Batch 300 Loss 0.0419\n",
      "Epoch 17 Batch 400 Loss 0.0587\n",
      "Epoch 17 Batch 500 Loss 0.0520\n",
      "Epoch 17 Batch 600 Loss 0.0502\n",
      "Epoch 17 Batch 700 Loss 0.0468\n",
      "Epoch 17 Batch 800 Loss 0.0695\n",
      "Epoch 17 Batch 900 Loss 0.0886\n",
      "Epoch 17 Batch 1000 Loss 0.0707\n",
      "Epoch 17 Batch 1100 Loss 0.0606\n",
      "Epoch 17 Batch 1200 Loss 0.0689\n",
      "Epoch 17 Loss 0.0582\n",
      "Time taken for 1 epoch 97.54169917106628 sec\n",
      "\n",
      "Epoch 18 Batch 0 Loss 0.0437\n",
      "Epoch 18 Batch 100 Loss 0.0565\n",
      "Epoch 18 Batch 200 Loss 0.0444\n",
      "Epoch 18 Batch 300 Loss 0.0558\n",
      "Epoch 18 Batch 400 Loss 0.0284\n",
      "Epoch 18 Batch 500 Loss 0.0430\n",
      "Epoch 18 Batch 600 Loss 0.0452\n",
      "Epoch 18 Batch 700 Loss 0.0490\n",
      "Epoch 18 Batch 800 Loss 0.0573\n",
      "Epoch 18 Batch 900 Loss 0.0916\n",
      "Epoch 18 Batch 1000 Loss 0.0713\n",
      "Epoch 18 Batch 1100 Loss 0.0786\n",
      "Epoch 18 Batch 1200 Loss 0.0499\n",
      "Epoch 18 Loss 0.0579\n",
      "Time taken for 1 epoch 98.18565106391907 sec\n",
      "\n",
      "Epoch 19 Batch 0 Loss 0.0249\n",
      "Epoch 19 Batch 100 Loss 0.0643\n",
      "Epoch 19 Batch 200 Loss 0.0679\n",
      "Epoch 19 Batch 300 Loss 0.0716\n",
      "Epoch 19 Batch 400 Loss 0.0681\n",
      "Epoch 19 Batch 500 Loss 0.0383\n",
      "Epoch 19 Batch 600 Loss 0.0432\n",
      "Epoch 19 Batch 700 Loss 0.0814\n",
      "Epoch 19 Batch 800 Loss 0.0325\n",
      "Epoch 19 Batch 900 Loss 0.0469\n",
      "Epoch 19 Batch 1000 Loss 0.0704\n",
      "Epoch 19 Batch 1100 Loss 0.0472\n",
      "Epoch 19 Batch 1200 Loss 0.0407\n",
      "Epoch 19 Loss 0.0556\n",
      "Time taken for 1 epoch 97.5733118057251 sec\n",
      "\n",
      "Epoch 20 Batch 0 Loss 0.0326\n",
      "Epoch 20 Batch 100 Loss 0.0199\n",
      "Epoch 20 Batch 200 Loss 0.0628\n",
      "Epoch 20 Batch 300 Loss 0.0494\n",
      "Epoch 20 Batch 400 Loss 0.0370\n",
      "Epoch 20 Batch 500 Loss 0.0457\n",
      "Epoch 20 Batch 600 Loss 0.0734\n",
      "Epoch 20 Batch 700 Loss 0.0592\n",
      "Epoch 20 Batch 800 Loss 0.0667\n",
      "Epoch 20 Batch 900 Loss 0.0564\n",
      "Epoch 20 Batch 1000 Loss 0.0615\n",
      "Epoch 20 Batch 1100 Loss 0.0355\n",
      "Epoch 20 Batch 1200 Loss 0.0832\n",
      "Epoch 20 Loss 0.0544\n",
      "Time taken for 1 epoch 98.33861184120178 sec\n",
      "\n"
     ]
    }
   ],
   "source": [
    "EPOCHS = 20\n",
    "\n",
    "for epoch in range(EPOCHS):\n",
    "  start = time.time()\n",
    "\n",
    "  enc_hidden = encoder.initialize_hidden_state()\n",
    "  total_loss = 0\n",
    "\n",
    "  for (batch, (inp, targ)) in enumerate(dataset.take(steps_per_epoch)):\n",
    "    batch_loss = train_step(inp, targ, enc_hidden)\n",
    "    total_loss += batch_loss\n",
    "\n",
    "    if batch % 100 == 0:\n",
    "      print('Epoch {} Batch {} Loss {:.4f}'.format(epoch + 1,\n",
    "                                                   batch,\n",
    "                                                   batch_loss.numpy()))\n",
    "  # saving (checkpoint) the model every 2 epochs\n",
    "  if (epoch + 1) % 2 == 0:\n",
    "    checkpoint.save(file_prefix = checkpoint_prefix)\n",
    "\n",
    "  print('Epoch {} Loss {:.4f}'.format(epoch + 1,\n",
    "                                      total_loss / steps_per_epoch))\n",
    "  print('Time taken for 1 epoch {} sec\\n'.format(time.time() - start))"
   ]
  },
  {
   "cell_type": "markdown",
   "metadata": {
    "id": "CUHF-lpujbeA"
   },
   "source": [
    "## Translate\n",
    "\n",
    "* The evaluate function is similar to the training loop, except we don't use *teacher forcing* here. The input to the decoder at each time step is its previous predictions along with the hidden state and the encoder output.\n",
    "* Stop predicting when the model predicts the *end token*.\n",
    "* And store the *attention weights for every time step*.\n",
    "\n",
    "Note: The encoder output is calculated only once for one input."
   ]
  },
  {
   "cell_type": "code",
   "execution_count": 60,
   "metadata": {
    "id": "jPn65ktsjJOg"
   },
   "outputs": [],
   "source": [
    "def evaluate(sentence):\n",
    "  attention_plot = np.zeros((max_length_targ, max_length_inp))\n",
    "\n",
    "  sentence = preprocess_sentence(sentence)\n",
    "\n",
    "  inputs = [inp_lang.word_index[i] for i in sentence.split(' ')]\n",
    "  inputs = tf.keras.preprocessing.sequence.pad_sequences([inputs],\n",
    "                                                         maxlen=max_length_inp,\n",
    "                                                         padding='post')\n",
    "  inputs = tf.convert_to_tensor(inputs)\n",
    "\n",
    "  result = ''\n",
    "\n",
    "  hidden = [tf.zeros((1, units))]\n",
    "  enc_out, enc_hidden = encoder(inputs, hidden)\n",
    "\n",
    "  dec_hidden = enc_hidden\n",
    "  dec_input = tf.expand_dims([targ_lang.word_index['<start>']], 0)\n",
    "\n",
    "  for t in range(max_length_targ):\n",
    "    predictions, dec_hidden, attention_weights = decoder(dec_input,\n",
    "                                                         dec_hidden,\n",
    "                                                         enc_out)\n",
    "\n",
    "    # storing the attention weights to plot later on\n",
    "    attention_weights = tf.reshape(attention_weights, (-1, ))\n",
    "    attention_plot[t] = attention_weights.numpy()\n",
    "\n",
    "    predicted_id = tf.argmax(predictions[0]).numpy()\n",
    "\n",
    "    result += targ_lang.index_word[predicted_id] + ' '\n",
    "\n",
    "    if targ_lang.index_word[predicted_id] == '<end>':\n",
    "      return result, sentence, attention_plot\n",
    "\n",
    "    # the predicted ID is fed back into the model\n",
    "    dec_input = tf.expand_dims([predicted_id], 0)\n",
    "\n",
    "  return result, sentence, attention_plot"
   ]
  },
  {
   "cell_type": "code",
   "execution_count": 61,
   "metadata": {
    "id": "vdLcp2wpjdbO"
   },
   "outputs": [],
   "source": [
    "# function for plotting the attention weights\n",
    "def plot_attention(attention, sentence, predicted_sentence):\n",
    "  fig = plt.figure(figsize=(10,10))\n",
    "  ax = fig.add_subplot(1, 1, 1)\n",
    "  ax.matshow(attention, cmap='viridis')\n",
    "\n",
    "  fontdict = {'fontsize': 14}\n",
    "\n",
    "  ax.set_xticklabels([''] + sentence, fontdict=fontdict, rotation=90)\n",
    "  ax.set_yticklabels([''] + predicted_sentence, fontdict=fontdict)\n",
    "\n",
    "  ax.xaxis.set_major_locator(ticker.MultipleLocator(1))\n",
    "  ax.yaxis.set_major_locator(ticker.MultipleLocator(1))\n",
    "\n",
    "  plt.show()"
   ]
  },
  {
   "cell_type": "code",
   "execution_count": 62,
   "metadata": {
    "id": "8fsnsBuljdeG"
   },
   "outputs": [],
   "source": [
    "def translate(sentence):\n",
    "  result, sentence, attention_plot = evaluate(sentence)\n",
    "\n",
    "  print('Input: %s' % (sentence))\n",
    "  print('Predicted translation: {}'.format(result))\n",
    "\n",
    "  attention_plot = attention_plot[:len(result.split(' ')), :len(sentence.split(' '))]\n",
    "  plot_attention(attention_plot, sentence.split(' '), result.split(' '))"
   ]
  },
  {
   "cell_type": "markdown",
   "metadata": {
    "id": "j608UXKujnNf"
   },
   "source": [
    "## Restore the latest checkpoint and test"
   ]
  },
  {
   "cell_type": "code",
   "execution_count": 63,
   "metadata": {
    "colab": {
     "base_uri": "https://localhost:8080/"
    },
    "id": "XO-6nmfXjdgr",
    "outputId": "96866fd3-1627-40dc-c292-f88caa283b03"
   },
   "outputs": [
    {
     "data": {
      "text/plain": [
       "<tensorflow.python.training.tracking.util.CheckpointLoadStatus at 0x7f06f3b2fa50>"
      ]
     },
     "execution_count": 63,
     "metadata": {},
     "output_type": "execute_result"
    }
   ],
   "source": [
    "# restoring the latest checkpoint in checkpoint_dir\n",
    "checkpoint.restore(tf.train.latest_checkpoint(checkpoint_dir))"
   ]
  },
  {
   "cell_type": "code",
   "execution_count": 64,
   "metadata": {
    "colab": {
     "base_uri": "https://localhost:8080/",
     "height": 676
    },
    "id": "zhd1UbtCjdin",
    "outputId": "4a2c32df-77fb-408d-92e7-dea8bfe51697"
   },
   "outputs": [
    {
     "name": "stdout",
     "output_type": "stream",
     "text": [
      "Input: <start> здесь хорошо . <end>\n",
      "Predicted translation: it's fine here . <end> \n"
     ]
    },
    {
     "data": {
      "image/png": "[encoded data removed]",
      "text/plain": [
       "<Figure size 720x720 with 1 Axes>"
      ]
     },
     "metadata": {
      "needs_background": "light"
     },
     "output_type": "display_data"
    }
   ],
   "source": [
    "translate('Здесь хорошо.')"
   ]
  },
  {
   "cell_type": "code",
   "execution_count": 65,
   "metadata": {
    "colab": {
     "base_uri": "https://localhost:8080/",
     "height": 614
    },
    "id": "1HZENCAMjdk1",
    "outputId": "c9ceff93-0e18-4bc1-a90c-1e168496a5c4"
   },
   "outputs": [
    {
     "name": "stdout",
     "output_type": "stream",
     "text": [
      "Input: <start> я не смогу поехать . <end>\n",
      "Predicted translation: i can't go . <end> \n"
     ]
    },
    {
     "data": {
      "image/png": "[encoded data removed]",
      "text/plain": [
       "<Figure size 720x720 with 1 Axes>"
      ]
     },
     "metadata": {
      "needs_background": "light"
     },
     "output_type": "display_data"
    }
   ],
   "source": [
    "translate('Я не смогу поехать.')"
   ]
  },
  {
   "cell_type": "code",
   "execution_count": 66,
   "metadata": {
    "colab": {
     "base_uri": "https://localhost:8080/",
     "height": 676
    },
    "id": "WEmtrmFGjdno",
    "outputId": "96b982ed-deb5-4e20-bbb9-2e72b3edcf5e"
   },
   "outputs": [
    {
     "name": "stdout",
     "output_type": "stream",
     "text": [
      "Input: <start> вы еще дома ? <end>\n",
      "Predicted translation: are you still home ? <end> \n"
     ]
    },
    {
     "data": {
      "image/png": "[encoded data removed]",
      "text/plain": [
       "<Figure size 720x720 with 1 Axes>"
      ]
     },
     "metadata": {
      "needs_background": "light"
     },
     "output_type": "display_data"
    }
   ],
   "source": [
    "translate(u'Вы еще дома?')"
   ]
  },
  {
   "cell_type": "code",
   "execution_count": 67,
   "metadata": {
    "colab": {
     "base_uri": "https://localhost:8080/",
     "height": 676
    },
    "id": "-COial5IjJSZ",
    "outputId": "25aca843-1bf3-42df-8f2e-88dac2b1dd00"
   },
   "outputs": [
    {
     "name": "stdout",
     "output_type": "stream",
     "text": [
      "Input: <start> вы все еще дома ? <end>\n",
      "Predicted translation: are you still at home ? <end> \n"
     ]
    },
    {
     "data": {
      "image/png": "[encoded data removed]",
      "text/plain": [
       "<Figure size 720x720 with 1 Axes>"
      ]
     },
     "metadata": {
      "needs_background": "light"
     },
     "output_type": "display_data"
    }
   ],
   "source": [
    "translate(u'Вы все еще дома?')"
   ]
  },
  {
   "cell_type": "code",
   "execution_count": 68,
   "metadata": {
    "colab": {
     "base_uri": "https://localhost:8080/",
     "height": 690
    },
    "id": "G5zUR3DJjv7V",
    "outputId": "9e8d46a4-60e1-438b-a0b5-135b70a5285a"
   },
   "outputs": [
    {
     "name": "stdout",
     "output_type": "stream",
     "text": [
      "Input: <start> попробуй сделать это . <end>\n",
      "Predicted translation: try doing it fixed . <end> \n"
     ]
    },
    {
     "data": {
      "image/png": "[encoded data removed]",
      "text/plain": [
       "<Figure size 720x720 with 1 Axes>"
      ]
     },
     "metadata": {
      "needs_background": "light"
     },
     "output_type": "display_data"
    }
   ],
   "source": [
    "translate(u'Попробуй сделать это.')"
   ]
  },
  {
   "cell_type": "code",
   "execution_count": 69,
   "metadata": {
    "colab": {
     "base_uri": "https://localhost:8080/",
     "height": 690
    },
    "id": "iigd980xjv-w",
    "outputId": "fe0cf09b-a34c-44f2-9e04-adfacbec9469"
   },
   "outputs": [
    {
     "name": "stdout",
     "output_type": "stream",
     "text": [
      "Input: <start> попробуй сделать это . <end>\n",
      "Predicted translation: try doing it fixed . <end> \n"
     ]
    },
    {
     "data": {
      "image/png": "[encoded data removed]",
      "text/plain": [
       "<Figure size 720x720 with 1 Axes>"
      ]
     },
     "metadata": {
      "needs_background": "light"
     },
     "output_type": "display_data"
    }
   ],
   "source": [
    "translate(u'Попробуй сделать это.')"
   ]
  },
  {
   "cell_type": "code",
   "execution_count": 70,
   "metadata": {
    "colab": {
     "base_uri": "https://localhost:8080/",
     "height": 523
    },
    "id": "VYjC2xUijwCQ",
    "outputId": "d1dbdd91-989b-4a9b-acd5-de35962cf4a9"
   },
   "outputs": [
    {
     "name": "stdout",
     "output_type": "stream",
     "text": [
      "Input: <start> я не люблю , когда идет снег . <end>\n",
      "Predicted translation: i don't like snow . <end> \n"
     ]
    },
    {
     "data": {
      "image/png": "[encoded data removed]",
      "text/plain": [
       "<Figure size 720x720 with 1 Axes>"
      ]
     },
     "metadata": {
      "needs_background": "light"
     },
     "output_type": "display_data"
    }
   ],
   "source": [
    "translate(u'Я не люблю, когда идет снег.')"
   ]
  },
  {
   "cell_type": "code",
   "execution_count": 71,
   "metadata": {
    "colab": {
     "base_uri": "https://localhost:8080/",
     "height": 626
    },
    "id": "07rplsAijwF8",
    "outputId": "ceac403f-2d8c-4528-9904-241753ea4da3"
   },
   "outputs": [
    {
     "name": "stdout",
     "output_type": "stream",
     "text": [
      "Input: <start> я никогда такого не делаю . <end>\n",
      "Predicted translation: i never do that . <end> \n"
     ]
    },
    {
     "data": {
      "image/png": "[encoded data removed]",
      "text/plain": [
       "<Figure size 720x720 with 1 Axes>"
      ]
     },
     "metadata": {
      "needs_background": "light"
     },
     "output_type": "display_data"
    }
   ],
   "source": [
    "translate(u'Я никогда такого не делаю.')"
   ]
  },
  {
   "cell_type": "code",
   "execution_count": 72,
   "metadata": {
    "colab": {
     "base_uri": "https://localhost:8080/",
     "height": 439
    },
    "id": "JLOeF3JPjwJr",
    "outputId": "e405dacc-7aff-449a-8cbc-cab82edd9730"
   },
   "outputs": [
    {
     "name": "stdout",
     "output_type": "stream",
     "text": [
      "Input: <start> интересно , а если написать длинное предложение и попробовать его перевести , какой результат мы увидим ? <end>\n",
      "Predicted translation: i have to act . <end> \n"
     ]
    },
    {
     "data": {
      "image/png": "[encoded data removed]",
      "text/plain": [
       "<Figure size 720x720 with 1 Axes>"
      ]
     },
     "metadata": {
      "needs_background": "light"
     },
     "output_type": "display_data"
    }
   ],
   "source": [
    "translate(u'Интересно, а если написать длинное предложение и попробовать его перевести, какой результат мы увидим?')"
   ]
  },
  {
   "cell_type": "markdown",
   "metadata": {
    "id": "aAby8k0wx9CV"
   },
   "source": [
    "__Вывод:__<br>\n",
    "\n",
    "При увеличении длины текста, качество перевода резко падает. Перевод не соответствует последнему предложению."
   ]
  },
  {
   "cell_type": "code",
   "execution_count": null,
   "metadata": {
    "id": "-oCa1b3yjwSC"
   },
   "outputs": [],
   "source": []
  }
 ],
 "metadata": {
  "accelerator": "GPU",
  "colab": {
   "collapsed_sections": [],
   "name": "lesson_10_hw_colab.ipynb",
   "provenance": []
  },
  "gpuClass": "standard",
  "kernelspec": {
   "display_name": "Python 3.8 (causalml)",
   "language": "python",
   "name": "causalml-py38"
  },
  "language_info": {
   "codemirror_mode": {
    "name": "ipython",
    "version": 3
   },
   "file_extension": ".py",
   "mimetype": "text/x-python",
   "name": "python",
   "nbconvert_exporter": "python",
   "pygments_lexer": "ipython3",
   "version": "3.8.5"
  }
 },
 "nbformat": 4,
 "nbformat_minor": 1
}
