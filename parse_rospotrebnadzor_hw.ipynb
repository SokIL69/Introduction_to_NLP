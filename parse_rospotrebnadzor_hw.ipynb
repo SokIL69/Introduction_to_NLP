{
 "cells": [
  {
   "cell_type": "markdown",
   "metadata": {},
   "source": [
    "## качаем данные"
   ]
  },
  {
   "cell_type": "code",
   "execution_count": 1,
   "metadata": {},
   "outputs": [],
   "source": [
    "import requests\n",
    "from bs4 import BeautifulSoup \n",
    "import time\n",
    "from urllib.parse import urlparse, urljoin\n",
    "from tqdm.notebook import tqdm"
   ]
  },
  {
   "cell_type": "code",
   "execution_count": 112,
   "metadata": {},
   "outputs": [
    {
     "data": {
      "application/vnd.jupyter.widget-view+json": {
       "model_id": "be1b5e56279949f994fd010dd3b73c0b",
       "version_major": 2,
       "version_minor": 0
      },
      "text/plain": [
       "HBox(children=(HTML(value='Pages'), FloatProgress(value=0.0, max=499.0), HTML(value='')))"
      ]
     },
     "metadata": {},
     "output_type": "display_data"
    },
    {
     "name": "stdout",
     "output_type": "stream",
     "text": [
      "\n"
     ]
    },
    {
     "data": {
      "text/plain": [
       "'\\n<div class=\"col-md-12\">\\n    <a href=\"/Forum/Appeals/Details/33375\" class=\"appeal-title-link\">\\n        <span class=\"custom-underline\">\\n            Отказ в возврате денег за сертификат\\n        </span>\\n    </a>\\n</div>\\n'"
      ]
     },
     "execution_count": 112,
     "metadata": {},
     "output_type": "execute_result"
    }
   ],
   "source": [
    "## найти id каждого вопроса на страницах\n",
    "page = 1\n",
    "main_url = 'https://zpp.rospotrebnadzor.ru/Forum/Appeals/AjaxindexList?page={page}&searchtext=&categories=[]'\n",
    "\n",
    "def ids_from_page(soup):\n",
    "    return [i.get('href') for i  in soup.findAll('a', {'class':'appeal-title-link'})]\n",
    "\n",
    "number_pages = 500\n",
    "urls = []\n",
    "for page in tqdm(range(1, number_pages), desc='Pages'):\n",
    "    time.sleep(0.5)\n",
    "    res = requests.get(main_url.format(page=page))  \n",
    "    soup = BeautifulSoup(res.text)\n",
    "    urls.extend(ids_from_page(soup))\n",
    "    \n",
    "\"\"\"\n",
    "<div class=\"col-md-12\">\n",
    "    <a href=\"/Forum/Appeals/Details/33375\" class=\"appeal-title-link\">\n",
    "        <span class=\"custom-underline\">\n",
    "            Отказ в возврате денег за сертификат\n",
    "        </span>\n",
    "    </a>\n",
    "</div>\n",
    "\"\"\""
   ]
  },
  {
   "cell_type": "code",
   "execution_count": 120,
   "metadata": {},
   "outputs": [
    {
     "data": {
      "text/plain": [
       "['/Forum/Appeals/Details/33375',\n",
       " '/Forum/Appeals/Details/33365',\n",
       " '/Forum/Appeals/Details/33359',\n",
       " '/Forum/Appeals/Details/33358',\n",
       " '/Forum/Appeals/Details/33356',\n",
       " '/Forum/Appeals/Details/33355',\n",
       " '/Forum/Appeals/Details/33354',\n",
       " '/Forum/Appeals/Details/33352',\n",
       " '/Forum/Appeals/Details/33351',\n",
       " '/Forum/Appeals/Details/33348']"
      ]
     },
     "execution_count": 120,
     "metadata": {},
     "output_type": "execute_result"
    }
   ],
   "source": [
    "urls[:10]"
   ]
  },
  {
   "cell_type": "code",
   "execution_count": 121,
   "metadata": {},
   "outputs": [
    {
     "data": {
      "application/vnd.jupyter.widget-view+json": {
       "model_id": "9de8988f97254cc3a5837f153f1ced7f",
       "version_major": 2,
       "version_minor": 0
      },
      "text/plain": [
       "HBox(children=(HTML(value='Pages'), FloatProgress(value=0.0, max=2495.0), HTML(value='')))"
      ]
     },
     "metadata": {},
     "output_type": "display_data"
    },
    {
     "name": "stdout",
     "output_type": "stream",
     "text": [
      "\n"
     ]
    }
   ],
   "source": [
    "## имея id запросов достанем тексты на страницах\n",
    "domain = 'https://zpp.rospotrebnadzor.ru'\n",
    "\n",
    "def get_text_page_question(soup):\n",
    "    return soup.findAll('p', {'class':'appeal-details-message'})[0].text\n",
    "def get_text_page_answer(soup):\n",
    "    return soup.findAll('p', {'class':'appeal-comments-message'})[0].text\n",
    "\n",
    "question = []\n",
    "answers = []\n",
    "\n",
    "for url in tqdm(urls, desc='Pages'):\n",
    "    time.sleep(0.5)\n",
    "    res = requests.get(urljoin(domain, url))  \n",
    "    soup = BeautifulSoup(res.text)\n",
    "    \n",
    "    question.append(get_text_page_question(soup))\n",
    "    try:\n",
    "        answers.append(get_text_page_answer(soup))\n",
    "    except:\n",
    "        answers.append('No answer')\n",
    "  \n",
    "\"\"\"\n",
    "# https://zpp.rospotrebnadzor.ru/Forum/Appeals/Details/33375\n",
    "...\n",
    "<div class=\"row\">\n",
    "    <div class=\"col-md-12\">\n",
    "        <p class=\"appeal-details-message\">\n",
    "            24 мая 2022 года получил в подарок сертификат отдела мужской одежды магазина «ЦУМ»\n",
    "            (ООО «Торговая компания «Сыктывкар», г. Сыктывкар, ул. Интернациональная, 147) номиналом в 2000 рублей.\n",
    "            3 июня 2022 года обратился в магазин с целью возврата денежных средств за сертификат, на что получил отказ.\n",
    "            При том что владелец сертификата может отказаться от него и потребовать у магазина возврата денежных средств\n",
    "            согласно статье 421 Гражданского кодекса РФ о свободе договора.\n",
    "            Так же в соответствии со статьей 1102 Гражданского кодекса РФ магазин обязан вернуть денежные средства,\n",
    "            так как я не собираюсь воспользоваться сертификатом, а у магазина возникает неосновательное обогащение.\n",
    "            Кроме того, на самом сертификате написано о невозможности его вернуть, что является нарушением закона,\n",
    "            так как согласно определению Верховного суда от 27.12.2018 № 305-АД18-18522 ущемляет права потребителей.\n",
    "            Ввиду вышеизложенного прошу обязать магазин вернуть мне денежные средства за сертификат\n",
    "            и подвергнуть его взысканию за нарушение законодательства.\n",
    "            А так же обязать исправить противоречащую закону\n",
    "            и вводящую в заблуждение потребителя информацию на самом сертификате.\n",
    "        </p>\n",
    "    </div>\n",
    "    <div class=\"col-md-12\">\n",
    "        <p class=\"appeal-element-bottom\"><span> Опубликовано: </span> 03.06.2022 в 13:24</p>\n",
    "    </div>\n",
    "</div>\n",
    "...\n",
    "\"\"\""
   ]
  },
  {
   "cell_type": "code",
   "execution_count": 122,
   "metadata": {},
   "outputs": [
    {
     "name": "stdout",
     "output_type": "stream",
     "text": [
      "Q: Добрый день.\r\n",
      "Купила в магазине техники электросамокат,попробовать как он ездит,в магазине не разрешили,попросила продавца рассказать про товар,она сказала,что она о нем ничего не знает,колеса..руль...газ..тормоз,сигнал горит,в течение двух недель можете вернуть - это все что было сказано.Попробовала дома его,а у этой модели практически нет амортизации и жесткий ход колеса и сложить самой его очень трудно.Приехала в магазин через 4 дня,где мне отказали его взять,сославшись на то,что этот товар с электродвигателем и входит в перечень товаров,которые нельзя вернуть,а только обменять на аналогичный,но в магазине не было такой модели с похожими характеристиками.Мне посоветовали написать претензию и вернули товар обратно.Правомерны ли действия магазина?и если не правомерны,то можно ссылку на закон?\n",
      "\n",
      "A: Добрый день! Повторно, согласно ст.25 Закона о защите прав потребителей,от 07.02.1992 № 2300-1,  Потребитель вправе обменять непродовольственный товар надлежащего качества на аналогичный товар у продавца, у которого этот товар был приобретен, если указанный товар не подошел по форме, габаритам, фасону, расцветке, размеру или комплектации.\r\n",
      "Потребитель имеет право на обмен непродовольственного товара надлежащего качества в течение четырнадцати дней, не считая дня его покупки.\r\n",
      "Обмен непродовольственного товара надлежащего качества проводится, если указанный товар не был в употреблении, сохранены его товарный вид, потребительские свойства, пломбы, фабричные ярлыки, а также имеется товарный чек или кассовый чек либо иной подтверждающий оплату указанного товара документ. Отсутствие у потребителя товарного чека или кассового чека либо иного подтверждающего оплату товара документа не лишает его возможности ссылаться на свидетельские показания.\r\n",
      "Перечень товаров, не подлежащих обмену по основаниям, указанным в настоящей статье, утверждается Правительством Российской Федерации.\r\n",
      " В случае, если аналогичный товар отсутствует в продаже на день обращения потребителя к продавцу, потребитель вправе отказаться от исполнения договора купли-продажи и потребовать возврата уплаченной за указанный товар денежной суммы. Требование потребителя о возврате уплаченной за указанный товар денежной суммы подлежит удовлетворению в течение трех дней со дня возврата указанного товара.\r\n",
      "По соглашению потребителя с продавцом обмен товара может быть предусмотрен при поступлении аналогичного товара в продажу. Продавец обязан незамедлительно сообщить потребителю о поступлении аналогичного товара в продажу.\r\n",
      "\n"
     ]
    }
   ],
   "source": [
    "## посмотрим, что скачалось\n",
    "N = 2\n",
    "print('Q:', question[N])\n",
    "print()\n",
    "print('A:', answers[N])"
   ]
  },
  {
   "cell_type": "code",
   "execution_count": 123,
   "metadata": {},
   "outputs": [
    {
     "name": "stdout",
     "output_type": "stream",
     "text": [
      "<class 'list'>\n",
      "2495\n",
      "2495\n"
     ]
    }
   ],
   "source": [
    "print(type(question))\n",
    "print(len(question))\n",
    "print(len(answers))"
   ]
  },
  {
   "cell_type": "code",
   "execution_count": 124,
   "metadata": {},
   "outputs": [],
   "source": [
    "import pandas as pd"
   ]
  },
  {
   "cell_type": "code",
   "execution_count": 125,
   "metadata": {},
   "outputs": [
    {
     "data": {
      "text/html": [
       "<div>\n",
       "<style scoped>\n",
       "    .dataframe tbody tr th:only-of-type {\n",
       "        vertical-align: middle;\n",
       "    }\n",
       "\n",
       "    .dataframe tbody tr th {\n",
       "        vertical-align: top;\n",
       "    }\n",
       "\n",
       "    .dataframe thead th {\n",
       "        text-align: right;\n",
       "    }\n",
       "</style>\n",
       "<table border=\"1\" class=\"dataframe\">\n",
       "  <thead>\n",
       "    <tr style=\"text-align: right;\">\n",
       "      <th></th>\n",
       "      <th>0</th>\n",
       "    </tr>\n",
       "  </thead>\n",
       "  <tbody>\n",
       "    <tr>\n",
       "      <th>0</th>\n",
       "      <td>24 мая 2022 года получил в подарок сертификат ...</td>\n",
       "    </tr>\n",
       "    <tr>\n",
       "      <th>1</th>\n",
       "      <td>Добрый день! помогите пожалуйста разобраться в...</td>\n",
       "    </tr>\n",
       "    <tr>\n",
       "      <th>2</th>\n",
       "      <td>Добрый день.\\r\\nКупила в магазине техники элек...</td>\n",
       "    </tr>\n",
       "    <tr>\n",
       "      <th>3</th>\n",
       "      <td>Добрый день.\\r\\nКупила в магазине техники элек...</td>\n",
       "    </tr>\n",
       "    <tr>\n",
       "      <th>4</th>\n",
       "      <td>Добрый день!\\r\\nПрошу вас разъяснить следующий...</td>\n",
       "    </tr>\n",
       "  </tbody>\n",
       "</table>\n",
       "</div>"
      ],
      "text/plain": [
       "                                                   0\n",
       "0  24 мая 2022 года получил в подарок сертификат ...\n",
       "1  Добрый день! помогите пожалуйста разобраться в...\n",
       "2  Добрый день.\\r\\nКупила в магазине техники элек...\n",
       "3  Добрый день.\\r\\nКупила в магазине техники элек...\n",
       "4  Добрый день!\\r\\nПрошу вас разъяснить следующий..."
      ]
     },
     "execution_count": 125,
     "metadata": {},
     "output_type": "execute_result"
    }
   ],
   "source": [
    "columns = ['Text'] \n",
    "question_df = pd.DataFrame(question)\n",
    "question_df.head()"
   ]
  },
  {
   "cell_type": "code",
   "execution_count": 126,
   "metadata": {},
   "outputs": [
    {
     "data": {
      "text/html": [
       "<div>\n",
       "<style scoped>\n",
       "    .dataframe tbody tr th:only-of-type {\n",
       "        vertical-align: middle;\n",
       "    }\n",
       "\n",
       "    .dataframe tbody tr th {\n",
       "        vertical-align: top;\n",
       "    }\n",
       "\n",
       "    .dataframe thead th {\n",
       "        text-align: right;\n",
       "    }\n",
       "</style>\n",
       "<table border=\"1\" class=\"dataframe\">\n",
       "  <thead>\n",
       "    <tr style=\"text-align: right;\">\n",
       "      <th></th>\n",
       "      <th>0</th>\n",
       "    </tr>\n",
       "  </thead>\n",
       "  <tbody>\n",
       "    <tr>\n",
       "      <th>0</th>\n",
       "      <td>No answer</td>\n",
       "    </tr>\n",
       "    <tr>\n",
       "      <th>1</th>\n",
       "      <td>Уважаемая Арина!\\r\\nЕсли Вы заключили договор ...</td>\n",
       "    </tr>\n",
       "    <tr>\n",
       "      <th>2</th>\n",
       "      <td>Добрый день! Повторно, согласно ст.25 Закона о...</td>\n",
       "    </tr>\n",
       "    <tr>\n",
       "      <th>3</th>\n",
       "      <td>Добрый день! Прежде всего технически сложные т...</td>\n",
       "    </tr>\n",
       "    <tr>\n",
       "      <th>4</th>\n",
       "      <td>Управление Роспотребнадзора по Ярославской обл...</td>\n",
       "    </tr>\n",
       "  </tbody>\n",
       "</table>\n",
       "</div>"
      ],
      "text/plain": [
       "                                                   0\n",
       "0                                          No answer\n",
       "1  Уважаемая Арина!\\r\\nЕсли Вы заключили договор ...\n",
       "2  Добрый день! Повторно, согласно ст.25 Закона о...\n",
       "3  Добрый день! Прежде всего технически сложные т...\n",
       "4  Управление Роспотребнадзора по Ярославской обл..."
      ]
     },
     "execution_count": 126,
     "metadata": {},
     "output_type": "execute_result"
    }
   ],
   "source": [
    "answers_df = pd.DataFrame(answers)\n",
    "answers_df.head()"
   ]
  },
  {
   "cell_type": "code",
   "execution_count": 127,
   "metadata": {},
   "outputs": [],
   "source": [
    "question_df.to_csv(\"./data/rpn_question.csv\", header=False, index=False, encoding='utf-8')  # Сохранение без индексации\n",
    "answers_df.to_csv(\"./data/rpn_answers.csv\", header=False, index=False, encoding='utf-8')  # Сохранение без индексации"
   ]
  },
  {
   "cell_type": "code",
   "execution_count": 128,
   "metadata": {},
   "outputs": [
    {
     "data": {
      "text/html": [
       "<div>\n",
       "<style scoped>\n",
       "    .dataframe tbody tr th:only-of-type {\n",
       "        vertical-align: middle;\n",
       "    }\n",
       "\n",
       "    .dataframe tbody tr th {\n",
       "        vertical-align: top;\n",
       "    }\n",
       "\n",
       "    .dataframe thead th {\n",
       "        text-align: right;\n",
       "    }\n",
       "</style>\n",
       "<table border=\"1\" class=\"dataframe\">\n",
       "  <thead>\n",
       "    <tr style=\"text-align: right;\">\n",
       "      <th></th>\n",
       "      <th>Text</th>\n",
       "    </tr>\n",
       "  </thead>\n",
       "  <tbody>\n",
       "    <tr>\n",
       "      <th>0</th>\n",
       "      <td>24 мая 2022 года получил в подарок сертификат ...</td>\n",
       "    </tr>\n",
       "    <tr>\n",
       "      <th>1</th>\n",
       "      <td>Добрый день! помогите пожалуйста разобраться в...</td>\n",
       "    </tr>\n",
       "    <tr>\n",
       "      <th>2</th>\n",
       "      <td>Добрый день.\\r\\nКупила в магазине техники элек...</td>\n",
       "    </tr>\n",
       "    <tr>\n",
       "      <th>3</th>\n",
       "      <td>Добрый день.\\r\\nКупила в магазине техники элек...</td>\n",
       "    </tr>\n",
       "    <tr>\n",
       "      <th>4</th>\n",
       "      <td>Добрый день!\\r\\nПрошу вас разъяснить следующий...</td>\n",
       "    </tr>\n",
       "  </tbody>\n",
       "</table>\n",
       "</div>"
      ],
      "text/plain": [
       "                                                Text\n",
       "0  24 мая 2022 года получил в подарок сертификат ...\n",
       "1  Добрый день! помогите пожалуйста разобраться в...\n",
       "2  Добрый день.\\r\\nКупила в магазине техники элек...\n",
       "3  Добрый день.\\r\\nКупила в магазине техники элек...\n",
       "4  Добрый день!\\r\\nПрошу вас разъяснить следующий..."
      ]
     },
     "execution_count": 128,
     "metadata": {},
     "output_type": "execute_result"
    }
   ],
   "source": [
    "combine_df = pd.read_csv(\"./data/rpn_question.csv\", names = columns)\n",
    "combine_df.head()"
   ]
  },
  {
   "cell_type": "code",
   "execution_count": 129,
   "metadata": {},
   "outputs": [
    {
     "data": {
      "text/html": [
       "<div>\n",
       "<style scoped>\n",
       "    .dataframe tbody tr th:only-of-type {\n",
       "        vertical-align: middle;\n",
       "    }\n",
       "\n",
       "    .dataframe tbody tr th {\n",
       "        vertical-align: top;\n",
       "    }\n",
       "\n",
       "    .dataframe thead th {\n",
       "        text-align: right;\n",
       "    }\n",
       "</style>\n",
       "<table border=\"1\" class=\"dataframe\">\n",
       "  <thead>\n",
       "    <tr style=\"text-align: right;\">\n",
       "      <th></th>\n",
       "      <th>Text</th>\n",
       "    </tr>\n",
       "  </thead>\n",
       "  <tbody>\n",
       "    <tr>\n",
       "      <th>0</th>\n",
       "      <td>No answer</td>\n",
       "    </tr>\n",
       "    <tr>\n",
       "      <th>1</th>\n",
       "      <td>Уважаемая Арина!\\r\\nЕсли Вы заключили договор ...</td>\n",
       "    </tr>\n",
       "    <tr>\n",
       "      <th>2</th>\n",
       "      <td>Добрый день! Повторно, согласно ст.25 Закона о...</td>\n",
       "    </tr>\n",
       "    <tr>\n",
       "      <th>3</th>\n",
       "      <td>Добрый день! Прежде всего технически сложные т...</td>\n",
       "    </tr>\n",
       "    <tr>\n",
       "      <th>4</th>\n",
       "      <td>Управление Роспотребнадзора по Ярославской обл...</td>\n",
       "    </tr>\n",
       "  </tbody>\n",
       "</table>\n",
       "</div>"
      ],
      "text/plain": [
       "                                                Text\n",
       "0                                          No answer\n",
       "1  Уважаемая Арина!\\r\\nЕсли Вы заключили договор ...\n",
       "2  Добрый день! Повторно, согласно ст.25 Закона о...\n",
       "3  Добрый день! Прежде всего технически сложные т...\n",
       "4  Управление Роспотребнадзора по Ярославской обл..."
      ]
     },
     "execution_count": 129,
     "metadata": {},
     "output_type": "execute_result"
    }
   ],
   "source": [
    "combine_df = pd.read_csv(\"./data/rpn_answers.csv\", names = columns)\n",
    "combine_df.head()"
   ]
  },
  {
   "cell_type": "code",
   "execution_count": 55,
   "metadata": {},
   "outputs": [],
   "source": [
    "# import csv\n",
    "\n",
    "# with open(\"./data/rpn_question.csv\", \"w\", newline=\"\", encoding='utf-8') as f:\n",
    "#     writer = csv.writer(f)\n",
    "#     writer.writerows(question)"
   ]
  },
  {
   "cell_type": "code",
   "execution_count": 56,
   "metadata": {},
   "outputs": [],
   "source": [
    "# with open(\"./data/rpn_answers.csv\", \"w\", newline=\"\", encoding='utf-8') as f:\n",
    "#     writer = csv.writer(f)\n",
    "#     writer.writerows(answers)"
   ]
  },
  {
   "cell_type": "code",
   "execution_count": null,
   "metadata": {},
   "outputs": [],
   "source": []
  }
 ],
 "metadata": {
  "kernelspec": {
   "display_name": "Python 3",
   "language": "python",
   "name": "python3"
  },
  "language_info": {
   "codemirror_mode": {
    "name": "ipython",
    "version": 3
   },
   "file_extension": ".py",
   "mimetype": "text/x-python",
   "name": "python",
   "nbconvert_exporter": "python",
   "pygments_lexer": "ipython3",
   "version": "3.8.5"
  }
 },
 "nbformat": 4,
 "nbformat_minor": 5
}
