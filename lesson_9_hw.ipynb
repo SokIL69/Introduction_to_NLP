{
  "cells": [
    {
      "cell_type": "markdown",
      "metadata": {
        "id": "G2SsNKb9SBwO"
      },
      "source": [
        "# Введение в обработку естественного языка\n",
        "# Урок 9. Языковое моделирование"
      ]
    },
    {
      "cell_type": "markdown",
      "metadata": {
        "id": "tcInx_wbSBwV"
      },
      "source": [
        "# <font color='red'>Практическое задание</font>"
      ]
    },
    {
      "cell_type": "markdown",
      "metadata": {
        "id": "VEtQ6figSBwW"
      },
      "source": [
        "### Домашнее задание к уроку 9\n",
        "\n",
        "__Задание__<br>\n",
        "Разобраться с моделькой генерации текста, собрать самим или взять датасет с вебинара и обучить генератор текстов"
      ]
    },
    {
      "cell_type": "markdown",
      "metadata": {
        "id": "thvclazgSBwX"
      },
      "source": [
        "Выполнил ___Соковнин ИЛ___"
      ]
    },
    {
      "cell_type": "code",
      "execution_count": 1,
      "metadata": {
        "id": "wDw1jOAsSBwZ"
      },
      "outputs": [],
      "source": [
        "import tensorflow as tf\n",
        "\n",
        "import numpy as np\n",
        "import os\n",
        "import time"
      ]
    },
    {
      "cell_type": "code",
      "source": [
        "import pandas as pd\n",
        "import numpy as np\n",
        "import re"
      ],
      "metadata": {
        "id": "WBl1yKiy-AV-"
      },
      "execution_count": 2,
      "outputs": []
    },
    {
      "cell_type": "code",
      "execution_count": 3,
      "metadata": {
        "id": "Wll7E9ZwSBwa",
        "colab": {
          "base_uri": "https://localhost:8080/"
        },
        "outputId": "873418b6-a103-4aee-fe61-5d2b4eca0fb6"
      },
      "outputs": [
        {
          "output_type": "stream",
          "name": "stdout",
          "text": [
            "mkdir: cannot create directory ‘data’: File exists\n"
          ]
        }
      ],
      "source": [
        "!mkdir data"
      ]
    },
    {
      "cell_type": "code",
      "execution_count": 4,
      "metadata": {
        "id": "Y50FhrwwSBwb",
        "colab": {
          "resources": {
            "http://localhost:8080/nbextensions/google.colab/files.js": {
              "data": "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",
              "ok": true,
              "headers": [
                [
                  "content-type",
                  "application/javascript"
                ]
              ],
              "status": 200,
              "status_text": ""
            }
          },
          "base_uri": "https://localhost:8080/",
          "height": 74
        },
        "outputId": "9e085fd5-22f5-446c-dda1-ca39453432f9"
      },
      "outputs": [
        {
          "output_type": "display_data",
          "data": {
            "text/plain": [
              "<IPython.core.display.HTML object>"
            ],
            "text/html": [
              "\n",
              "     <input type=\"file\" id=\"files-eb9fc68c-2dd4-428b-994a-36bb1b6983a8\" name=\"files[]\" multiple disabled\n",
              "        style=\"border:none\" />\n",
              "     <output id=\"result-eb9fc68c-2dd4-428b-994a-36bb1b6983a8\">\n",
              "      Upload widget is only available when the cell has been executed in the\n",
              "      current browser session. Please rerun this cell to enable.\n",
              "      </output>\n",
              "      <script src=\"/nbextensions/google.colab/files.js\"></script> "
            ]
          },
          "metadata": {}
        },
        {
          "output_type": "stream",
          "name": "stdout",
          "text": [
            "Saving evgenyi_onegin.txt to evgenyi_onegin.txt\n"
          ]
        }
      ],
      "source": [
        "from google.colab import files\n",
        "\n",
        "upload = files.upload()\n",
        "!mv 'evgenyi_onegin.txt' 'data/evgenyi_onegin.txt'"
      ]
    },
    {
      "cell_type": "code",
      "source": [
        "!ls data/*.txt"
      ],
      "metadata": {
        "colab": {
          "base_uri": "https://localhost:8080/"
        },
        "id": "HuKPeiGI8GbM",
        "outputId": "6f761cf9-fef9-4c59-a0ba-a8942aa2816b"
      },
      "execution_count": 5,
      "outputs": [
        {
          "output_type": "stream",
          "name": "stdout",
          "text": [
            "data/evgenyi_onegin.txt\n"
          ]
        }
      ]
    },
    {
      "cell_type": "code",
      "source": [
        "path_to_file = '/content/data/evgenyi_onegin.txt'"
      ],
      "metadata": {
        "id": "Il5tf4sh7B2T"
      },
      "execution_count": 6,
      "outputs": []
    },
    {
      "cell_type": "code",
      "source": [
        "text = open(path_to_file, 'rb').read().decode(encoding='utf-8')\n",
        "\n",
        "# length of text is the number of characters in it\n",
        "print('Length of text: {} characters'.format(len(text)))"
      ],
      "metadata": {
        "colab": {
          "base_uri": "https://localhost:8080/"
        },
        "id": "hxkZHCvy727P",
        "outputId": "68da8704-9ad3-4719-8525-1ab3074ab38d"
      },
      "execution_count": 7,
      "outputs": [
        {
          "output_type": "stream",
          "name": "stdout",
          "text": [
            "Length of text: 286984 characters\n"
          ]
        }
      ]
    },
    {
      "cell_type": "code",
      "source": [
        "print(text[:500])"
      ],
      "metadata": {
        "colab": {
          "base_uri": "https://localhost:8080/"
        },
        "id": "XPgpjvin8neA",
        "outputId": "f6c5258f-a559-4010-816f-8e70e919e5c6"
      },
      "execution_count": 8,
      "outputs": [
        {
          "output_type": "stream",
          "name": "stdout",
          "text": [
            "Александр Сергеевич Пушкин\n",
            "\n",
            "                                Евгений Онегин\n",
            "                                Роман в стихах\n",
            "\n",
            "                        Не мысля гордый свет забавить,\n",
            "                        Вниманье дружбы возлюбя,\n",
            "                        Хотел бы я тебе представить\n",
            "                        Залог достойнее тебя,\n",
            "                        Достойнее души прекрасной,\n",
            "                        Святой исполненной мечты,\n",
            "                        Поэзии живой и ясной,\n",
            "                        Высо\n"
          ]
        }
      ]
    },
    {
      "cell_type": "code",
      "source": [
        "# text = text + text"
      ],
      "metadata": {
        "id": "KbzXr4O49F4f"
      },
      "execution_count": 9,
      "outputs": []
    },
    {
      "cell_type": "code",
      "source": [
        "text = text.split('\\n\\n')"
      ],
      "metadata": {
        "id": "2YUEoVGi8phr"
      },
      "execution_count": 10,
      "outputs": []
    },
    {
      "cell_type": "code",
      "source": [
        "text[0:5]"
      ],
      "metadata": {
        "colab": {
          "base_uri": "https://localhost:8080/"
        },
        "id": "mWWqQipo9IbI",
        "outputId": "40b3c749-1be9-4df7-e75d-114b91f0e71f"
      },
      "execution_count": 11,
      "outputs": [
        {
          "output_type": "execute_result",
          "data": {
            "text/plain": [
              "['Александр Сергеевич Пушкин',\n",
              " '                                Евгений Онегин\\n                                Роман в стихах',\n",
              " '                        Не мысля гордый свет забавить,\\n                        Вниманье дружбы возлюбя,\\n                        Хотел бы я тебе представить\\n                        Залог достойнее тебя,\\n                        Достойнее души прекрасной,\\n                        Святой исполненной мечты,\\n                        Поэзии живой и ясной,\\n                        Высоких дум и простоты;\\n                        Но так и быть - рукой пристрастной\\n                        Прими собранье пестрых глав,\\n                        Полусмешных, полупечальных,\\n                        Простонародных, идеальных,\\n                        Небрежный плод моих забав,\\n                        Бессонниц, легких вдохновений,\\n                        Незрелых и увядших лет,\\n                        Ума холодных наблюдений\\n                        И сердца горестных замет.',\n",
              " '                                 ГЛАВА ПЕРВАЯ',\n",
              " '                                        И жить торопится и чувствовать спешит.\\n                                                                Кн. Вяземский.']"
            ]
          },
          "metadata": {},
          "execution_count": 11
        }
      ]
    },
    {
      "cell_type": "code",
      "source": [
        "len(text)"
      ],
      "metadata": {
        "colab": {
          "base_uri": "https://localhost:8080/"
        },
        "id": "tNduLAOA9LGu",
        "outputId": "e40e9ba9-2025-43bd-b323-210c8d0ed44b"
      },
      "execution_count": 12,
      "outputs": [
        {
          "output_type": "execute_result",
          "data": {
            "text/plain": [
              "782"
            ]
          },
          "metadata": {},
          "execution_count": 12
        }
      ]
    },
    {
      "cell_type": "code",
      "source": [
        "text_only = []\n",
        "\n",
        "for line in text:\n",
        "    if len(line) < 350:\n",
        "        continue\n",
        "    else:\n",
        "        text_only.append(line)\n",
        "        \n",
        "len(text_only)"
      ],
      "metadata": {
        "colab": {
          "base_uri": "https://localhost:8080/"
        },
        "id": "9d-16gqE9XAn",
        "outputId": "1283d8bb-9e6d-409e-ec79-b378baad3a02"
      },
      "execution_count": 13,
      "outputs": [
        {
          "output_type": "execute_result",
          "data": {
            "text/plain": [
              "376"
            ]
          },
          "metadata": {},
          "execution_count": 13
        }
      ]
    },
    {
      "cell_type": "code",
      "source": [
        "text_only[1]"
      ],
      "metadata": {
        "colab": {
          "base_uri": "https://localhost:8080/",
          "height": 88
        },
        "id": "l2SKPN1y9sLG",
        "outputId": "cd79c63c-6d44-44fc-e585-0270f73c4f99"
      },
      "execution_count": 14,
      "outputs": [
        {
          "output_type": "execute_result",
          "data": {
            "text/plain": [
              "'                        \"Мой дядя самых честных правил,\\n                        Когда не в шутку занемог,\\n                        Он уважать себя заставил\\n                        И лучше выдумать не мог.\\n                        Его пример другим наука;\\n                        Но, боже мой, какая скука\\n                        С больным сидеть и день и ночь,\\n                        Не отходя ни шагу прочь!\\n                        Какое низкое коварство\\n                        Полуживого забавлять,\\n                        Ему подушки поправлять,\\n                        Печально подносить лекарство,\\n                        Вздыхать и думать про себя:\\n                        Когда же черт возьмет тебя!\"'"
            ],
            "application/vnd.google.colaboratory.intrinsic+json": {
              "type": "string"
            }
          },
          "metadata": {},
          "execution_count": 14
        }
      ]
    },
    {
      "cell_type": "code",
      "source": [
        "data = pd.DataFrame(text_only)\n",
        "data = data.rename(columns={0: \"text\"})\n",
        "data.head(3)"
      ],
      "metadata": {
        "colab": {
          "base_uri": "https://localhost:8080/",
          "height": 143
        },
        "id": "F0eBcIcb9wXN",
        "outputId": "36dcbb35-60f7-4417-e23f-e655ea585340"
      },
      "execution_count": 15,
      "outputs": [
        {
          "output_type": "execute_result",
          "data": {
            "text/plain": [
              "                                                text\n",
              "0                          Не мысля гордый свет з...\n",
              "1                          \"Мой дядя самых честны...\n",
              "2                          Так думал молодой пове..."
            ],
            "text/html": [
              "\n",
              "  <div id=\"df-e200575a-599b-42cf-9502-703d09930a26\">\n",
              "    <div class=\"colab-df-container\">\n",
              "      <div>\n",
              "<style scoped>\n",
              "    .dataframe tbody tr th:only-of-type {\n",
              "        vertical-align: middle;\n",
              "    }\n",
              "\n",
              "    .dataframe tbody tr th {\n",
              "        vertical-align: top;\n",
              "    }\n",
              "\n",
              "    .dataframe thead th {\n",
              "        text-align: right;\n",
              "    }\n",
              "</style>\n",
              "<table border=\"1\" class=\"dataframe\">\n",
              "  <thead>\n",
              "    <tr style=\"text-align: right;\">\n",
              "      <th></th>\n",
              "      <th>text</th>\n",
              "    </tr>\n",
              "  </thead>\n",
              "  <tbody>\n",
              "    <tr>\n",
              "      <th>0</th>\n",
              "      <td>Не мысля гордый свет з...</td>\n",
              "    </tr>\n",
              "    <tr>\n",
              "      <th>1</th>\n",
              "      <td>\"Мой дядя самых честны...</td>\n",
              "    </tr>\n",
              "    <tr>\n",
              "      <th>2</th>\n",
              "      <td>Так думал молодой пове...</td>\n",
              "    </tr>\n",
              "  </tbody>\n",
              "</table>\n",
              "</div>\n",
              "      <button class=\"colab-df-convert\" onclick=\"convertToInteractive('df-e200575a-599b-42cf-9502-703d09930a26')\"\n",
              "              title=\"Convert this dataframe to an interactive table.\"\n",
              "              style=\"display:none;\">\n",
              "        \n",
              "  <svg xmlns=\"http://www.w3.org/2000/svg\" height=\"24px\"viewBox=\"0 0 24 24\"\n",
              "       width=\"24px\">\n",
              "    <path d=\"M0 0h24v24H0V0z\" fill=\"none\"/>\n",
              "    <path d=\"M18.56 5.44l.94 2.06.94-2.06 2.06-.94-2.06-.94-.94-2.06-.94 2.06-2.06.94zm-11 1L8.5 8.5l.94-2.06 2.06-.94-2.06-.94L8.5 2.5l-.94 2.06-2.06.94zm10 10l.94 2.06.94-2.06 2.06-.94-2.06-.94-.94-2.06-.94 2.06-2.06.94z\"/><path d=\"M17.41 7.96l-1.37-1.37c-.4-.4-.92-.59-1.43-.59-.52 0-1.04.2-1.43.59L10.3 9.45l-7.72 7.72c-.78.78-.78 2.05 0 2.83L4 21.41c.39.39.9.59 1.41.59.51 0 1.02-.2 1.41-.59l7.78-7.78 2.81-2.81c.8-.78.8-2.07 0-2.86zM5.41 20L4 18.59l7.72-7.72 1.47 1.35L5.41 20z\"/>\n",
              "  </svg>\n",
              "      </button>\n",
              "      \n",
              "  <style>\n",
              "    .colab-df-container {\n",
              "      display:flex;\n",
              "      flex-wrap:wrap;\n",
              "      gap: 12px;\n",
              "    }\n",
              "\n",
              "    .colab-df-convert {\n",
              "      background-color: #E8F0FE;\n",
              "      border: none;\n",
              "      border-radius: 50%;\n",
              "      cursor: pointer;\n",
              "      display: none;\n",
              "      fill: #1967D2;\n",
              "      height: 32px;\n",
              "      padding: 0 0 0 0;\n",
              "      width: 32px;\n",
              "    }\n",
              "\n",
              "    .colab-df-convert:hover {\n",
              "      background-color: #E2EBFA;\n",
              "      box-shadow: 0px 1px 2px rgba(60, 64, 67, 0.3), 0px 1px 3px 1px rgba(60, 64, 67, 0.15);\n",
              "      fill: #174EA6;\n",
              "    }\n",
              "\n",
              "    [theme=dark] .colab-df-convert {\n",
              "      background-color: #3B4455;\n",
              "      fill: #D2E3FC;\n",
              "    }\n",
              "\n",
              "    [theme=dark] .colab-df-convert:hover {\n",
              "      background-color: #434B5C;\n",
              "      box-shadow: 0px 1px 3px 1px rgba(0, 0, 0, 0.15);\n",
              "      filter: drop-shadow(0px 1px 2px rgba(0, 0, 0, 0.3));\n",
              "      fill: #FFFFFF;\n",
              "    }\n",
              "  </style>\n",
              "\n",
              "      <script>\n",
              "        const buttonEl =\n",
              "          document.querySelector('#df-e200575a-599b-42cf-9502-703d09930a26 button.colab-df-convert');\n",
              "        buttonEl.style.display =\n",
              "          google.colab.kernel.accessAllowed ? 'block' : 'none';\n",
              "\n",
              "        async function convertToInteractive(key) {\n",
              "          const element = document.querySelector('#df-e200575a-599b-42cf-9502-703d09930a26');\n",
              "          const dataTable =\n",
              "            await google.colab.kernel.invokeFunction('convertToInteractive',\n",
              "                                                     [key], {});\n",
              "          if (!dataTable) return;\n",
              "\n",
              "          const docLinkHtml = 'Like what you see? Visit the ' +\n",
              "            '<a target=\"_blank\" href=https://colab.research.google.com/notebooks/data_table.ipynb>data table notebook</a>'\n",
              "            + ' to learn more about interactive tables.';\n",
              "          element.innerHTML = '';\n",
              "          dataTable['output_type'] = 'display_data';\n",
              "          await google.colab.output.renderOutput(dataTable, element);\n",
              "          const docLink = document.createElement('div');\n",
              "          docLink.innerHTML = docLinkHtml;\n",
              "          element.appendChild(docLink);\n",
              "        }\n",
              "      </script>\n",
              "    </div>\n",
              "  </div>\n",
              "  "
            ]
          },
          "metadata": {},
          "execution_count": 15
        }
      ]
    },
    {
      "cell_type": "code",
      "source": [
        "def exclude_punctuation(txt):\n",
        "    txt = \"\".join(c for c in txt if c not in exclude)    \n",
        "    txt = re.sub(\"\\n\", \" \\n\", txt)    \n",
        "    return txt"
      ],
      "metadata": {
        "id": "-xEk-vxVAQar"
      },
      "execution_count": 16,
      "outputs": []
    },
    {
      "cell_type": "code",
      "source": [
        "# data_1 = data"
      ],
      "metadata": {
        "id": "iE0NpKPoAQqi"
      },
      "execution_count": 17,
      "outputs": []
    },
    {
      "cell_type": "code",
      "source": [
        "# !pip install pymorphy2\n",
        "!pip install stop-words"
      ],
      "metadata": {
        "colab": {
          "base_uri": "https://localhost:8080/"
        },
        "id": "_AfE_5e2BXsu",
        "outputId": "53a3243d-d534-42a4-95c0-557a4119c27f"
      },
      "execution_count": 18,
      "outputs": [
        {
          "output_type": "stream",
          "name": "stdout",
          "text": [
            "Looking in indexes: https://pypi.org/simple, https://us-python.pkg.dev/colab-wheels/public/simple/\n",
            "Requirement already satisfied: stop-words in /usr/local/lib/python3.7/dist-packages (2018.7.23)\n"
          ]
        }
      ]
    },
    {
      "cell_type": "code",
      "source": [
        "from string import punctuation\n",
        "from stop_words import get_stop_words\n",
        "\n",
        "exclude = set(punctuation)\n",
        "sw = set(get_stop_words(\"ru\"))"
      ],
      "metadata": {
        "id": "l6d62QzpA2d0"
      },
      "execution_count": 19,
      "outputs": []
    },
    {
      "cell_type": "code",
      "source": [
        "data['text_splited'] = data['text'].apply(exclude_punctuation)"
      ],
      "metadata": {
        "id": "sXBj91IlAW9-"
      },
      "execution_count": 20,
      "outputs": []
    },
    {
      "cell_type": "markdown",
      "source": [
        ""
      ],
      "metadata": {
        "id": "iCH2gc_ec5oQ"
      }
    },
    {
      "cell_type": "code",
      "source": [
        "data.head(3)"
      ],
      "metadata": {
        "colab": {
          "base_uri": "https://localhost:8080/",
          "height": 143
        },
        "id": "pSeyd-lVAQyP",
        "outputId": "989bae3f-9506-43ce-e513-e8fa2f9c2b31"
      },
      "execution_count": 21,
      "outputs": [
        {
          "output_type": "execute_result",
          "data": {
            "text/plain": [
              "                                                text  \\\n",
              "0                          Не мысля гордый свет з...   \n",
              "1                          \"Мой дядя самых честны...   \n",
              "2                          Так думал молодой пове...   \n",
              "\n",
              "                                        text_splited  \n",
              "0                          Не мысля гордый свет з...  \n",
              "1                          Мой дядя самых честных...  \n",
              "2                          Так думал молодой пове...  "
            ],
            "text/html": [
              "\n",
              "  <div id=\"df-df6f99bb-92dd-400f-95b4-322b6e1f77e0\">\n",
              "    <div class=\"colab-df-container\">\n",
              "      <div>\n",
              "<style scoped>\n",
              "    .dataframe tbody tr th:only-of-type {\n",
              "        vertical-align: middle;\n",
              "    }\n",
              "\n",
              "    .dataframe tbody tr th {\n",
              "        vertical-align: top;\n",
              "    }\n",
              "\n",
              "    .dataframe thead th {\n",
              "        text-align: right;\n",
              "    }\n",
              "</style>\n",
              "<table border=\"1\" class=\"dataframe\">\n",
              "  <thead>\n",
              "    <tr style=\"text-align: right;\">\n",
              "      <th></th>\n",
              "      <th>text</th>\n",
              "      <th>text_splited</th>\n",
              "    </tr>\n",
              "  </thead>\n",
              "  <tbody>\n",
              "    <tr>\n",
              "      <th>0</th>\n",
              "      <td>Не мысля гордый свет з...</td>\n",
              "      <td>Не мысля гордый свет з...</td>\n",
              "    </tr>\n",
              "    <tr>\n",
              "      <th>1</th>\n",
              "      <td>\"Мой дядя самых честны...</td>\n",
              "      <td>Мой дядя самых честных...</td>\n",
              "    </tr>\n",
              "    <tr>\n",
              "      <th>2</th>\n",
              "      <td>Так думал молодой пове...</td>\n",
              "      <td>Так думал молодой пове...</td>\n",
              "    </tr>\n",
              "  </tbody>\n",
              "</table>\n",
              "</div>\n",
              "      <button class=\"colab-df-convert\" onclick=\"convertToInteractive('df-df6f99bb-92dd-400f-95b4-322b6e1f77e0')\"\n",
              "              title=\"Convert this dataframe to an interactive table.\"\n",
              "              style=\"display:none;\">\n",
              "        \n",
              "  <svg xmlns=\"http://www.w3.org/2000/svg\" height=\"24px\"viewBox=\"0 0 24 24\"\n",
              "       width=\"24px\">\n",
              "    <path d=\"M0 0h24v24H0V0z\" fill=\"none\"/>\n",
              "    <path d=\"M18.56 5.44l.94 2.06.94-2.06 2.06-.94-2.06-.94-.94-2.06-.94 2.06-2.06.94zm-11 1L8.5 8.5l.94-2.06 2.06-.94-2.06-.94L8.5 2.5l-.94 2.06-2.06.94zm10 10l.94 2.06.94-2.06 2.06-.94-2.06-.94-.94-2.06-.94 2.06-2.06.94z\"/><path d=\"M17.41 7.96l-1.37-1.37c-.4-.4-.92-.59-1.43-.59-.52 0-1.04.2-1.43.59L10.3 9.45l-7.72 7.72c-.78.78-.78 2.05 0 2.83L4 21.41c.39.39.9.59 1.41.59.51 0 1.02-.2 1.41-.59l7.78-7.78 2.81-2.81c.8-.78.8-2.07 0-2.86zM5.41 20L4 18.59l7.72-7.72 1.47 1.35L5.41 20z\"/>\n",
              "  </svg>\n",
              "      </button>\n",
              "      \n",
              "  <style>\n",
              "    .colab-df-container {\n",
              "      display:flex;\n",
              "      flex-wrap:wrap;\n",
              "      gap: 12px;\n",
              "    }\n",
              "\n",
              "    .colab-df-convert {\n",
              "      background-color: #E8F0FE;\n",
              "      border: none;\n",
              "      border-radius: 50%;\n",
              "      cursor: pointer;\n",
              "      display: none;\n",
              "      fill: #1967D2;\n",
              "      height: 32px;\n",
              "      padding: 0 0 0 0;\n",
              "      width: 32px;\n",
              "    }\n",
              "\n",
              "    .colab-df-convert:hover {\n",
              "      background-color: #E2EBFA;\n",
              "      box-shadow: 0px 1px 2px rgba(60, 64, 67, 0.3), 0px 1px 3px 1px rgba(60, 64, 67, 0.15);\n",
              "      fill: #174EA6;\n",
              "    }\n",
              "\n",
              "    [theme=dark] .colab-df-convert {\n",
              "      background-color: #3B4455;\n",
              "      fill: #D2E3FC;\n",
              "    }\n",
              "\n",
              "    [theme=dark] .colab-df-convert:hover {\n",
              "      background-color: #434B5C;\n",
              "      box-shadow: 0px 1px 3px 1px rgba(0, 0, 0, 0.15);\n",
              "      filter: drop-shadow(0px 1px 2px rgba(0, 0, 0, 0.3));\n",
              "      fill: #FFFFFF;\n",
              "    }\n",
              "  </style>\n",
              "\n",
              "      <script>\n",
              "        const buttonEl =\n",
              "          document.querySelector('#df-df6f99bb-92dd-400f-95b4-322b6e1f77e0 button.colab-df-convert');\n",
              "        buttonEl.style.display =\n",
              "          google.colab.kernel.accessAllowed ? 'block' : 'none';\n",
              "\n",
              "        async function convertToInteractive(key) {\n",
              "          const element = document.querySelector('#df-df6f99bb-92dd-400f-95b4-322b6e1f77e0');\n",
              "          const dataTable =\n",
              "            await google.colab.kernel.invokeFunction('convertToInteractive',\n",
              "                                                     [key], {});\n",
              "          if (!dataTable) return;\n",
              "\n",
              "          const docLinkHtml = 'Like what you see? Visit the ' +\n",
              "            '<a target=\"_blank\" href=https://colab.research.google.com/notebooks/data_table.ipynb>data table notebook</a>'\n",
              "            + ' to learn more about interactive tables.';\n",
              "          element.innerHTML = '';\n",
              "          dataTable['output_type'] = 'display_data';\n",
              "          await google.colab.output.renderOutput(dataTable, element);\n",
              "          const docLink = document.createElement('div');\n",
              "          docLink.innerHTML = docLinkHtml;\n",
              "          element.appendChild(docLink);\n",
              "        }\n",
              "      </script>\n",
              "    </div>\n",
              "  </div>\n",
              "  "
            ]
          },
          "metadata": {},
          "execution_count": 21
        }
      ]
    },
    {
      "cell_type": "code",
      "source": [
        "def preprocess_text(txt):\n",
        "    txt = str(txt)\n",
        "    txt = txt.lower()\n",
        "    txt = re.sub(\"\\n\", \"aaa\", txt)\n",
        "    new_txt =[]\n",
        "    for word in txt.split():\n",
        "        if word == \"aaa\":\n",
        "            word = \" \\n\"\n",
        "        new_txt.append(word)\n",
        "\n",
        "    return new_txt"
      ],
      "metadata": {
        "id": "q87t-BNp_NcH"
      },
      "execution_count": 22,
      "outputs": []
    },
    {
      "cell_type": "code",
      "source": [
        "data['text_splited'] = data['text_splited'].apply(preprocess_text)"
      ],
      "metadata": {
        "id": "GR34_XZE_NfV"
      },
      "execution_count": 23,
      "outputs": []
    },
    {
      "cell_type": "code",
      "source": [
        "data"
      ],
      "metadata": {
        "colab": {
          "base_uri": "https://localhost:8080/",
          "height": 424
        },
        "id": "Rj5ja7LK_Nio",
        "outputId": "a743b06a-4485-4d82-b669-b3686c77ff07"
      },
      "execution_count": 24,
      "outputs": [
        {
          "output_type": "execute_result",
          "data": {
            "text/plain": [
              "                                                  text  \\\n",
              "0                            Не мысля гордый свет з...   \n",
              "1                            \"Мой дядя самых честны...   \n",
              "2                            Так думал молодой пове...   \n",
              "3                            Служив отлично благоро...   \n",
              "4                            Когда же юности мятежн...   \n",
              "..                                                 ...   \n",
              "371                          А счастье было так воз...   \n",
              "372                          Она ушла. Стоит Евгени...   \n",
              "373                          Кто б ни был ты, о мой...   \n",
              "374                          Прости ж и ты, мой спу...   \n",
              "375                          Но те, которым в дружн...   \n",
              "\n",
              "                                          text_splited  \n",
              "0    [не, мысля, гордый, свет, забавить,  \\n, внима...  \n",
              "1    [мой, дядя, самых, честных, правил,  \\n, когда...  \n",
              "2    [так, думал, молодой, повеса,  \\n, летя, в, пы...  \n",
              "3    [служив, отлично, благородно,  \\n, долгами, жи...  \n",
              "4    [когда, же, юности, мятежной,  \\n, пришла, евг...  \n",
              "..                                                 ...  \n",
              "371  [а, счастье, было, так, возможно,  \\n, так, бл...  \n",
              "372  [она, ушла, стоит, евгений,  \\n, как, будто, г...  \n",
              "373  [кто, б, ни, был, ты, о, мой, читатель,  \\n, д...  \n",
              "374  [прости, ж, и, ты, мой, спутник, странный,  \\n...  \n",
              "375  [но, те, которым, в, дружной, встрече,  \\n, я,...  \n",
              "\n",
              "[376 rows x 2 columns]"
            ],
            "text/html": [
              "\n",
              "  <div id=\"df-db388c90-11f5-4f15-8ad7-f0d37cd2c34f\">\n",
              "    <div class=\"colab-df-container\">\n",
              "      <div>\n",
              "<style scoped>\n",
              "    .dataframe tbody tr th:only-of-type {\n",
              "        vertical-align: middle;\n",
              "    }\n",
              "\n",
              "    .dataframe tbody tr th {\n",
              "        vertical-align: top;\n",
              "    }\n",
              "\n",
              "    .dataframe thead th {\n",
              "        text-align: right;\n",
              "    }\n",
              "</style>\n",
              "<table border=\"1\" class=\"dataframe\">\n",
              "  <thead>\n",
              "    <tr style=\"text-align: right;\">\n",
              "      <th></th>\n",
              "      <th>text</th>\n",
              "      <th>text_splited</th>\n",
              "    </tr>\n",
              "  </thead>\n",
              "  <tbody>\n",
              "    <tr>\n",
              "      <th>0</th>\n",
              "      <td>Не мысля гордый свет з...</td>\n",
              "      <td>[не, мысля, гордый, свет, забавить,  \\n, внима...</td>\n",
              "    </tr>\n",
              "    <tr>\n",
              "      <th>1</th>\n",
              "      <td>\"Мой дядя самых честны...</td>\n",
              "      <td>[мой, дядя, самых, честных, правил,  \\n, когда...</td>\n",
              "    </tr>\n",
              "    <tr>\n",
              "      <th>2</th>\n",
              "      <td>Так думал молодой пове...</td>\n",
              "      <td>[так, думал, молодой, повеса,  \\n, летя, в, пы...</td>\n",
              "    </tr>\n",
              "    <tr>\n",
              "      <th>3</th>\n",
              "      <td>Служив отлично благоро...</td>\n",
              "      <td>[служив, отлично, благородно,  \\n, долгами, жи...</td>\n",
              "    </tr>\n",
              "    <tr>\n",
              "      <th>4</th>\n",
              "      <td>Когда же юности мятежн...</td>\n",
              "      <td>[когда, же, юности, мятежной,  \\n, пришла, евг...</td>\n",
              "    </tr>\n",
              "    <tr>\n",
              "      <th>...</th>\n",
              "      <td>...</td>\n",
              "      <td>...</td>\n",
              "    </tr>\n",
              "    <tr>\n",
              "      <th>371</th>\n",
              "      <td>А счастье было так воз...</td>\n",
              "      <td>[а, счастье, было, так, возможно,  \\n, так, бл...</td>\n",
              "    </tr>\n",
              "    <tr>\n",
              "      <th>372</th>\n",
              "      <td>Она ушла. Стоит Евгени...</td>\n",
              "      <td>[она, ушла, стоит, евгений,  \\n, как, будто, г...</td>\n",
              "    </tr>\n",
              "    <tr>\n",
              "      <th>373</th>\n",
              "      <td>Кто б ни был ты, о мой...</td>\n",
              "      <td>[кто, б, ни, был, ты, о, мой, читатель,  \\n, д...</td>\n",
              "    </tr>\n",
              "    <tr>\n",
              "      <th>374</th>\n",
              "      <td>Прости ж и ты, мой спу...</td>\n",
              "      <td>[прости, ж, и, ты, мой, спутник, странный,  \\n...</td>\n",
              "    </tr>\n",
              "    <tr>\n",
              "      <th>375</th>\n",
              "      <td>Но те, которым в дружн...</td>\n",
              "      <td>[но, те, которым, в, дружной, встрече,  \\n, я,...</td>\n",
              "    </tr>\n",
              "  </tbody>\n",
              "</table>\n",
              "<p>376 rows × 2 columns</p>\n",
              "</div>\n",
              "      <button class=\"colab-df-convert\" onclick=\"convertToInteractive('df-db388c90-11f5-4f15-8ad7-f0d37cd2c34f')\"\n",
              "              title=\"Convert this dataframe to an interactive table.\"\n",
              "              style=\"display:none;\">\n",
              "        \n",
              "  <svg xmlns=\"http://www.w3.org/2000/svg\" height=\"24px\"viewBox=\"0 0 24 24\"\n",
              "       width=\"24px\">\n",
              "    <path d=\"M0 0h24v24H0V0z\" fill=\"none\"/>\n",
              "    <path d=\"M18.56 5.44l.94 2.06.94-2.06 2.06-.94-2.06-.94-.94-2.06-.94 2.06-2.06.94zm-11 1L8.5 8.5l.94-2.06 2.06-.94-2.06-.94L8.5 2.5l-.94 2.06-2.06.94zm10 10l.94 2.06.94-2.06 2.06-.94-2.06-.94-.94-2.06-.94 2.06-2.06.94z\"/><path d=\"M17.41 7.96l-1.37-1.37c-.4-.4-.92-.59-1.43-.59-.52 0-1.04.2-1.43.59L10.3 9.45l-7.72 7.72c-.78.78-.78 2.05 0 2.83L4 21.41c.39.39.9.59 1.41.59.51 0 1.02-.2 1.41-.59l7.78-7.78 2.81-2.81c.8-.78.8-2.07 0-2.86zM5.41 20L4 18.59l7.72-7.72 1.47 1.35L5.41 20z\"/>\n",
              "  </svg>\n",
              "      </button>\n",
              "      \n",
              "  <style>\n",
              "    .colab-df-container {\n",
              "      display:flex;\n",
              "      flex-wrap:wrap;\n",
              "      gap: 12px;\n",
              "    }\n",
              "\n",
              "    .colab-df-convert {\n",
              "      background-color: #E8F0FE;\n",
              "      border: none;\n",
              "      border-radius: 50%;\n",
              "      cursor: pointer;\n",
              "      display: none;\n",
              "      fill: #1967D2;\n",
              "      height: 32px;\n",
              "      padding: 0 0 0 0;\n",
              "      width: 32px;\n",
              "    }\n",
              "\n",
              "    .colab-df-convert:hover {\n",
              "      background-color: #E2EBFA;\n",
              "      box-shadow: 0px 1px 2px rgba(60, 64, 67, 0.3), 0px 1px 3px 1px rgba(60, 64, 67, 0.15);\n",
              "      fill: #174EA6;\n",
              "    }\n",
              "\n",
              "    [theme=dark] .colab-df-convert {\n",
              "      background-color: #3B4455;\n",
              "      fill: #D2E3FC;\n",
              "    }\n",
              "\n",
              "    [theme=dark] .colab-df-convert:hover {\n",
              "      background-color: #434B5C;\n",
              "      box-shadow: 0px 1px 3px 1px rgba(0, 0, 0, 0.15);\n",
              "      filter: drop-shadow(0px 1px 2px rgba(0, 0, 0, 0.3));\n",
              "      fill: #FFFFFF;\n",
              "    }\n",
              "  </style>\n",
              "\n",
              "      <script>\n",
              "        const buttonEl =\n",
              "          document.querySelector('#df-db388c90-11f5-4f15-8ad7-f0d37cd2c34f button.colab-df-convert');\n",
              "        buttonEl.style.display =\n",
              "          google.colab.kernel.accessAllowed ? 'block' : 'none';\n",
              "\n",
              "        async function convertToInteractive(key) {\n",
              "          const element = document.querySelector('#df-db388c90-11f5-4f15-8ad7-f0d37cd2c34f');\n",
              "          const dataTable =\n",
              "            await google.colab.kernel.invokeFunction('convertToInteractive',\n",
              "                                                     [key], {});\n",
              "          if (!dataTable) return;\n",
              "\n",
              "          const docLinkHtml = 'Like what you see? Visit the ' +\n",
              "            '<a target=\"_blank\" href=https://colab.research.google.com/notebooks/data_table.ipynb>data table notebook</a>'\n",
              "            + ' to learn more about interactive tables.';\n",
              "          element.innerHTML = '';\n",
              "          dataTable['output_type'] = 'display_data';\n",
              "          await google.colab.output.renderOutput(dataTable, element);\n",
              "          const docLink = document.createElement('div');\n",
              "          docLink.innerHTML = docLinkHtml;\n",
              "          element.appendChild(docLink);\n",
              "        }\n",
              "      </script>\n",
              "    </div>\n",
              "  </div>\n",
              "  "
            ]
          },
          "metadata": {},
          "execution_count": 24
        }
      ]
    },
    {
      "cell_type": "code",
      "source": [
        "# Создадим словарь наших текстов\n",
        "vocab = []\n",
        "for ts in data.text_splited:\n",
        "    for t in ts:\n",
        "        vocab.append(t)\n",
        "\n",
        "# dictionary = [ t for ts in df.text_splited for t in ts ]\n",
        "        \n",
        "vocab[:5]"
      ],
      "metadata": {
        "colab": {
          "base_uri": "https://localhost:8080/"
        },
        "id": "qm2cWT35_Nli",
        "outputId": "fafffe3b-1085-4f2f-bd41-2eb9cb49eacc"
      },
      "execution_count": 25,
      "outputs": [
        {
          "output_type": "execute_result",
          "data": {
            "text/plain": [
              "['не', 'мысля', 'гордый', 'свет', 'забавить']"
            ]
          },
          "metadata": {},
          "execution_count": 25
        }
      ]
    },
    {
      "cell_type": "code",
      "source": [
        "len(vocab)"
      ],
      "metadata": {
        "colab": {
          "base_uri": "https://localhost:8080/"
        },
        "id": "22qHNFzeDpzF",
        "outputId": "a488e47b-4b56-4d78-ee93-02acfe017dbb"
      },
      "execution_count": 26,
      "outputs": [
        {
          "output_type": "execute_result",
          "data": {
            "text/plain": [
              "27414"
            ]
          },
          "metadata": {},
          "execution_count": 26
        }
      ]
    },
    {
      "cell_type": "code",
      "source": [
        "from collections import Counter\n",
        "\n",
        "# Подсчитать частоту слов в списке и отсортировать по частоте\n",
        "counts = Counter(vocab)\n",
        "# counts.items()\n",
        "print(dict(list(counts.items())[:5]))"
      ],
      "metadata": {
        "colab": {
          "base_uri": "https://localhost:8080/"
        },
        "id": "eRzPHLocDqGN",
        "outputId": "e8dd4e70-8780-4873-ffa5-1648408438e1"
      },
      "execution_count": 27,
      "outputs": [
        {
          "output_type": "stream",
          "name": "stdout",
          "text": [
            "{'не': 384, 'мысля': 1, 'гордый': 4, 'свет': 17, 'забавить': 1}\n"
          ]
        }
      ]
    },
    {
      "cell_type": "code",
      "source": [
        "# Сортировка по частоте\n",
        "sorted_counts = sorted(counts.items(), key=lambda item: (-item[1]))\n",
        "sorted_counts[:5]"
      ],
      "metadata": {
        "colab": {
          "base_uri": "https://localhost:8080/"
        },
        "id": "JGB4akXsDqJR",
        "outputId": "a0a1e11d-1061-44c9-9e05-65f9b1fb4925"
      },
      "execution_count": 28,
      "outputs": [
        {
          "output_type": "execute_result",
          "data": {
            "text/plain": [
              "[(' \\n', 4917), ('и', 1005), ('в', 601), ('не', 384), ('он', 294)]"
            ]
          },
          "metadata": {},
          "execution_count": 28
        }
      ]
    },
    {
      "cell_type": "code",
      "source": [
        "# Частотный словарь\n",
        "freq_dictionary = list(tp[0] for tp in sorted_counts)\n",
        "freq_dictionary[:10]"
      ],
      "metadata": {
        "colab": {
          "base_uri": "https://localhost:8080/"
        },
        "id": "yiPM0AYWDqNb",
        "outputId": "9c05faaa-1c6f-46d5-80be-15244cc98e5d"
      },
      "execution_count": 29,
      "outputs": [
        {
          "output_type": "execute_result",
          "data": {
            "text/plain": [
              "[' \\n', 'и', 'в', 'не', 'он', 'на', 'с', 'я', 'но', 'как']"
            ]
          },
          "metadata": {},
          "execution_count": 29
        }
      ]
    },
    {
      "cell_type": "code",
      "source": [
        "def get_w2i_i2w(column_data):\n",
        "    \n",
        "    dump = list(column_data.values)\n",
        "    dump_txt_split = []\n",
        "    for sublist in dump:\n",
        "        for item in sublist:\n",
        "            dump_txt_split.append(item)\n",
        "\n",
        "\n",
        "    vocab = sorted(set(dump_txt_split))           \n",
        "            \n",
        "    # Creating a mapping from unique characters to indices\n",
        "    word2idx = {u:i for i, u in enumerate(vocab)}\n",
        "    idx2word = np.array(vocab)\n",
        "    \n",
        "    print(len(vocab), len(word2idx), len(idx2word))\n",
        "    return word2idx, idx2word"
      ],
      "metadata": {
        "id": "Xf96ZFFsEUez"
      },
      "execution_count": 30,
      "outputs": []
    },
    {
      "cell_type": "code",
      "source": [
        "# word2idx = {u:i for i, u in enumerate(vocab)}\n",
        "# idx2word = np.array(vocab)\n",
        "\n",
        "word2idx, idx2word = get_w2i_i2w(data['text_splited'])        \n",
        "data['int_text_splited'] = data['text_splited'].apply(lambda x: [word2idx[c] for c in x])"
      ],
      "metadata": {
        "colab": {
          "base_uri": "https://localhost:8080/"
        },
        "id": "ylYCZfGbFHWG",
        "outputId": "daedd0ce-80f4-448d-ac50-823e2a9e49d2"
      },
      "execution_count": 31,
      "outputs": [
        {
          "output_type": "stream",
          "name": "stdout",
          "text": [
            "8427 8427 8427\n"
          ]
        }
      ]
    },
    {
      "cell_type": "code",
      "source": [
        "# word2idx"
      ],
      "metadata": {
        "id": "bZOrNSQTFxn2"
      },
      "execution_count": 32,
      "outputs": []
    },
    {
      "cell_type": "code",
      "source": [
        "idx2word"
      ],
      "metadata": {
        "colab": {
          "base_uri": "https://localhost:8080/"
        },
        "id": "zfQ9V0P3Fxsk",
        "outputId": "182fb501-7f95-4352-9640-a73062486604"
      },
      "execution_count": 33,
      "outputs": [
        {
          "output_type": "execute_result",
          "data": {
            "text/plain": [
              "array([' \\n', '1', '10', ..., 'ясные', 'ясным', 'ящик'], dtype='<U20')"
            ]
          },
          "metadata": {},
          "execution_count": 33
        }
      ]
    },
    {
      "cell_type": "code",
      "source": [
        "data.head(3)"
      ],
      "metadata": {
        "colab": {
          "base_uri": "https://localhost:8080/",
          "height": 143
        },
        "id": "Yth-u_WhEUs0",
        "outputId": "3465d9bf-727f-491d-935e-5b80cf3d91db"
      },
      "execution_count": 34,
      "outputs": [
        {
          "output_type": "execute_result",
          "data": {
            "text/plain": [
              "                                                text  \\\n",
              "0                          Не мысля гордый свет з...   \n",
              "1                          \"Мой дядя самых честны...   \n",
              "2                          Так думал молодой пове...   \n",
              "\n",
              "                                        text_splited  \\\n",
              "0  [не, мысля, гордый, свет, забавить,  \\n, внима...   \n",
              "1  [мой, дядя, самых, честных, правил,  \\n, когда...   \n",
              "2  [так, думал, молодой, повеса,  \\n, летя, в, пы...   \n",
              "\n",
              "                                    int_text_splited  \n",
              "0  [3817, 3634, 1358, 6327, 2071, 0, 878, 1844, 9...  \n",
              "1  [3487, 1912, 6292, 8129, 5394, 0, 2788, 3817, ...  \n",
              "2  [7249, 1867, 3505, 4930, 0, 3102, 565, 5872, 3...  "
            ],
            "text/html": [
              "\n",
              "  <div id=\"df-311cef8e-f788-4e68-b709-52f85a3e295d\">\n",
              "    <div class=\"colab-df-container\">\n",
              "      <div>\n",
              "<style scoped>\n",
              "    .dataframe tbody tr th:only-of-type {\n",
              "        vertical-align: middle;\n",
              "    }\n",
              "\n",
              "    .dataframe tbody tr th {\n",
              "        vertical-align: top;\n",
              "    }\n",
              "\n",
              "    .dataframe thead th {\n",
              "        text-align: right;\n",
              "    }\n",
              "</style>\n",
              "<table border=\"1\" class=\"dataframe\">\n",
              "  <thead>\n",
              "    <tr style=\"text-align: right;\">\n",
              "      <th></th>\n",
              "      <th>text</th>\n",
              "      <th>text_splited</th>\n",
              "      <th>int_text_splited</th>\n",
              "    </tr>\n",
              "  </thead>\n",
              "  <tbody>\n",
              "    <tr>\n",
              "      <th>0</th>\n",
              "      <td>Не мысля гордый свет з...</td>\n",
              "      <td>[не, мысля, гордый, свет, забавить,  \\n, внима...</td>\n",
              "      <td>[3817, 3634, 1358, 6327, 2071, 0, 878, 1844, 9...</td>\n",
              "    </tr>\n",
              "    <tr>\n",
              "      <th>1</th>\n",
              "      <td>\"Мой дядя самых честны...</td>\n",
              "      <td>[мой, дядя, самых, честных, правил,  \\n, когда...</td>\n",
              "      <td>[3487, 1912, 6292, 8129, 5394, 0, 2788, 3817, ...</td>\n",
              "    </tr>\n",
              "    <tr>\n",
              "      <th>2</th>\n",
              "      <td>Так думал молодой пове...</td>\n",
              "      <td>[так, думал, молодой, повеса,  \\n, летя, в, пы...</td>\n",
              "      <td>[7249, 1867, 3505, 4930, 0, 3102, 565, 5872, 3...</td>\n",
              "    </tr>\n",
              "  </tbody>\n",
              "</table>\n",
              "</div>\n",
              "      <button class=\"colab-df-convert\" onclick=\"convertToInteractive('df-311cef8e-f788-4e68-b709-52f85a3e295d')\"\n",
              "              title=\"Convert this dataframe to an interactive table.\"\n",
              "              style=\"display:none;\">\n",
              "        \n",
              "  <svg xmlns=\"http://www.w3.org/2000/svg\" height=\"24px\"viewBox=\"0 0 24 24\"\n",
              "       width=\"24px\">\n",
              "    <path d=\"M0 0h24v24H0V0z\" fill=\"none\"/>\n",
              "    <path d=\"M18.56 5.44l.94 2.06.94-2.06 2.06-.94-2.06-.94-.94-2.06-.94 2.06-2.06.94zm-11 1L8.5 8.5l.94-2.06 2.06-.94-2.06-.94L8.5 2.5l-.94 2.06-2.06.94zm10 10l.94 2.06.94-2.06 2.06-.94-2.06-.94-.94-2.06-.94 2.06-2.06.94z\"/><path d=\"M17.41 7.96l-1.37-1.37c-.4-.4-.92-.59-1.43-.59-.52 0-1.04.2-1.43.59L10.3 9.45l-7.72 7.72c-.78.78-.78 2.05 0 2.83L4 21.41c.39.39.9.59 1.41.59.51 0 1.02-.2 1.41-.59l7.78-7.78 2.81-2.81c.8-.78.8-2.07 0-2.86zM5.41 20L4 18.59l7.72-7.72 1.47 1.35L5.41 20z\"/>\n",
              "  </svg>\n",
              "      </button>\n",
              "      \n",
              "  <style>\n",
              "    .colab-df-container {\n",
              "      display:flex;\n",
              "      flex-wrap:wrap;\n",
              "      gap: 12px;\n",
              "    }\n",
              "\n",
              "    .colab-df-convert {\n",
              "      background-color: #E8F0FE;\n",
              "      border: none;\n",
              "      border-radius: 50%;\n",
              "      cursor: pointer;\n",
              "      display: none;\n",
              "      fill: #1967D2;\n",
              "      height: 32px;\n",
              "      padding: 0 0 0 0;\n",
              "      width: 32px;\n",
              "    }\n",
              "\n",
              "    .colab-df-convert:hover {\n",
              "      background-color: #E2EBFA;\n",
              "      box-shadow: 0px 1px 2px rgba(60, 64, 67, 0.3), 0px 1px 3px 1px rgba(60, 64, 67, 0.15);\n",
              "      fill: #174EA6;\n",
              "    }\n",
              "\n",
              "    [theme=dark] .colab-df-convert {\n",
              "      background-color: #3B4455;\n",
              "      fill: #D2E3FC;\n",
              "    }\n",
              "\n",
              "    [theme=dark] .colab-df-convert:hover {\n",
              "      background-color: #434B5C;\n",
              "      box-shadow: 0px 1px 3px 1px rgba(0, 0, 0, 0.15);\n",
              "      filter: drop-shadow(0px 1px 2px rgba(0, 0, 0, 0.3));\n",
              "      fill: #FFFFFF;\n",
              "    }\n",
              "  </style>\n",
              "\n",
              "      <script>\n",
              "        const buttonEl =\n",
              "          document.querySelector('#df-311cef8e-f788-4e68-b709-52f85a3e295d button.colab-df-convert');\n",
              "        buttonEl.style.display =\n",
              "          google.colab.kernel.accessAllowed ? 'block' : 'none';\n",
              "\n",
              "        async function convertToInteractive(key) {\n",
              "          const element = document.querySelector('#df-311cef8e-f788-4e68-b709-52f85a3e295d');\n",
              "          const dataTable =\n",
              "            await google.colab.kernel.invokeFunction('convertToInteractive',\n",
              "                                                     [key], {});\n",
              "          if (!dataTable) return;\n",
              "\n",
              "          const docLinkHtml = 'Like what you see? Visit the ' +\n",
              "            '<a target=\"_blank\" href=https://colab.research.google.com/notebooks/data_table.ipynb>data table notebook</a>'\n",
              "            + ' to learn more about interactive tables.';\n",
              "          element.innerHTML = '';\n",
              "          dataTable['output_type'] = 'display_data';\n",
              "          await google.colab.output.renderOutput(dataTable, element);\n",
              "          const docLink = document.createElement('div');\n",
              "          docLink.innerHTML = docLinkHtml;\n",
              "          element.appendChild(docLink);\n",
              "        }\n",
              "      </script>\n",
              "    </div>\n",
              "  </div>\n",
              "  "
            ]
          },
          "metadata": {},
          "execution_count": 34
        }
      ]
    },
    {
      "cell_type": "code",
      "source": [
        "def get_all_int(column_data):\n",
        "    \n",
        "    values = column_data.values\n",
        "    text_as_int = []\n",
        "    print(values[0])\n",
        "    for sublist in values:\n",
        "        for item in sublist:\n",
        "            text_as_int.append(item)\n",
        "    text_as_int = np.array(text_as_int)    \n",
        "    \n",
        "    return text_as_int\n",
        "\n",
        "text_as_int = get_all_int(data['int_text_splited'])"
      ],
      "metadata": {
        "colab": {
          "base_uri": "https://localhost:8080/"
        },
        "id": "6iDEW2A0EUwA",
        "outputId": "f0cb74ea-6c25-466f-aa3e-b94defbc04ad"
      },
      "execution_count": 35,
      "outputs": [
        {
          "output_type": "stream",
          "name": "stdout",
          "text": [
            "[3817, 3634, 1358, 6327, 2071, 0, 878, 1844, 923, 0, 7991, 542, 8375, 7313, 5450, 0, 2181, 1782, 7314, 0, 1782, 1893, 5478, 0, 6397, 2589, 3389, 0, 5373, 2028, 2446, 8420, 0, 1187, 1863, 2446, 5769, 0, 4072, 7249, 2446, 560, 6220, 5630, 0, 5591, 6781, 4774, 1252, 0, 5169, 5165, 0, 5764, 2463, 0, 3836, 4891, 3486, 2069, 0, 295, 3039, 611, 0, 3928, 2446, 7604, 3084, 0, 7706, 7980, 3645, 0, 2446, 6471, 1364, 2194]\n"
          ]
        }
      ]
    },
    {
      "cell_type": "code",
      "source": [
        "# text_as_int"
      ],
      "metadata": {
        "id": "ocvtT3BeEUyj"
      },
      "execution_count": 36,
      "outputs": []
    },
    {
      "cell_type": "code",
      "source": [
        "import numpy as np\n",
        "\n",
        "unique, counts = np.unique(text_as_int, return_counts=True)\n",
        "\n",
        "result = np.column_stack((unique, counts)) \n",
        "print (result)"
      ],
      "metadata": {
        "colab": {
          "base_uri": "https://localhost:8080/"
        },
        "id": "3t8Z9a_rEU0v",
        "outputId": "966044eb-727a-463c-ccad-c4f66c653670"
      },
      "execution_count": 37,
      "outputs": [
        {
          "output_type": "stream",
          "name": "stdout",
          "text": [
            "[[   0 4917]\n",
            " [   1    1]\n",
            " [   2    1]\n",
            " ...\n",
            " [8424    1]\n",
            " [8425    1]\n",
            " [8426    2]]\n"
          ]
        }
      ]
    },
    {
      "cell_type": "markdown",
      "source": [
        "### train and target"
      ],
      "metadata": {
        "id": "jwpnuOqI-_F_"
      }
    },
    {
      "cell_type": "code",
      "source": [
        "# The maximum length sentence you want for a single input in characters\n",
        "seq_length = 50\n",
        "examples_per_epoch = len(text_as_int)//(seq_length+1)\n",
        "\n",
        "# Create training examples / targets\n",
        "char_dataset = tf.data.Dataset.from_tensor_slices(text_as_int)\n",
        "\n",
        "for i in char_dataset.take(10):\n",
        "    print(idx2word[i.numpy()])"
      ],
      "metadata": {
        "colab": {
          "base_uri": "https://localhost:8080/"
        },
        "id": "jGyOGnux97u-",
        "outputId": "3ffe8df4-2713-4bd7-bdf4-24fbe7a41a99"
      },
      "execution_count": 38,
      "outputs": [
        {
          "output_type": "stream",
          "name": "stdout",
          "text": [
            "не\n",
            "мысля\n",
            "гордый\n",
            "свет\n",
            "забавить\n",
            " \n",
            "\n",
            "вниманье\n",
            "дружбы\n",
            "возлюбя\n",
            " \n",
            "\n"
          ]
        }
      ]
    },
    {
      "cell_type": "code",
      "source": [
        "sequences = char_dataset.batch(seq_length+1, drop_remainder=True)\n",
        "sequences"
      ],
      "metadata": {
        "colab": {
          "base_uri": "https://localhost:8080/"
        },
        "id": "ov-gisuMIehL",
        "outputId": "2660634f-52b9-40cc-a8e0-c313ea1b6950"
      },
      "execution_count": 39,
      "outputs": [
        {
          "output_type": "execute_result",
          "data": {
            "text/plain": [
              "<BatchDataset element_spec=TensorSpec(shape=(51,), dtype=tf.int64, name=None)>"
            ]
          },
          "metadata": {},
          "execution_count": 39
        }
      ]
    },
    {
      "cell_type": "code",
      "source": [
        "def split_input_target(chunk):\n",
        "    input_text = chunk[:-1]\n",
        "    target_text = chunk[1:]\n",
        "    return input_text, target_text\n",
        "\n",
        "dataset = sequences.map(split_input_target)"
      ],
      "metadata": {
        "id": "qq1_fMWeIvPK"
      },
      "execution_count": 40,
      "outputs": []
    },
    {
      "cell_type": "markdown",
      "source": [
        "Print the first example input and target values:"
      ],
      "metadata": {
        "id": "bC_UDyc8JLuj"
      }
    },
    {
      "cell_type": "code",
      "source": [
        "for input_example, target_example in  dataset.take(1):\n",
        "    print('Input data: ', repr(' '.join(idx2word[input_example.numpy()])))\n",
        "    print('Target data:', repr(' '.join(idx2word[target_example.numpy()])))"
      ],
      "metadata": {
        "colab": {
          "base_uri": "https://localhost:8080/"
        },
        "id": "wVgXLgp9IyBQ",
        "outputId": "a797e136-3ed0-4037-d880-18b96add1dab"
      },
      "execution_count": 41,
      "outputs": [
        {
          "output_type": "stream",
          "name": "stdout",
          "text": [
            "Input data:  'не мысля гордый свет забавить  \\n вниманье дружбы возлюбя  \\n хотел бы я тебе представить  \\n залог достойнее тебя  \\n достойнее души прекрасной  \\n святой исполненной мечты  \\n поэзии живой и ясной  \\n высоких дум и простоты  \\n но так и быть рукой пристрастной  \\n прими собранье пестрых глав  \\n'\n",
            "Target data: 'мысля гордый свет забавить  \\n вниманье дружбы возлюбя  \\n хотел бы я тебе представить  \\n залог достойнее тебя  \\n достойнее души прекрасной  \\n святой исполненной мечты  \\n поэзии живой и ясной  \\n высоких дум и простоты  \\n но так и быть рукой пристрастной  \\n прими собранье пестрых глав  \\n полусмешных'\n"
          ]
        }
      ]
    },
    {
      "cell_type": "code",
      "source": [
        "# Batch size\n",
        "BATCH_SIZE = 64\n",
        "\n",
        "# Buffer size to shuffle the dataset\n",
        "BUFFER_SIZE = 10000\n",
        "\n",
        "dataset = dataset.shuffle(BUFFER_SIZE).batch(BATCH_SIZE, drop_remainder=True)\n",
        "\n",
        "dataset"
      ],
      "metadata": {
        "colab": {
          "base_uri": "https://localhost:8080/"
        },
        "id": "Xz_omoZjIyDP",
        "outputId": "b5c6c080-faa9-49ee-c307-f85fe7f8b93f"
      },
      "execution_count": 42,
      "outputs": [
        {
          "output_type": "execute_result",
          "data": {
            "text/plain": [
              "<BatchDataset element_spec=(TensorSpec(shape=(64, 50), dtype=tf.int64, name=None), TensorSpec(shape=(64, 50), dtype=tf.int64, name=None))>"
            ]
          },
          "metadata": {},
          "execution_count": 42
        }
      ]
    },
    {
      "cell_type": "code",
      "source": [
        "# Length of the vocabulary in chars\n",
        "vocab_size = len(idx2word)\n",
        "\n",
        "# The embedding dimension\n",
        "embedding_dim = 128\n",
        "\n",
        "# Number of RNN units\n",
        "rnn_units = 1024"
      ],
      "metadata": {
        "id": "e-DpgpgzIyE0"
      },
      "execution_count": 43,
      "outputs": []
    },
    {
      "cell_type": "markdown",
      "source": [
        "!!!"
      ],
      "metadata": {
        "id": "0GNyTMChKeiu"
      }
    },
    {
      "cell_type": "code",
      "source": [
        "def build_model(vocab_size, embedding_dim, rnn_units, batch_size):\n",
        "    model = tf.keras.Sequential([\n",
        "        tf.keras.layers.Embedding(vocab_size, embedding_dim),\n",
        "                                 \n",
        "        tf.keras.layers.GRU(rnn_units,\n",
        "                            return_sequences=True,\n",
        "                            stateful=False,\n",
        "                            recurrent_initializer='glorot_uniform'),\n",
        "\n",
        "        tf.keras.layers.GRU(rnn_units,\n",
        "                            return_sequences=True,\n",
        "                            stateful=False,\n",
        "                            recurrent_initializer='glorot_uniform'),\n",
        "\n",
        "         tf.keras.layers.GRU(rnn_units,\n",
        "                            return_sequences=True,\n",
        "                            stateful=False,\n",
        "                            recurrent_initializer='glorot_uniform'),\n",
        "                                   \n",
        "        tf.keras.layers.Dense(vocab_size)\n",
        "    ])\n",
        "    return model"
      ],
      "metadata": {
        "id": "lnP3b3K-IyUP"
      },
      "execution_count": 44,
      "outputs": []
    },
    {
      "cell_type": "code",
      "source": [
        "# def build_model(vocab_size, embedding_dim, rnn_units, batch_size):\n",
        "#     model = tf.keras.Sequential([\n",
        "#         tf.keras.layers.Embedding(vocab_size, embedding_dim,\n",
        "#                                   batch_input_shape=[batch_size, None]),\n",
        "                                 \n",
        "#         tf.keras.layers.LSTM(rnn_units,\n",
        "#                             return_sequences=True,\n",
        "#                             stateful=True,\n",
        "#                             recurrent_initializer='glorot_uniform'),\n",
        "\n",
        "#         tf.keras.layers.LSTM(rnn_units,\n",
        "#                             return_sequences=True,\n",
        "#                             stateful=True,\n",
        "#                             recurrent_initializer='glorot_uniform'),\n",
        "\n",
        "#          tf.keras.layers.LSTM(rnn_units,\n",
        "#                             return_sequences=True,\n",
        "#                             stateful=True,\n",
        "#                             recurrent_initializer='glorot_uniform'),\n",
        "        \n",
        "#         tf.keras.layers.LSTM(rnn_units,\n",
        "#                             return_sequences=True,\n",
        "#                             stateful=True,\n",
        "#                             recurrent_initializer='glorot_uniform'),\n",
        "                                   \n",
        "#         tf.keras.layers.Dense(vocab_size)\n",
        "#     ])\n",
        "#     return model"
      ],
      "metadata": {
        "id": "PXA7ct3gTdlc"
      },
      "execution_count": 45,
      "outputs": []
    },
    {
      "cell_type": "code",
      "source": [
        "model = build_model(\n",
        "    vocab_size=vocab_size,\n",
        "    embedding_dim=embedding_dim,\n",
        "    rnn_units=rnn_units,\n",
        "    batch_size=BATCH_SIZE)"
      ],
      "metadata": {
        "id": "AasGJ-IUIyWc"
      },
      "execution_count": 46,
      "outputs": []
    },
    {
      "cell_type": "code",
      "source": [
        "for input_example_batch, target_example_batch in dataset.take(1):\n",
        "    example_batch_predictions = model(input_example_batch)\n",
        "    print(example_batch_predictions.shape, \"# (batch_size, sequence_length, vocab_size)\")"
      ],
      "metadata": {
        "colab": {
          "base_uri": "https://localhost:8080/"
        },
        "id": "TF-ZW7MaIyYW",
        "outputId": "7d7bd8c9-ef30-42a1-8dd0-90f1ba9ca97f"
      },
      "execution_count": 47,
      "outputs": [
        {
          "output_type": "stream",
          "name": "stdout",
          "text": [
            "(64, 50, 8427) # (batch_size, sequence_length, vocab_size)\n"
          ]
        }
      ]
    },
    {
      "cell_type": "code",
      "source": [
        "model.summary()"
      ],
      "metadata": {
        "colab": {
          "base_uri": "https://localhost:8080/"
        },
        "id": "kV7bd1jdIyaB",
        "outputId": "7158a7b5-6ab5-49eb-fa08-dc57bda0e117"
      },
      "execution_count": 48,
      "outputs": [
        {
          "output_type": "stream",
          "name": "stdout",
          "text": [
            "Model: \"sequential\"\n",
            "_________________________________________________________________\n",
            " Layer (type)                Output Shape              Param #   \n",
            "=================================================================\n",
            " embedding (Embedding)       (None, None, 128)         1078656   \n",
            "                                                                 \n",
            " gru (GRU)                   (None, None, 1024)        3545088   \n",
            "                                                                 \n",
            " gru_1 (GRU)                 (None, None, 1024)        6297600   \n",
            "                                                                 \n",
            " gru_2 (GRU)                 (None, None, 1024)        6297600   \n",
            "                                                                 \n",
            " dense (Dense)               (None, None, 8427)        8637675   \n",
            "                                                                 \n",
            "=================================================================\n",
            "Total params: 25,856,619\n",
            "Trainable params: 25,856,619\n",
            "Non-trainable params: 0\n",
            "_________________________________________________________________\n"
          ]
        }
      ]
    },
    {
      "cell_type": "code",
      "source": [
        "example_batch_predictions[0]"
      ],
      "metadata": {
        "colab": {
          "base_uri": "https://localhost:8080/"
        },
        "id": "7GQ4Z1iPIybW",
        "outputId": "53e08ba9-8822-4b74-f82e-a4b218cbaf37"
      },
      "execution_count": 49,
      "outputs": [
        {
          "output_type": "execute_result",
          "data": {
            "text/plain": [
              "<tf.Tensor: shape=(50, 8427), dtype=float32, numpy=\n",
              "array([[-2.11247519e-04, -4.92446648e-04,  1.53959656e-04, ...,\n",
              "        -7.24026395e-05, -2.15041538e-04,  1.75769746e-04],\n",
              "       [-4.27933701e-04, -8.09994410e-04, -5.78693798e-05, ...,\n",
              "         1.11310386e-04, -4.08001710e-04,  2.35781772e-04],\n",
              "       [-4.45326092e-04, -8.05551419e-04, -3.49194192e-06, ...,\n",
              "         1.89978731e-04, -7.25351856e-04, -3.49327136e-04],\n",
              "       ...,\n",
              "       [-2.21765353e-04, -9.09685856e-04, -3.43999738e-04, ...,\n",
              "         1.53568003e-03,  2.62600050e-04,  5.71347598e-04],\n",
              "       [-4.51837492e-04, -5.76044898e-04, -1.95283865e-04, ...,\n",
              "         1.34727766e-03, -2.02961077e-04,  1.66701051e-04],\n",
              "       [-3.03942390e-04, -2.87522125e-04,  1.35594819e-04, ...,\n",
              "         9.28442751e-04, -4.94893815e-04, -3.98775272e-04]], dtype=float32)>"
            ]
          },
          "metadata": {},
          "execution_count": 49
        }
      ]
    },
    {
      "cell_type": "code",
      "source": [
        "sampled_indices = tf.random.categorical(example_batch_predictions[0], num_samples=1)\n",
        "sampled_indices = tf.squeeze(sampled_indices,axis=-1).numpy()\n",
        "sampled_indices"
      ],
      "metadata": {
        "colab": {
          "base_uri": "https://localhost:8080/"
        },
        "id": "xwUKW0BBIycj",
        "outputId": "5bbb4b71-4793-49ec-bc11-b5a4f202680a"
      },
      "execution_count": 50,
      "outputs": [
        {
          "output_type": "execute_result",
          "data": {
            "text/plain": [
              "array([7738, 2063,  693, 4260, 2636, 6058, 2111,  280, 1174,  713, 8237,\n",
              "        463, 2102, 6057, 4179, 2839, 1449, 6100, 7990, 5563, 6892,  717,\n",
              "       4712, 1182, 1925,  741, 5725, 3832, 2895, 6874, 6402, 5736, 5040,\n",
              "       7625, 4757, 1546, 7383, 7192, 1578, 6192, 5808,  768,  742, 4139,\n",
              "       3417, 5283, 2797, 6167,  674, 8394])"
            ]
          },
          "metadata": {},
          "execution_count": 50
        }
      ]
    },
    {
      "cell_type": "code",
      "source": [
        "# print(idx2word[input_example_batch[0]])\n",
        "print(\"Input: \\n\", repr(\" \".join(idx2word[input_example_batch[0]])))\n",
        "print()\n",
        "# print(\"Next Word Predictions: \\n\", repr(\"\".join(idx2word[8426])))\n",
        "print(\"Next Word Predictions: \\n\", repr(\" \".join(idx2word[sampled_indices])))"
      ],
      "metadata": {
        "colab": {
          "base_uri": "https://localhost:8080/"
        },
        "id": "uLmbLd12Iyds",
        "outputId": "61255c96-2b69-4c96-9b90-c7260d882b0d"
      },
      "execution_count": 51,
      "outputs": [
        {
          "output_type": "stream",
          "name": "stdout",
          "text": [
            "Input: \n",
            " 'благословляя колеи  \\n и рвы отеческой земли зато зимы порой холодной  \\n езда приятна и легка  \\n как стих без мысли в песне модной  \\n дорога зимняя гладка  \\n автомедоны наши бойки  \\n неутомимы наши тройки  \\n и версты теша праздный взор  \\n в глазах мелькают как забор 43  \\n'\n",
            "\n",
            "Next Word Predictions: \n",
            " 'умы журнальной веселились огнем казаться растворила завеса бесконечный выражает весть шалунью брака забыт рассыпался обман кончину гроб резвилась хоры признаться сплетен ветвей первых высказывал единой вечное пронзенный небреженьем красногорья сошел сгустились просит поедем угрюм перстами дать тогосего счастию де роняет пружина вздохи вечности няни минуту посох кой рождающийся верная ягоды'\n"
          ]
        }
      ]
    },
    {
      "cell_type": "markdown",
      "source": [
        "## Train the model"
      ],
      "metadata": {
        "id": "wjcxEebgVhlb"
      }
    },
    {
      "cell_type": "code",
      "source": [
        "def loss(labels, logits):\n",
        "    return tf.keras.losses.sparse_categorical_crossentropy(labels, logits, from_logits=True)\n",
        "\n",
        "example_batch_loss = loss(target_example_batch, example_batch_predictions)\n",
        "print(\"Prediction shape: \", example_batch_predictions.shape, \" # (batch_size, sequence_length, vocab_size)\")\n",
        "print(\"scalar_loss:      \", example_batch_loss.numpy().mean())"
      ],
      "metadata": {
        "colab": {
          "base_uri": "https://localhost:8080/"
        },
        "id": "jNoAY5O3Iyez",
        "outputId": "1d459cf5-7982-4dd7-ed8b-7d9e551867c1"
      },
      "execution_count": 52,
      "outputs": [
        {
          "output_type": "stream",
          "name": "stdout",
          "text": [
            "Prediction shape:  (64, 50, 8427)  # (batch_size, sequence_length, vocab_size)\n",
            "scalar_loss:       9.039164\n"
          ]
        }
      ]
    },
    {
      "cell_type": "code",
      "source": [
        "model.compile(optimizer='adam', loss=loss)"
      ],
      "metadata": {
        "id": "cH13m2dRVutm"
      },
      "execution_count": 53,
      "outputs": []
    },
    {
      "cell_type": "markdown",
      "source": [
        "### Configure checkpoints"
      ],
      "metadata": {
        "id": "ntTGRaVLV2MR"
      }
    },
    {
      "cell_type": "code",
      "source": [
        "# Directory where the checkpoints will be saved\n",
        "checkpoint_dir = './training_checkpoints'\n",
        "# Name of the checkpoint files\n",
        "checkpoint_prefix = os.path.join(checkpoint_dir, \"ckpt_{epoch}\")\n",
        "\n",
        "checkpoint_callback = tf.keras.callbacks.ModelCheckpoint(\n",
        "    filepath=checkpoint_prefix,\n",
        "    # save_freq=88*5,\n",
        "    period=20,\n",
        "    save_weights_only=True)"
      ],
      "metadata": {
        "colab": {
          "base_uri": "https://localhost:8080/"
        },
        "id": "rKKXaPHLVxau",
        "outputId": "921d27e6-5a29-4c67-9fd5-45216109fab6"
      },
      "execution_count": 54,
      "outputs": [
        {
          "output_type": "stream",
          "name": "stdout",
          "text": [
            "WARNING:tensorflow:`period` argument is deprecated. Please use `save_freq` to specify the frequency in number of batches seen.\n"
          ]
        }
      ]
    },
    {
      "cell_type": "markdown",
      "source": [
        "### Execute the training"
      ],
      "metadata": {
        "id": "6N0mjMrqWGxh"
      }
    },
    {
      "cell_type": "code",
      "source": [
        "EPOCHS = 200"
      ],
      "metadata": {
        "id": "F2GqqKUnV85O"
      },
      "execution_count": 55,
      "outputs": []
    },
    {
      "cell_type": "code",
      "source": [
        "history = model.fit(dataset, epochs=EPOCHS, callbacks=[checkpoint_callback])"
      ],
      "metadata": {
        "colab": {
          "base_uri": "https://localhost:8080/"
        },
        "id": "JNVUxrvHWJjh",
        "outputId": "f74a4545-51a4-478c-8cbc-b762726cc2be"
      },
      "execution_count": 56,
      "outputs": [
        {
          "output_type": "stream",
          "name": "stdout",
          "text": [
            "Epoch 1/200\n",
            "8/8 [==============================] - 5s 151ms/step - loss: 8.5943\n",
            "Epoch 2/200\n",
            "8/8 [==============================] - 1s 144ms/step - loss: 7.4837\n",
            "Epoch 3/200\n",
            "8/8 [==============================] - 1s 147ms/step - loss: 7.1130\n",
            "Epoch 4/200\n",
            "8/8 [==============================] - 1s 146ms/step - loss: 7.0177\n",
            "Epoch 5/200\n",
            "8/8 [==============================] - 1s 147ms/step - loss: 6.9749\n",
            "Epoch 6/200\n",
            "8/8 [==============================] - 1s 145ms/step - loss: 6.9454\n",
            "Epoch 7/200\n",
            "8/8 [==============================] - 1s 142ms/step - loss: 6.9381\n",
            "Epoch 8/200\n",
            "8/8 [==============================] - 1s 142ms/step - loss: 6.9255\n",
            "Epoch 9/200\n",
            "8/8 [==============================] - 1s 141ms/step - loss: 6.9078\n",
            "Epoch 10/200\n",
            "8/8 [==============================] - 1s 142ms/step - loss: 6.8949\n",
            "Epoch 11/200\n",
            "8/8 [==============================] - 1s 142ms/step - loss: 6.8885\n",
            "Epoch 12/200\n",
            "8/8 [==============================] - 1s 141ms/step - loss: 6.8895\n",
            "Epoch 13/200\n",
            "8/8 [==============================] - 1s 142ms/step - loss: 6.8802\n",
            "Epoch 14/200\n",
            "8/8 [==============================] - 1s 142ms/step - loss: 6.8734\n",
            "Epoch 15/200\n",
            "8/8 [==============================] - 1s 143ms/step - loss: 6.8638\n",
            "Epoch 16/200\n",
            "8/8 [==============================] - 1s 143ms/step - loss: 6.8498\n",
            "Epoch 17/200\n",
            "8/8 [==============================] - 1s 144ms/step - loss: 6.8357\n",
            "Epoch 18/200\n",
            "8/8 [==============================] - 1s 166ms/step - loss: 6.8202\n",
            "Epoch 19/200\n",
            "8/8 [==============================] - 1s 143ms/step - loss: 6.7937\n",
            "Epoch 20/200\n",
            "8/8 [==============================] - 2s 265ms/step - loss: 6.7685\n",
            "Epoch 21/200\n",
            "8/8 [==============================] - 1s 143ms/step - loss: 6.7458\n",
            "Epoch 22/200\n",
            "8/8 [==============================] - 1s 144ms/step - loss: 6.7106\n",
            "Epoch 23/200\n",
            "8/8 [==============================] - 1s 144ms/step - loss: 6.6757\n",
            "Epoch 24/200\n",
            "8/8 [==============================] - 1s 144ms/step - loss: 6.6481\n",
            "Epoch 25/200\n",
            "8/8 [==============================] - 1s 145ms/step - loss: 6.6236\n",
            "Epoch 26/200\n",
            "8/8 [==============================] - 1s 144ms/step - loss: 6.5956\n",
            "Epoch 27/200\n",
            "8/8 [==============================] - 1s 145ms/step - loss: 6.5729\n",
            "Epoch 28/200\n",
            "8/8 [==============================] - 1s 144ms/step - loss: 6.5530\n",
            "Epoch 29/200\n",
            "8/8 [==============================] - 1s 145ms/step - loss: 6.5286\n",
            "Epoch 30/200\n",
            "8/8 [==============================] - 1s 145ms/step - loss: 6.5052\n",
            "Epoch 31/200\n",
            "8/8 [==============================] - 1s 145ms/step - loss: 6.4741\n",
            "Epoch 32/200\n",
            "8/8 [==============================] - 1s 145ms/step - loss: 6.4567\n",
            "Epoch 33/200\n",
            "8/8 [==============================] - 1s 145ms/step - loss: 6.4182\n",
            "Epoch 34/200\n",
            "8/8 [==============================] - 1s 145ms/step - loss: 6.3834\n",
            "Epoch 35/200\n",
            "8/8 [==============================] - 1s 147ms/step - loss: 6.3426\n",
            "Epoch 36/200\n",
            "8/8 [==============================] - 1s 146ms/step - loss: 6.2986\n",
            "Epoch 37/200\n",
            "8/8 [==============================] - 1s 146ms/step - loss: 6.2533\n",
            "Epoch 38/200\n",
            "8/8 [==============================] - 1s 147ms/step - loss: 6.2253\n",
            "Epoch 39/200\n",
            "8/8 [==============================] - 1s 146ms/step - loss: 6.1645\n",
            "Epoch 40/200\n",
            "8/8 [==============================] - 2s 244ms/step - loss: 6.1062\n",
            "Epoch 41/200\n",
            "8/8 [==============================] - 1s 148ms/step - loss: 6.0297\n",
            "Epoch 42/200\n",
            "8/8 [==============================] - 1s 147ms/step - loss: 5.9527\n",
            "Epoch 43/200\n",
            "8/8 [==============================] - 1s 147ms/step - loss: 5.8917\n",
            "Epoch 44/200\n",
            "8/8 [==============================] - 1s 147ms/step - loss: 5.8316\n",
            "Epoch 45/200\n",
            "8/8 [==============================] - 1s 147ms/step - loss: 5.7674\n",
            "Epoch 46/200\n",
            "8/8 [==============================] - 1s 147ms/step - loss: 5.7078\n",
            "Epoch 47/200\n",
            "8/8 [==============================] - 1s 147ms/step - loss: 5.6430\n",
            "Epoch 48/200\n",
            "8/8 [==============================] - 1s 148ms/step - loss: 5.5909\n",
            "Epoch 49/200\n",
            "8/8 [==============================] - 1s 147ms/step - loss: 5.5195\n",
            "Epoch 50/200\n",
            "8/8 [==============================] - 1s 148ms/step - loss: 5.4576\n",
            "Epoch 51/200\n",
            "8/8 [==============================] - 1s 148ms/step - loss: 5.4066\n",
            "Epoch 52/200\n",
            "8/8 [==============================] - 1s 148ms/step - loss: 5.3359\n",
            "Epoch 53/200\n",
            "8/8 [==============================] - 1s 149ms/step - loss: 5.3023\n",
            "Epoch 54/200\n",
            "8/8 [==============================] - 1s 148ms/step - loss: 5.2514\n",
            "Epoch 55/200\n",
            "8/8 [==============================] - 1s 149ms/step - loss: 5.1988\n",
            "Epoch 56/200\n",
            "8/8 [==============================] - 1s 148ms/step - loss: 5.1512\n",
            "Epoch 57/200\n",
            "8/8 [==============================] - 1s 149ms/step - loss: 5.1040\n",
            "Epoch 58/200\n",
            "8/8 [==============================] - 1s 150ms/step - loss: 5.0753\n",
            "Epoch 59/200\n",
            "8/8 [==============================] - 1s 150ms/step - loss: 5.0316\n",
            "Epoch 60/200\n",
            "8/8 [==============================] - 2s 246ms/step - loss: 4.9848\n",
            "Epoch 61/200\n",
            "8/8 [==============================] - 1s 151ms/step - loss: 4.9439\n",
            "Epoch 62/200\n",
            "8/8 [==============================] - 1s 150ms/step - loss: 4.9067\n",
            "Epoch 63/200\n",
            "8/8 [==============================] - 1s 150ms/step - loss: 4.8666\n",
            "Epoch 64/200\n",
            "8/8 [==============================] - 1s 151ms/step - loss: 4.8191\n",
            "Epoch 65/200\n",
            "8/8 [==============================] - 1s 150ms/step - loss: 4.7752\n",
            "Epoch 66/200\n",
            "8/8 [==============================] - 1s 151ms/step - loss: 4.7484\n",
            "Epoch 67/200\n",
            "8/8 [==============================] - 1s 151ms/step - loss: 4.7002\n",
            "Epoch 68/200\n",
            "8/8 [==============================] - 1s 150ms/step - loss: 4.6333\n",
            "Epoch 69/200\n",
            "8/8 [==============================] - 1s 151ms/step - loss: 4.5914\n",
            "Epoch 70/200\n",
            "8/8 [==============================] - 1s 152ms/step - loss: 4.5452\n",
            "Epoch 71/200\n",
            "8/8 [==============================] - 1s 151ms/step - loss: 4.4753\n",
            "Epoch 72/200\n",
            "8/8 [==============================] - 1s 151ms/step - loss: 4.4698\n",
            "Epoch 73/200\n",
            "8/8 [==============================] - 1s 152ms/step - loss: 4.4341\n",
            "Epoch 74/200\n",
            "8/8 [==============================] - 1s 151ms/step - loss: 4.3743\n",
            "Epoch 75/200\n",
            "8/8 [==============================] - 1s 151ms/step - loss: 4.3233\n",
            "Epoch 76/200\n",
            "8/8 [==============================] - 1s 151ms/step - loss: 4.3080\n",
            "Epoch 77/200\n",
            "8/8 [==============================] - 1s 153ms/step - loss: 4.2452\n",
            "Epoch 78/200\n",
            "8/8 [==============================] - 1s 154ms/step - loss: 4.2072\n",
            "Epoch 79/200\n",
            "8/8 [==============================] - 1s 151ms/step - loss: 4.1615\n",
            "Epoch 80/200\n",
            "8/8 [==============================] - 2s 248ms/step - loss: 4.1510\n",
            "Epoch 81/200\n",
            "8/8 [==============================] - 1s 151ms/step - loss: 4.0879\n",
            "Epoch 82/200\n",
            "8/8 [==============================] - 1s 151ms/step - loss: 4.0671\n",
            "Epoch 83/200\n",
            "8/8 [==============================] - 1s 151ms/step - loss: 4.0209\n",
            "Epoch 84/200\n",
            "8/8 [==============================] - 1s 151ms/step - loss: 3.9697\n",
            "Epoch 85/200\n",
            "8/8 [==============================] - 1s 150ms/step - loss: 3.9576\n",
            "Epoch 86/200\n",
            "8/8 [==============================] - 1s 150ms/step - loss: 3.8992\n",
            "Epoch 87/200\n",
            "8/8 [==============================] - 1s 149ms/step - loss: 3.8766\n",
            "Epoch 88/200\n",
            "8/8 [==============================] - 1s 150ms/step - loss: 3.8377\n",
            "Epoch 89/200\n",
            "8/8 [==============================] - 1s 150ms/step - loss: 3.8051\n",
            "Epoch 90/200\n",
            "8/8 [==============================] - 1s 150ms/step - loss: 3.7485\n",
            "Epoch 91/200\n",
            "8/8 [==============================] - 1s 151ms/step - loss: 3.7369\n",
            "Epoch 92/200\n",
            "8/8 [==============================] - 1s 150ms/step - loss: 3.6985\n",
            "Epoch 93/200\n",
            "8/8 [==============================] - 1s 149ms/step - loss: 3.6530\n",
            "Epoch 94/200\n",
            "8/8 [==============================] - 1s 150ms/step - loss: 3.6122\n",
            "Epoch 95/200\n",
            "8/8 [==============================] - 1s 151ms/step - loss: 3.5994\n",
            "Epoch 96/200\n",
            "8/8 [==============================] - 1s 150ms/step - loss: 3.5558\n",
            "Epoch 97/200\n",
            "8/8 [==============================] - 1s 149ms/step - loss: 3.5240\n",
            "Epoch 98/200\n",
            "8/8 [==============================] - 1s 151ms/step - loss: 3.4982\n",
            "Epoch 99/200\n",
            "8/8 [==============================] - 1s 149ms/step - loss: 3.4677\n",
            "Epoch 100/200\n",
            "8/8 [==============================] - 2s 263ms/step - loss: 3.4382\n",
            "Epoch 101/200\n",
            "8/8 [==============================] - 1s 150ms/step - loss: 3.3943\n",
            "Epoch 102/200\n",
            "8/8 [==============================] - 1s 150ms/step - loss: 3.3605\n",
            "Epoch 103/200\n",
            "8/8 [==============================] - 1s 149ms/step - loss: 3.3532\n",
            "Epoch 104/200\n",
            "8/8 [==============================] - 1s 149ms/step - loss: 3.3251\n",
            "Epoch 105/200\n",
            "8/8 [==============================] - 1s 149ms/step - loss: 3.3147\n",
            "Epoch 106/200\n",
            "8/8 [==============================] - 1s 150ms/step - loss: 3.2823\n",
            "Epoch 107/200\n",
            "8/8 [==============================] - 1s 150ms/step - loss: 3.2491\n",
            "Epoch 108/200\n",
            "8/8 [==============================] - 1s 149ms/step - loss: 3.2085\n",
            "Epoch 109/200\n",
            "8/8 [==============================] - 1s 149ms/step - loss: 3.1931\n",
            "Epoch 110/200\n",
            "8/8 [==============================] - 1s 149ms/step - loss: 3.1453\n",
            "Epoch 111/200\n",
            "8/8 [==============================] - 1s 150ms/step - loss: 3.1188\n",
            "Epoch 112/200\n",
            "8/8 [==============================] - 1s 150ms/step - loss: 3.0955\n",
            "Epoch 113/200\n",
            "8/8 [==============================] - 1s 150ms/step - loss: 3.0524\n",
            "Epoch 114/200\n",
            "8/8 [==============================] - 1s 149ms/step - loss: 3.0300\n",
            "Epoch 115/200\n",
            "8/8 [==============================] - 1s 150ms/step - loss: 3.0007\n",
            "Epoch 116/200\n",
            "8/8 [==============================] - 1s 149ms/step - loss: 2.9468\n",
            "Epoch 117/200\n",
            "8/8 [==============================] - 1s 150ms/step - loss: 2.9095\n",
            "Epoch 118/200\n",
            "8/8 [==============================] - 1s 151ms/step - loss: 2.8926\n",
            "Epoch 119/200\n",
            "8/8 [==============================] - 1s 150ms/step - loss: 2.8758\n",
            "Epoch 120/200\n",
            "8/8 [==============================] - 2s 247ms/step - loss: 2.8245\n",
            "Epoch 121/200\n",
            "8/8 [==============================] - 1s 150ms/step - loss: 2.8123\n",
            "Epoch 122/200\n",
            "8/8 [==============================] - 1s 149ms/step - loss: 2.7882\n",
            "Epoch 123/200\n",
            "8/8 [==============================] - 1s 150ms/step - loss: 2.7498\n",
            "Epoch 124/200\n",
            "8/8 [==============================] - 1s 150ms/step - loss: 2.7298\n",
            "Epoch 125/200\n",
            "8/8 [==============================] - 1s 151ms/step - loss: 2.6844\n",
            "Epoch 126/200\n",
            "8/8 [==============================] - 1s 149ms/step - loss: 2.6841\n",
            "Epoch 127/200\n",
            "8/8 [==============================] - 1s 150ms/step - loss: 2.6381\n",
            "Epoch 128/200\n",
            "8/8 [==============================] - 1s 150ms/step - loss: 2.6073\n",
            "Epoch 129/200\n",
            "8/8 [==============================] - 1s 150ms/step - loss: 2.5964\n",
            "Epoch 130/200\n",
            "8/8 [==============================] - 1s 151ms/step - loss: 2.5652\n",
            "Epoch 131/200\n",
            "8/8 [==============================] - 1s 151ms/step - loss: 2.5441\n",
            "Epoch 132/200\n",
            "8/8 [==============================] - 1s 150ms/step - loss: 2.4992\n",
            "Epoch 133/200\n",
            "8/8 [==============================] - 1s 150ms/step - loss: 2.4666\n",
            "Epoch 134/200\n",
            "8/8 [==============================] - 1s 149ms/step - loss: 2.4561\n",
            "Epoch 135/200\n",
            "8/8 [==============================] - 1s 150ms/step - loss: 2.4235\n",
            "Epoch 136/200\n",
            "8/8 [==============================] - 1s 151ms/step - loss: 2.3895\n",
            "Epoch 137/200\n",
            "8/8 [==============================] - 1s 149ms/step - loss: 2.3746\n",
            "Epoch 138/200\n",
            "8/8 [==============================] - 1s 150ms/step - loss: 2.3785\n",
            "Epoch 139/200\n",
            "8/8 [==============================] - 1s 149ms/step - loss: 2.3527\n",
            "Epoch 140/200\n",
            "8/8 [==============================] - 2s 256ms/step - loss: 2.3067\n",
            "Epoch 141/200\n",
            "8/8 [==============================] - 1s 150ms/step - loss: 2.2974\n",
            "Epoch 142/200\n",
            "8/8 [==============================] - 1s 150ms/step - loss: 2.2774\n",
            "Epoch 143/200\n",
            "8/8 [==============================] - 1s 151ms/step - loss: 2.2599\n",
            "Epoch 144/200\n",
            "8/8 [==============================] - 1s 150ms/step - loss: 2.2370\n",
            "Epoch 145/200\n",
            "8/8 [==============================] - 1s 151ms/step - loss: 2.1870\n",
            "Epoch 146/200\n",
            "8/8 [==============================] - 1s 151ms/step - loss: 2.1723\n",
            "Epoch 147/200\n",
            "8/8 [==============================] - 1s 151ms/step - loss: 2.1535\n",
            "Epoch 148/200\n",
            "8/8 [==============================] - 1s 151ms/step - loss: 2.1310\n",
            "Epoch 149/200\n",
            "8/8 [==============================] - 1s 150ms/step - loss: 2.0987\n",
            "Epoch 150/200\n",
            "8/8 [==============================] - 1s 150ms/step - loss: 2.0651\n",
            "Epoch 151/200\n",
            "8/8 [==============================] - 1s 150ms/step - loss: 2.0553\n",
            "Epoch 152/200\n",
            "8/8 [==============================] - 1s 150ms/step - loss: 2.0208\n",
            "Epoch 153/200\n",
            "8/8 [==============================] - 1s 150ms/step - loss: 2.0107\n",
            "Epoch 154/200\n",
            "8/8 [==============================] - 1s 151ms/step - loss: 1.9767\n",
            "Epoch 155/200\n",
            "8/8 [==============================] - 1s 149ms/step - loss: 1.9673\n",
            "Epoch 156/200\n",
            "8/8 [==============================] - 1s 151ms/step - loss: 1.9284\n",
            "Epoch 157/200\n",
            "8/8 [==============================] - 1s 152ms/step - loss: 1.9199\n",
            "Epoch 158/200\n",
            "8/8 [==============================] - 1s 150ms/step - loss: 1.9117\n",
            "Epoch 159/200\n",
            "8/8 [==============================] - 1s 150ms/step - loss: 1.8700\n",
            "Epoch 160/200\n",
            "8/8 [==============================] - 2s 304ms/step - loss: 1.8683\n",
            "Epoch 161/200\n",
            "8/8 [==============================] - 1s 150ms/step - loss: 1.8365\n",
            "Epoch 162/200\n",
            "8/8 [==============================] - 1s 150ms/step - loss: 1.8168\n",
            "Epoch 163/200\n",
            "8/8 [==============================] - 1s 151ms/step - loss: 1.8183\n",
            "Epoch 164/200\n",
            "8/8 [==============================] - 1s 150ms/step - loss: 1.7981\n",
            "Epoch 165/200\n",
            "8/8 [==============================] - 1s 151ms/step - loss: 1.7857\n",
            "Epoch 166/200\n",
            "8/8 [==============================] - 1s 151ms/step - loss: 1.7688\n",
            "Epoch 167/200\n",
            "8/8 [==============================] - 1s 150ms/step - loss: 1.7452\n",
            "Epoch 168/200\n",
            "8/8 [==============================] - 1s 150ms/step - loss: 1.7611\n",
            "Epoch 169/200\n",
            "8/8 [==============================] - 1s 151ms/step - loss: 1.7797\n",
            "Epoch 170/200\n",
            "8/8 [==============================] - 1s 151ms/step - loss: 1.7658\n",
            "Epoch 171/200\n",
            "8/8 [==============================] - 1s 151ms/step - loss: 1.7656\n",
            "Epoch 172/200\n",
            "8/8 [==============================] - 1s 151ms/step - loss: 1.7485\n",
            "Epoch 173/200\n",
            "8/8 [==============================] - 1s 150ms/step - loss: 1.7298\n",
            "Epoch 174/200\n",
            "8/8 [==============================] - 1s 151ms/step - loss: 1.7037\n",
            "Epoch 175/200\n",
            "8/8 [==============================] - 1s 150ms/step - loss: 1.6862\n",
            "Epoch 176/200\n",
            "8/8 [==============================] - 1s 150ms/step - loss: 1.6481\n",
            "Epoch 177/200\n",
            "8/8 [==============================] - 1s 151ms/step - loss: 1.6162\n",
            "Epoch 178/200\n",
            "8/8 [==============================] - 1s 151ms/step - loss: 1.5863\n",
            "Epoch 179/200\n",
            "8/8 [==============================] - 1s 151ms/step - loss: 1.5514\n",
            "Epoch 180/200\n",
            "8/8 [==============================] - 2s 246ms/step - loss: 1.5190\n",
            "Epoch 181/200\n",
            "8/8 [==============================] - 1s 151ms/step - loss: 1.5029\n",
            "Epoch 182/200\n",
            "8/8 [==============================] - 1s 151ms/step - loss: 1.4892\n",
            "Epoch 183/200\n",
            "8/8 [==============================] - 1s 151ms/step - loss: 1.4524\n",
            "Epoch 184/200\n",
            "8/8 [==============================] - 1s 151ms/step - loss: 1.4390\n",
            "Epoch 185/200\n",
            "8/8 [==============================] - 1s 150ms/step - loss: 1.4072\n",
            "Epoch 186/200\n",
            "8/8 [==============================] - 1s 151ms/step - loss: 1.3932\n",
            "Epoch 187/200\n",
            "8/8 [==============================] - 1s 151ms/step - loss: 1.3795\n",
            "Epoch 188/200\n",
            "8/8 [==============================] - 1s 150ms/step - loss: 1.3672\n",
            "Epoch 189/200\n",
            "8/8 [==============================] - 1s 150ms/step - loss: 1.3448\n",
            "Epoch 190/200\n",
            "8/8 [==============================] - 1s 150ms/step - loss: 1.3297\n",
            "Epoch 191/200\n",
            "8/8 [==============================] - 1s 151ms/step - loss: 1.3136\n",
            "Epoch 192/200\n",
            "8/8 [==============================] - 1s 151ms/step - loss: 1.3039\n",
            "Epoch 193/200\n",
            "8/8 [==============================] - 1s 151ms/step - loss: 1.2961\n",
            "Epoch 194/200\n",
            "8/8 [==============================] - 1s 151ms/step - loss: 1.2789\n",
            "Epoch 195/200\n",
            "8/8 [==============================] - 1s 151ms/step - loss: 1.2537\n",
            "Epoch 196/200\n",
            "8/8 [==============================] - 1s 151ms/step - loss: 1.2449\n",
            "Epoch 197/200\n",
            "8/8 [==============================] - 1s 151ms/step - loss: 1.2278\n",
            "Epoch 198/200\n",
            "8/8 [==============================] - 1s 151ms/step - loss: 1.2048\n",
            "Epoch 199/200\n",
            "8/8 [==============================] - 1s 150ms/step - loss: 1.1924\n",
            "Epoch 200/200\n",
            "8/8 [==============================] - 2s 255ms/step - loss: 1.1790\n"
          ]
        }
      ]
    },
    {
      "cell_type": "markdown",
      "source": [
        "## Generate text"
      ],
      "metadata": {
        "id": "mbYZxLdhWQFC"
      }
    },
    {
      "cell_type": "code",
      "source": [
        "tf.train.latest_checkpoint(checkpoint_dir)"
      ],
      "metadata": {
        "colab": {
          "base_uri": "https://localhost:8080/",
          "height": 36
        },
        "id": "v1bYtvJzWLEj",
        "outputId": "871f7aa9-64c7-4c1b-d107-d8651208b2ec"
      },
      "execution_count": 57,
      "outputs": [
        {
          "output_type": "execute_result",
          "data": {
            "text/plain": [
              "'./training_checkpoints/ckpt_200'"
            ],
            "application/vnd.google.colaboratory.intrinsic+json": {
              "type": "string"
            }
          },
          "metadata": {},
          "execution_count": 57
        }
      ]
    },
    {
      "cell_type": "code",
      "source": [
        "model = build_model(vocab_size, embedding_dim, rnn_units, batch_size=1)\n",
        "model.load_weights(tf.train.latest_checkpoint(checkpoint_dir))\n",
        "model.build(tf.TensorShape([1, None]))"
      ],
      "metadata": {
        "id": "KYhwHyx_W7o0"
      },
      "execution_count": 58,
      "outputs": []
    },
    {
      "cell_type": "code",
      "source": [
        "model.summary()"
      ],
      "metadata": {
        "colab": {
          "base_uri": "https://localhost:8080/"
        },
        "id": "UEdlWMJqW89H",
        "outputId": "add3db4e-b59b-4da2-8d9c-117584f71f70"
      },
      "execution_count": 59,
      "outputs": [
        {
          "output_type": "stream",
          "name": "stdout",
          "text": [
            "Model: \"sequential_1\"\n",
            "_________________________________________________________________\n",
            " Layer (type)                Output Shape              Param #   \n",
            "=================================================================\n",
            " embedding_1 (Embedding)     (None, None, 128)         1078656   \n",
            "                                                                 \n",
            " gru_3 (GRU)                 (None, None, 1024)        3545088   \n",
            "                                                                 \n",
            " gru_4 (GRU)                 (None, None, 1024)        6297600   \n",
            "                                                                 \n",
            " gru_5 (GRU)                 (None, None, 1024)        6297600   \n",
            "                                                                 \n",
            " dense_1 (Dense)             (None, None, 8427)        8637675   \n",
            "                                                                 \n",
            "=================================================================\n",
            "Total params: 25,856,619\n",
            "Trainable params: 25,856,619\n",
            "Non-trainable params: 0\n",
            "_________________________________________________________________\n"
          ]
        }
      ]
    },
    {
      "cell_type": "code",
      "source": [
        "def generate_text(model, start_string, tmprt):\n",
        "    # Evaluation step (generating text using the learned model)\n",
        "\n",
        "    start_string = exclude_punctuation(start_string)\n",
        "    #print(start_string)\n",
        "    start_string_asis = preprocess_text(start_string)\n",
        "\n",
        "    # Number of characters to generate\n",
        "    num_generate = 30\n",
        "\n",
        "    # Converting our start string to numbers (vectorizing)\n",
        "    input_eval = [word2idx[s] for s in start_string_asis]\n",
        "    input_eval = tf.expand_dims(input_eval, 0)\n",
        "\n",
        "    # Empty string to store our results\n",
        "    text_generated = []\n",
        "\n",
        "    # Low temperature results in more predictable text.\n",
        "    # Higher temperature results in more surprising text.\n",
        "    # Experiment to find the best setting.\n",
        "    # temperature = 0.1\n",
        "    temperature = tmprt\n",
        "\n",
        "    # Here batch size == 1\n",
        "    model.reset_states()\n",
        "    for i in range(num_generate):\n",
        "        predictions = model(input_eval)\n",
        "        predictions = tf.squeeze(predictions, 0)\n",
        "        # using a categorical distribution to predict the character returned by the model\n",
        "        predictions = predictions / temperature\n",
        "        predicted_id = tf.random.categorical(predictions, num_samples=1)[-1, 0].numpy()\n",
        "\n",
        "        # Pass the predicted character as the next input to the model\n",
        "        # along with the previous hidden state\n",
        "        input_eval = tf.expand_dims([predicted_id], 0)\n",
        "\n",
        "        text_generated.append(idx2word[predicted_id])\n",
        "\n",
        "    return (start_string + ' '.join(text_generated))"
      ],
      "metadata": {
        "id": "nrmC-yEaWUIn"
      },
      "execution_count": 60,
      "outputs": []
    },
    {
      "cell_type": "code",
      "source": [
        "print(generate_text(model, start_string=u\"зима \", tmprt=1.3))"
      ],
      "metadata": {
        "colab": {
          "base_uri": "https://localhost:8080/"
        },
        "id": "J7lFoUhccDmj",
        "outputId": "0badf992-3bc1-4d71-ec25-daf7dbc5b616"
      },
      "execution_count": 61,
      "outputs": [
        {
          "output_type": "stream",
          "name": "stdout",
          "text": [
            "зима крыльца мне душой взором слушал влюбилась неожиданный молвы  \n",
            " девичьих вздор  \n",
            " поскачет русские свеч вздор то крестом несмелой  \n",
            " свободной пробуждена дев чистой уж темно полон ночь стократ свобода\n"
          ]
        }
      ]
    },
    {
      "cell_type": "code",
      "source": [
        "start_string= 'Холодных чистых как зима '"
      ],
      "metadata": {
        "id": "WoWx5_q_mw5E"
      },
      "execution_count": 62,
      "outputs": []
    },
    {
      "cell_type": "code",
      "source": [
        "print(generate_text(model, start_string=start_string, tmprt=1))"
      ],
      "metadata": {
        "colab": {
          "base_uri": "https://localhost:8080/"
        },
        "id": "2dqTktKem-2i",
        "outputId": "11da28bf-59d6-4b08-f78c-889b1e3045ab"
      },
      "execution_count": 63,
      "outputs": [
        {
          "output_type": "stream",
          "name": "stdout",
          "text": [
            "Холодных чистых как зима то журнальной ее застыла  \n",
            " вражда шевельнулась  \n",
            " на потопленные цельным пред хочу в неделю русские свеч крестом полей другим радужным веnеdеttа та мог ее сменил искренней тайны тайны напомнил\n"
          ]
        }
      ]
    },
    {
      "cell_type": "code",
      "source": [
        "print(generate_text(model, start_string=start_string, tmprt=0.5))"
      ],
      "metadata": {
        "colab": {
          "base_uri": "https://localhost:8080/"
        },
        "id": "nxIFKytunBIs",
        "outputId": "a66b96be-5dd1-439f-c7fd-8219ef8f62e3"
      },
      "execution_count": 68,
      "outputs": [
        {
          "output_type": "stream",
          "name": "stdout",
          "text": [
            "Холодных чистых как зима  \n",
            " не имея  \n",
            " и средь полей другим радужным веnеdеttа  \n",
            "  \n",
            "  \n",
            " и тайну  \n",
            "  \n",
            "  \n",
            "  \n",
            "  \n",
            " и злость русские свеч вздор  \n",
            "  \n",
            "  \n",
            " но  \n",
            "\n"
          ]
        }
      ]
    },
    {
      "cell_type": "code",
      "source": [
        "print(generate_text(model, start_string=start_string, tmprt=5))"
      ],
      "metadata": {
        "colab": {
          "base_uri": "https://localhost:8080/"
        },
        "id": "2ANmYTsknKXz",
        "outputId": "9968d78e-9653-40fd-8ddd-f66928116135"
      },
      "execution_count": 65,
      "outputs": [
        {
          "output_type": "stream",
          "name": "stdout",
          "text": [
            "Холодных чистых как зима поэтам прелестной сидят ревнивые попав встает поколенья воскресить уединенье москве умен забудешь героиной тюрьмы мною ты много мыслил полукруг враки речка жертвой язвительному одушевленные беготня столпы зимой ошибкой бутылкой страстный\n"
          ]
        }
      ]
    },
    {
      "cell_type": "code",
      "source": [
        ""
      ],
      "metadata": {
        "id": "LOIjXdLvnWM6"
      },
      "execution_count": 65,
      "outputs": []
    }
  ],
  "metadata": {
    "kernelspec": {
      "display_name": "Python 3.8 (causalml)",
      "language": "python",
      "name": "causalml-py38"
    },
    "language_info": {
      "codemirror_mode": {
        "name": "ipython",
        "version": 3
      },
      "file_extension": ".py",
      "mimetype": "text/x-python",
      "name": "python",
      "nbconvert_exporter": "python",
      "pygments_lexer": "ipython3",
      "version": "3.8.5"
    },
    "colab": {
      "name": "lesson_9_hw_colab.ipynb",
      "provenance": [],
      "collapsed_sections": []
    },
    "accelerator": "GPU",
    "gpuClass": "standard"
  },
  "nbformat": 4,
  "nbformat_minor": 0
}